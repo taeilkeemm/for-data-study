{
  "nbformat": 4,
  "nbformat_minor": 0,
  "metadata": {
    "colab": {
      "name": "백준220109.ipynb",
      "provenance": [],
      "collapsed_sections": [],
      "authorship_tag": "ABX9TyNDiXAgb2ExpYx+1yiHouty",
      "include_colab_link": true
    },
    "kernelspec": {
      "name": "python3",
      "display_name": "Python 3"
    },
    "language_info": {
      "name": "python"
    }
  },
  "cells": [
    {
      "cell_type": "markdown",
      "metadata": {
        "id": "view-in-github",
        "colab_type": "text"
      },
      "source": [
        "<a href=\"https://colab.research.google.com/github/taeilkeemm/fordatastudy/blob/main/%EB%B0%B1%EC%A4%80220109.ipynb\" target=\"_parent\"><img src=\"https://colab.research.google.com/assets/colab-badge.svg\" alt=\"Open In Colab\"/></a>"
      ]
    },
    {
      "cell_type": "code",
      "execution_count": 6,
      "metadata": {
        "colab": {
          "base_uri": "https://localhost:8080/"
        },
        "id": "VDnvrikdlvGB",
        "outputId": "68027c68-2d7a-46ce-9ef8-e82dd70b93f0"
      },
      "outputs": [
        {
          "output_type": "stream",
          "name": "stdout",
          "text": [
            "5\n",
            "1 2 3 4 5\n",
            "1 5\n"
          ]
        }
      ],
      "source": [
        "k = int(input())\n",
        "a = list(map(int, input().split()))\n",
        "print(min(a), max(a))"
      ]
    },
    {
      "cell_type": "code",
      "source": [
        "a = []\n",
        "for i in range(9):\n",
        "  a.append(int(input()))\n",
        "print(max(a))\n",
        "print(int(a.index(max(a)))+1)"
      ],
      "metadata": {
        "colab": {
          "base_uri": "https://localhost:8080/"
        },
        "id": "H4WPUaqZnggo",
        "outputId": "4fc13bab-f747-457e-8970-9d05649aa90c"
      },
      "execution_count": 12,
      "outputs": [
        {
          "output_type": "stream",
          "name": "stdout",
          "text": [
            "1\n",
            "3\n",
            "24\n",
            "35\n",
            "46\n",
            "57\n",
            "2\n",
            "2\n",
            "2\n",
            "57\n",
            "6\n"
          ]
        }
      ]
    },
    {
      "cell_type": "code",
      "source": [
        "a = int(input())\n",
        "b = int(input())\n",
        "c = int(input())\n",
        "num = str(a*b*c)\n",
        "k = list(num)\n",
        "for i in range(0, 10):\n",
        "  print(k.count(str(i)))"
      ],
      "metadata": {
        "colab": {
          "base_uri": "https://localhost:8080/"
        },
        "id": "z47JR4HUn6ea",
        "outputId": "4c878af8-7bfa-4274-cc2a-87099a0cc686"
      },
      "execution_count": 31,
      "outputs": [
        {
          "output_type": "stream",
          "name": "stdout",
          "text": [
            "123\n",
            "123\n",
            "123\n",
            "['1', '8', '6', '0', '8', '6', '7']\n",
            "1\n",
            "1\n",
            "0\n",
            "0\n",
            "0\n",
            "0\n",
            "2\n",
            "1\n",
            "2\n",
            "0\n"
          ]
        }
      ]
    },
    {
      "cell_type": "code",
      "source": [
        "k = []\n",
        "for i in range(10):\n",
        "  a = int(input())%42\n",
        "  k.append(a)\n",
        "k = set(k)\n",
        "print(len(k))"
      ],
      "metadata": {
        "colab": {
          "base_uri": "https://localhost:8080/"
        },
        "id": "2YGg_IV2qQNK",
        "outputId": "4673bed5-5c0c-44f5-c05c-12265087c80a"
      },
      "execution_count": 35,
      "outputs": [
        {
          "output_type": "stream",
          "name": "stdout",
          "text": [
            "3\n",
            "5\n",
            "7\n",
            "7\n",
            "7\n",
            "7\n",
            "7\n",
            "7\n",
            "7\n",
            "7\n",
            "3\n"
          ]
        }
      ]
    },
    {
      "cell_type": "code",
      "source": [
        "k = int(input())\n",
        "w = list(map(int, input().split())) \n",
        "print((sum(w)*100)/(len(w)*max(w)))"
      ],
      "metadata": {
        "colab": {
          "base_uri": "https://localhost:8080/"
        },
        "id": "WmrD0qPOwwCT",
        "outputId": "dbb39aa2-10eb-48ae-aca3-4189fd8dc185"
      },
      "execution_count": 46,
      "outputs": [
        {
          "output_type": "stream",
          "name": "stdout",
          "text": [
            "3\n",
            "13 24 35\n",
            "68.57142857142857\n"
          ]
        }
      ]
    },
    {
      "cell_type": "code",
      "source": [
        ""
      ],
      "metadata": {
        "id": "cL3RnZBPvcTb"
      },
      "execution_count": null,
      "outputs": []
    }
  ]
}