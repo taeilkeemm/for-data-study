{
  "nbformat": 4,
  "nbformat_minor": 0,
  "metadata": {
    "colab": {
      "name": "백준220108.ipynb",
      "provenance": [],
      "collapsed_sections": [],
      "authorship_tag": "ABX9TyPOX4zLdJKJdasbPGfaD0YI",
      "include_colab_link": true
    },
    "kernelspec": {
      "name": "python3",
      "display_name": "Python 3"
    },
    "language_info": {
      "name": "python"
    }
  },
  "cells": [
    {
      "cell_type": "markdown",
      "metadata": {
        "id": "view-in-github",
        "colab_type": "text"
      },
      "source": [
        "<a href=\"https://colab.research.google.com/github/taeilkeemm/fordatastudy/blob/main/%EB%B0%B1%EC%A4%80220108.ipynb\" target=\"_parent\"><img src=\"https://colab.research.google.com/assets/colab-badge.svg\" alt=\"Open In Colab\"/></a>"
      ]
    },
    {
      "cell_type": "code",
      "execution_count": 3,
      "metadata": {
        "colab": {
          "base_uri": "https://localhost:8080/"
        },
        "id": "QNiXL8TToHPz",
        "outputId": "4dec4e9a-35d9-43aa-836d-31ef4838fc16"
      },
      "outputs": [
        {
          "name": "stdout",
          "output_type": "stream",
          "text": [
            "1 3\n",
            "4\n",
            "0 0\n"
          ]
        }
      ],
      "source": [
        "flag = True\n",
        "while flag == True:\n",
        "  a, b = map(int, input().split())\n",
        "  if a == 0 and b ==0 :\n",
        "    flag = False\n",
        "    break\n",
        "  print(a+b)"
      ]
    },
    {
      "cell_type": "code",
      "source": [
        "while True :\n",
        "  try:\n",
        "    a, b = map(int, input().split())\n",
        "    print(a+b) \n",
        "  except:\n",
        "    break"
      ],
      "metadata": {
        "colab": {
          "base_uri": "https://localhost:8080/"
        },
        "id": "ayCFa7v8omQ3",
        "outputId": "0b620ec7-599d-42db-b1b2-55603c3bf1c2"
      },
      "execution_count": 9,
      "outputs": [
        {
          "name": "stdout",
          "output_type": "stream",
          "text": [
            "1 3\n",
            "4\n",
            "1 4\n",
            "5\n",
            "sdflkfjsadf\n"
          ]
        }
      ]
    },
    {
      "cell_type": "code",
      "source": [
        "n = int(input())\n",
        "b = (n%10)*10 + (((n%10)+(n//10))%10)\n",
        "a = 1\n",
        "while  b != n :\n",
        "    b = (b%10)*10 + (((b%10)+(b//10))%10)\n",
        "    a = a + 1\n",
        "print(a)\n",
        "\n"
      ],
      "metadata": {
        "colab": {
          "base_uri": "https://localhost:8080/"
        },
        "id": "MTwv4MWipHWP",
        "outputId": "11a7edc1-16fc-41b0-dab9-d40ba0c54362"
      },
      "execution_count": 26,
      "outputs": [
        {
          "output_type": "stream",
          "name": "stdout",
          "text": [
            "26\n",
            "4\n"
          ]
        }
      ]
    }
  ]
}