{
  "nbformat": 4,
  "nbformat_minor": 0,
  "metadata": {
    "colab": {
      "name": "백준220106.ipynb",
      "provenance": [],
      "collapsed_sections": [],
      "authorship_tag": "ABX9TyMqSqb3dKO9pDarWitw7zR3",
      "include_colab_link": true
    },
    "kernelspec": {
      "name": "python3",
      "display_name": "Python 3"
    },
    "language_info": {
      "name": "python"
    }
  },
  "cells": [
    {
      "cell_type": "markdown",
      "metadata": {
        "id": "view-in-github",
        "colab_type": "text"
      },
      "source": [
        "<a href=\"https://colab.research.google.com/github/taeilkeemm/fordatastudy/blob/main/%EB%B0%B1%EC%A4%80220106.ipynb\" target=\"_parent\"><img src=\"https://colab.research.google.com/assets/colab-badge.svg\" alt=\"Open In Colab\"/></a>"
      ]
    },
    {
      "cell_type": "code",
      "execution_count": 19,
      "metadata": {
        "colab": {
          "base_uri": "https://localhost:8080/"
        },
        "id": "y51ZVHQR7Gro",
        "outputId": "7700a370-c5f7-4ca9-a095-74f3f56a81d9"
      },
      "outputs": [
        {
          "output_type": "stream",
          "name": "stdout",
          "text": [
            "2 3\n",
            "<\n"
          ]
        }
      ],
      "source": [
        "a, b = map(int, input().split())\n",
        "if a > b:\n",
        "  print(\">\")\n",
        "elif a < b:\n",
        "  print(\"<\")\n",
        "elif a==b:\n",
        "  print(\"==\")"
      ]
    },
    {
      "cell_type": "code",
      "source": [
        "a = int(input())\n",
        "if a >= 90:\n",
        "  print(\"A\")\n",
        "elif a >= 80 and a <90:\n",
        "  print(\"B\")\n",
        "elif a >= 70 and a <80:\n",
        "  print(\"C\")\n",
        "elif a >= 60 and a <70:\n",
        "  print(\"D\")\n",
        "else:\n",
        "  print(\"F\") "
      ],
      "metadata": {
        "colab": {
          "base_uri": "https://localhost:8080/"
        },
        "id": "08Tu_uo37ivc",
        "outputId": "95cf265c-22b2-4617-c91d-e178f4e7d9fe"
      },
      "execution_count": 5,
      "outputs": [
        {
          "output_type": "stream",
          "name": "stdout",
          "text": [
            "67\n",
            "D\n"
          ]
        }
      ]
    },
    {
      "cell_type": "code",
      "source": [
        "a = int(input())\n",
        "if a%4 ==0 and a%100 != 0:\n",
        "  print(\"1\")\n",
        "elif a % 400 ==0:\n",
        "  print(\"1\")\n",
        "else:\n",
        "  print(\"0\")"
      ],
      "metadata": {
        "colab": {
          "base_uri": "https://localhost:8080/"
        },
        "id": "Gw-d9BQR8xDw",
        "outputId": "882c3143-199f-4c3c-8e5f-396affd80bfc"
      },
      "execution_count": 11,
      "outputs": [
        {
          "output_type": "stream",
          "name": "stdout",
          "text": [
            "2000\n",
            "1\n"
          ]
        }
      ]
    },
    {
      "cell_type": "code",
      "source": [
        "x = int(input())\n",
        "y = int(input())\n",
        "if x>0 and y>0:\n",
        "  print(\"1\")\n",
        "elif x<0 and y>0:\n",
        "  print(\"2\")\n",
        "elif x<0 and y<0:\n",
        "  print(\"3\")\n",
        "elif x>0 and y<0:\n",
        "  print(\"4\")"
      ],
      "metadata": {
        "colab": {
          "base_uri": "https://localhost:8080/"
        },
        "id": "jpk325RX-ZCX",
        "outputId": "5c5fbb49-1a36-407a-f7fe-a6c01b18af4b"
      },
      "execution_count": 13,
      "outputs": [
        {
          "output_type": "stream",
          "name": "stdout",
          "text": [
            "-13\n",
            "45\n",
            "2\n"
          ]
        }
      ]
    },
    {
      "cell_type": "code",
      "source": [
        "H, M = map(int, input().split())\n",
        "if M >=45:\n",
        "  print(H, M-45)\n",
        "elif M < 45 and H ==0:\n",
        "  print(23, 60+(M-45))\n",
        "elif M <45 and H != 0:\n",
        "  print(H-1, 60+ (M -45))"
      ],
      "metadata": {
        "colab": {
          "base_uri": "https://localhost:8080/"
        },
        "id": "xpJR--4wAKOY",
        "outputId": "3951eb89-5578-44e1-cd0a-7330aa0e335e"
      },
      "execution_count": 18,
      "outputs": [
        {
          "output_type": "stream",
          "name": "stdout",
          "text": [
            "22 30\n",
            "21 45\n"
          ]
        }
      ]
    }
  ]
}