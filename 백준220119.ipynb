{
  "nbformat": 4,
  "nbformat_minor": 0,
  "metadata": {
    "colab": {
      "name": "백준220119.ipynb",
      "provenance": [],
      "collapsed_sections": [],
      "authorship_tag": "ABX9TyPdhQGwUFlopkA12FJaRyF6",
      "include_colab_link": true
    },
    "kernelspec": {
      "name": "python3",
      "display_name": "Python 3"
    },
    "language_info": {
      "name": "python"
    }
  },
  "cells": [
    {
      "cell_type": "markdown",
      "metadata": {
        "id": "view-in-github",
        "colab_type": "text"
      },
      "source": [
        "<a href=\"https://colab.research.google.com/github/taeilkeemm/fordatastudy/blob/main/%EB%B0%B1%EC%A4%80220119.ipynb\" target=\"_parent\"><img src=\"https://colab.research.google.com/assets/colab-badge.svg\" alt=\"Open In Colab\"/></a>"
      ]
    },
    {
      "cell_type": "code",
      "execution_count": null,
      "metadata": {
        "id": "XxBIPWHV24yr"
      },
      "outputs": [],
      "source": [
        "T = int(input())\n",
        "for i in range(T):\n",
        "  k = int(input())\n",
        "  n = int(input())\n",
        "  num = 0\n",
        "  for j in range(n):\n",
        "    for w in range(k):\n",
        "      num = num + \n",
        "\n",
        "    "
      ]
    },
    {
      "cell_type": "code",
      "source": [
        "t = int(input())\n",
        "\n",
        "for _ in range(t):  \n",
        "    floor = int(input())  # 층\n",
        "    num = int(input())  # 호\n",
        "    f0 = [x for x in range(1, num+1)]  # 0층 리스트\n",
        "    for k in range(floor):  # 층 수 만큼 반복\n",
        "        for i in range(1, num):  # 1 ~ n-1까지 (인덱스로 사용)\n",
        "            f0[i] += f0[i-1]  # 층별 각 호실의 사람 수를 변경\n",
        "    print(f0[-1])  # 가장 마지막 수 출력"
      ],
      "metadata": {
        "id": "iZ9AqDXw7Ttn"
      },
      "execution_count": null,
      "outputs": []
    }
  ]
}