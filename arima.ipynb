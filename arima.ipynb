{
 "cells": [
  {
   "cell_type": "code",
   "execution_count": 1,
   "metadata": {},
   "outputs": [],
   "source": [
    "import pandas as pd\n",
    "import numpy as np\n",
    "import matplotlib as mlt\n",
    "import matplotlib.pyplot as plt\n",
    "import os\n",
    "import warnings\n",
    "warnings.filterwarnings(\"ignore\")"
   ]
  },
  {
   "cell_type": "code",
   "execution_count": 51,
   "metadata": {},
   "outputs": [
    {
     "data": {
      "text/plain": [
       "납품요구접수일자\n",
       "2017-01-02   2017-01-02\n",
       "2017-01-03   2017-01-03\n",
       "2017-01-04   2017-01-04\n",
       "2017-01-05   2017-01-05\n",
       "2017-01-06   2017-01-06\n",
       "                ...    \n",
       "2021-12-23   2021-12-23\n",
       "2021-12-24   2021-12-24\n",
       "2021-12-27   2021-12-27\n",
       "2021-12-28   2021-12-28\n",
       "2021-12-31   2021-12-31\n",
       "Name: 납품요구접수일자, Length: 1290, dtype: datetime64[ns]"
      ]
     },
     "execution_count": 51,
     "metadata": {},
     "output_type": "execute_result"
    }
   ],
   "source": [
    "##데이터 불러오기\n",
    "df = pd.read_csv(\"C:/Users/theil/Desktop/data/1등_쓰레기봉투.csv\", encoding='UTF8', parse_dates = ['납품요구접수일자'])\n",
    "df.set_index(df['납품요구접수일자'], inplace=True)\n",
    "df.pop('납품요구접수일자')\n"
   ]
  },
  {
   "cell_type": "code",
   "execution_count": 30,
   "metadata": {},
   "outputs": [],
   "source": [
    "##df.index = pd.DatetimeIndex(df.index).to_period('D')"
   ]
  },
  {
   "cell_type": "code",
   "execution_count": 38,
   "metadata": {},
   "outputs": [],
   "source": [
    "##Auto-ARIMA 라이브러리 import\n",
    "from pmdarima.arima import auto_arima\n"
   ]
  },
  {
   "cell_type": "code",
   "execution_count": 52,
   "metadata": {},
   "outputs": [
    {
     "name": "stdout",
     "output_type": "stream",
     "text": [
      "Performing stepwise search to minimize aic\n",
      " ARIMA(1,1,1)(0,1,1)[12]             : AIC=inf, Time=0.95 sec\n",
      " ARIMA(0,1,0)(0,1,0)[12]             : AIC=34029.565, Time=0.03 sec\n",
      " ARIMA(1,1,0)(1,1,0)[12]             : AIC=33573.021, Time=0.32 sec\n",
      " ARIMA(0,1,1)(0,1,1)[12]             : AIC=inf, Time=0.59 sec\n",
      " ARIMA(1,1,0)(0,1,0)[12]             : AIC=33776.404, Time=0.06 sec\n",
      " ARIMA(1,1,0)(2,1,0)[12]             : AIC=33452.242, Time=1.23 sec\n",
      " ARIMA(1,1,0)(2,1,1)[12]             : AIC=inf, Time=3.13 sec\n",
      " ARIMA(1,1,0)(1,1,1)[12]             : AIC=inf, Time=0.88 sec\n",
      " ARIMA(0,1,0)(2,1,0)[12]             : AIC=33623.899, Time=0.96 sec\n",
      " ARIMA(2,1,0)(2,1,0)[12]             : AIC=33337.516, Time=1.60 sec\n",
      " ARIMA(2,1,0)(1,1,0)[12]             : AIC=33453.943, Time=0.50 sec\n",
      " ARIMA(2,1,0)(2,1,1)[12]             : AIC=inf, Time=4.06 sec\n",
      " ARIMA(2,1,0)(1,1,1)[12]             : AIC=inf, Time=1.23 sec\n",
      " ARIMA(3,1,0)(2,1,0)[12]             : AIC=33254.027, Time=2.06 sec\n",
      " ARIMA(3,1,0)(1,1,0)[12]             : AIC=33352.080, Time=0.77 sec\n",
      " ARIMA(3,1,0)(2,1,1)[12]             : AIC=inf, Time=5.31 sec\n",
      " ARIMA(3,1,0)(1,1,1)[12]             : AIC=inf, Time=1.56 sec\n",
      " ARIMA(3,1,1)(2,1,0)[12]             : AIC=33188.754, Time=4.21 sec\n",
      " ARIMA(3,1,1)(1,1,0)[12]             : AIC=33276.167, Time=1.72 sec\n",
      " ARIMA(3,1,1)(2,1,1)[12]             : AIC=inf, Time=8.24 sec\n",
      " ARIMA(3,1,1)(1,1,1)[12]             : AIC=inf, Time=2.91 sec\n",
      " ARIMA(2,1,1)(2,1,0)[12]             : AIC=33186.815, Time=3.75 sec\n",
      " ARIMA(2,1,1)(1,1,0)[12]             : AIC=33274.400, Time=1.57 sec\n",
      " ARIMA(2,1,1)(2,1,1)[12]             : AIC=inf, Time=6.66 sec\n",
      " ARIMA(2,1,1)(1,1,1)[12]             : AIC=inf, Time=2.19 sec\n",
      " ARIMA(1,1,1)(2,1,0)[12]             : AIC=33185.608, Time=2.64 sec\n",
      " ARIMA(1,1,1)(1,1,0)[12]             : AIC=33273.556, Time=1.08 sec\n",
      " ARIMA(1,1,1)(2,1,1)[12]             : AIC=inf, Time=4.88 sec\n",
      " ARIMA(1,1,1)(1,1,1)[12]             : AIC=inf, Time=1.62 sec\n",
      " ARIMA(0,1,1)(2,1,0)[12]             : AIC=33185.577, Time=1.79 sec\n",
      " ARIMA(0,1,1)(1,1,0)[12]             : AIC=33272.901, Time=0.61 sec\n",
      " ARIMA(0,1,1)(2,1,1)[12]             : AIC=inf, Time=3.84 sec\n",
      " ARIMA(0,1,1)(1,1,1)[12]             : AIC=inf, Time=1.19 sec\n",
      " ARIMA(0,1,2)(2,1,0)[12]             : AIC=33160.802, Time=2.35 sec\n",
      " ARIMA(0,1,2)(1,1,0)[12]             : AIC=33255.323, Time=0.84 sec\n",
      " ARIMA(0,1,2)(2,1,1)[12]             : AIC=inf, Time=4.45 sec\n",
      " ARIMA(0,1,2)(1,1,1)[12]             : AIC=inf, Time=1.65 sec\n",
      " ARIMA(1,1,2)(2,1,0)[12]             : AIC=33156.997, Time=2.70 sec\n",
      " ARIMA(1,1,2)(1,1,0)[12]             : AIC=33252.992, Time=1.84 sec\n",
      " ARIMA(1,1,2)(2,1,1)[12]             : AIC=inf, Time=5.63 sec\n",
      " ARIMA(1,1,2)(1,1,1)[12]             : AIC=inf, Time=3.93 sec\n",
      " ARIMA(2,1,2)(2,1,0)[12]             : AIC=33158.684, Time=7.08 sec\n",
      " ARIMA(1,1,3)(2,1,0)[12]             : AIC=33153.591, Time=7.92 sec\n",
      " ARIMA(1,1,3)(1,1,0)[12]             : AIC=33251.489, Time=3.11 sec\n",
      " ARIMA(1,1,3)(2,1,1)[12]             : AIC=inf, Time=12.27 sec\n",
      " ARIMA(1,1,3)(1,1,1)[12]             : AIC=inf, Time=4.67 sec\n",
      " ARIMA(0,1,3)(2,1,0)[12]             : AIC=33153.932, Time=3.26 sec\n",
      " ARIMA(2,1,3)(2,1,0)[12]             : AIC=33146.222, Time=19.07 sec\n",
      " ARIMA(2,1,3)(1,1,0)[12]             : AIC=33229.078, Time=9.44 sec\n",
      " ARIMA(2,1,3)(2,1,1)[12]             : AIC=inf, Time=21.48 sec\n",
      " ARIMA(2,1,3)(1,1,1)[12]             : AIC=inf, Time=9.19 sec\n",
      " ARIMA(3,1,3)(2,1,0)[12]             : AIC=33146.135, Time=22.20 sec\n",
      " ARIMA(3,1,3)(1,1,0)[12]             : AIC=33229.697, Time=7.85 sec\n",
      " ARIMA(3,1,3)(2,1,1)[12]             : AIC=inf, Time=22.82 sec\n",
      " ARIMA(3,1,3)(1,1,1)[12]             : AIC=inf, Time=11.12 sec\n",
      " ARIMA(3,1,2)(2,1,0)[12]             : AIC=inf, Time=12.87 sec\n",
      " ARIMA(3,1,3)(2,1,0)[12] intercept   : AIC=33148.327, Time=24.18 sec\n",
      "\n",
      "Best model:  ARIMA(3,1,3)(2,1,0)[12]          \n",
      "Total fit time: 296.091 seconds\n"
     ]
    }
   ],
   "source": [
    "##AutoARIMA 수요예측 모델\n",
    "data = df.sort_index(ascending=True, axis=0)\n",
    "\n",
    "train = data[:987]\n",
    "valid = data[987:]\n",
    "\n",
    "training = train['증감납품요구수량']\n",
    "validation = valid['증감납품요구수량']\n",
    "\n",
    "model = auto_arima(training, start_p=1, start_q=1,max_p=3, max_q=3, m=12,start_P=0, seasonal=True,d=1, D=1, \n",
    "                   trace=True,error_action='ignore',suppress_warnings=True)\n",
    "model.fit(training)\n",
    "\n",
    "forecast = model.predict(n_periods=303)\n",
    "forecast = pd.DataFrame(forecast,index = valid.index,columns=['Prediction'])"
   ]
  },
  {
   "cell_type": "code",
   "execution_count": 53,
   "metadata": {},
   "outputs": [
    {
     "data": {
      "text/html": [
       "<div>\n",
       "<style scoped>\n",
       "    .dataframe tbody tr th:only-of-type {\n",
       "        vertical-align: middle;\n",
       "    }\n",
       "\n",
       "    .dataframe tbody tr th {\n",
       "        vertical-align: top;\n",
       "    }\n",
       "\n",
       "    .dataframe thead th {\n",
       "        text-align: right;\n",
       "    }\n",
       "</style>\n",
       "<table border=\"1\" class=\"dataframe\">\n",
       "  <thead>\n",
       "    <tr style=\"text-align: right;\">\n",
       "      <th></th>\n",
       "      <th>Prediction</th>\n",
       "    </tr>\n",
       "    <tr>\n",
       "      <th>납품요구접수일자</th>\n",
       "      <th></th>\n",
       "    </tr>\n",
       "  </thead>\n",
       "  <tbody>\n",
       "    <tr>\n",
       "      <th>2020-11-18</th>\n",
       "      <td>4.822867e+06</td>\n",
       "    </tr>\n",
       "    <tr>\n",
       "      <th>2020-11-19</th>\n",
       "      <td>4.559788e+06</td>\n",
       "    </tr>\n",
       "    <tr>\n",
       "      <th>2020-11-20</th>\n",
       "      <td>8.227498e+06</td>\n",
       "    </tr>\n",
       "    <tr>\n",
       "      <th>2020-11-23</th>\n",
       "      <td>3.489916e+06</td>\n",
       "    </tr>\n",
       "    <tr>\n",
       "      <th>2020-11-24</th>\n",
       "      <td>5.323442e+06</td>\n",
       "    </tr>\n",
       "    <tr>\n",
       "      <th>...</th>\n",
       "      <td>...</td>\n",
       "    </tr>\n",
       "    <tr>\n",
       "      <th>2021-12-23</th>\n",
       "      <td>-8.572601e+05</td>\n",
       "    </tr>\n",
       "    <tr>\n",
       "      <th>2021-12-24</th>\n",
       "      <td>-2.695826e+06</td>\n",
       "    </tr>\n",
       "    <tr>\n",
       "      <th>2021-12-27</th>\n",
       "      <td>-1.587059e+06</td>\n",
       "    </tr>\n",
       "    <tr>\n",
       "      <th>2021-12-28</th>\n",
       "      <td>-2.645594e+06</td>\n",
       "    </tr>\n",
       "    <tr>\n",
       "      <th>2021-12-31</th>\n",
       "      <td>2.760802e+05</td>\n",
       "    </tr>\n",
       "  </tbody>\n",
       "</table>\n",
       "<p>303 rows × 1 columns</p>\n",
       "</div>"
      ],
      "text/plain": [
       "              Prediction\n",
       "납품요구접수일자                \n",
       "2020-11-18  4.822867e+06\n",
       "2020-11-19  4.559788e+06\n",
       "2020-11-20  8.227498e+06\n",
       "2020-11-23  3.489916e+06\n",
       "2020-11-24  5.323442e+06\n",
       "...                  ...\n",
       "2021-12-23 -8.572601e+05\n",
       "2021-12-24 -2.695826e+06\n",
       "2021-12-27 -1.587059e+06\n",
       "2021-12-28 -2.645594e+06\n",
       "2021-12-31  2.760802e+05\n",
       "\n",
       "[303 rows x 1 columns]"
      ]
     },
     "execution_count": 53,
     "metadata": {},
     "output_type": "execute_result"
    }
   ],
   "source": [
    "forecast"
   ]
  },
  {
   "cell_type": "code",
   "execution_count": 54,
   "metadata": {},
   "outputs": [
    {
     "name": "stdout",
     "output_type": "stream",
     "text": [
      "7011255.441515099\n"
     ]
    },
    {
     "data": {
      "text/plain": [
       "[<matplotlib.lines.Line2D at 0x2bbedf4b2b0>]"
      ]
     },
     "execution_count": 54,
     "metadata": {},
     "output_type": "execute_result"
    },
    {
     "data": {
      "image/png": "[encoded data removed]",
      "text/plain": [
       "<Figure size 432x288 with 1 Axes>"
      ]
     },
     "metadata": {
      "needs_background": "light"
     },
     "output_type": "display_data"
    }
   ],
   "source": [
    "##정확도 계산\n",
    "rms=np.sqrt(np.mean(np.power((np.array(valid['증감납품요구수량'])-np.array(forecast['Prediction'])),2)))\n",
    "print(rms)\n",
    "\n",
    "#plot\n",
    "plt.plot(train['증감납품요구수량'])\n",
    "plt.plot(valid['증감납품요구수량'])\n",
    "plt.plot(forecast['Prediction'])"
   ]
  }
 ],
 "metadata": {
  "interpreter": {
   "hash": "314835e0a99f5bc63c454fa0677437c87b599d3a0b869024c3638296b8ac4d43"
  },
  "kernelspec": {
   "display_name": "Python 3.9.7 64-bit",
   "language": "python",
   "name": "python3"
  },
  "language_info": {
   "codemirror_mode": {
    "name": "ipython",
    "version": 3
   },
   "file_extension": ".py",
   "mimetype": "text/x-python",
   "name": "python",
   "nbconvert_exporter": "python",
   "pygments_lexer": "ipython3",
   "version": "3.9.7"
  },
  "orig_nbformat": 4
 },
 "nbformat": 4,
 "nbformat_minor": 2
}
