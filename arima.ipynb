{
 "cells": [
  {
   "cell_type": "code",
   "execution_count": 24,
   "metadata": {},
   "outputs": [],
   "source": [
    "##기본 라이브러리 불러오기\n",
    "import pandas as pd\n",
    "import numpy as np\n",
    "import matplotlib as mlt\n",
    "import matplotlib.pyplot as plt\n",
    "import os\n",
    "import warnings\n",
    "warnings.filterwarnings(\"ignore\")"
   ]
  },
  {
   "cell_type": "code",
   "execution_count": 66,
   "metadata": {},
   "outputs": [
    {
     "data": {
      "text/plain": [
       "납품요구접수일자\n",
       "2017-01-02   2017-01-02\n",
       "2017-01-03   2017-01-03\n",
       "2017-01-04   2017-01-04\n",
       "2017-01-05   2017-01-05\n",
       "2017-01-06   2017-01-06\n",
       "                ...    \n",
       "2021-12-27   2021-12-27\n",
       "2021-12-28   2021-12-28\n",
       "2021-12-29   2021-12-29\n",
       "2021-12-30   2021-12-30\n",
       "2021-12-31   2021-12-31\n",
       "Name: 납품요구접수일자, Length: 1430, dtype: datetime64[ns]"
      ]
     },
     "execution_count": 66,
     "metadata": {},
     "output_type": "execute_result"
    }
   ],
   "source": [
    "##데이터 불러오기\n",
    "df = pd.read_csv(\"C:/Users/theil/Desktop/data/12등_금속제창.csv\", encoding='UTF8', parse_dates = ['납품요구접수일자'])\n",
    "df.set_index(df['납품요구접수일자'], inplace=True)\n",
    "df.pop('납품요구접수일자')\n"
   ]
  },
  {
   "cell_type": "code",
   "execution_count": 31,
   "metadata": {},
   "outputs": [],
   "source": [
    "##Auto-ARIMA 라이브러리 import\n",
    "from pmdarima.arima import auto_arima\n"
   ]
  },
  {
   "cell_type": "code",
   "execution_count": 67,
   "metadata": {},
   "outputs": [
    {
     "name": "stdout",
     "output_type": "stream",
     "text": [
      "Performing stepwise search to minimize aic\n",
      " ARIMA(1,1,1)(0,1,1)[12]             : AIC=inf, Time=1.13 sec\n",
      " ARIMA(0,1,0)(0,1,0)[12]             : AIC=29637.626, Time=0.03 sec\n",
      " ARIMA(1,1,0)(1,1,0)[12]             : AIC=29141.320, Time=0.46 sec\n",
      " ARIMA(0,1,1)(0,1,1)[12]             : AIC=inf, Time=0.76 sec\n",
      " ARIMA(1,1,0)(0,1,0)[12]             : AIC=29391.322, Time=0.07 sec\n",
      " ARIMA(1,1,0)(2,1,0)[12]             : AIC=29073.631, Time=1.42 sec\n",
      " ARIMA(1,1,0)(2,1,1)[12]             : AIC=inf, Time=3.99 sec\n",
      " ARIMA(1,1,0)(1,1,1)[12]             : AIC=inf, Time=1.18 sec\n",
      " ARIMA(0,1,0)(2,1,0)[12]             : AIC=29213.625, Time=0.91 sec\n",
      " ARIMA(2,1,0)(2,1,0)[12]             : AIC=28957.485, Time=2.05 sec\n",
      " ARIMA(2,1,0)(1,1,0)[12]             : AIC=29030.609, Time=0.71 sec\n",
      " ARIMA(2,1,0)(2,1,1)[12]             : AIC=inf, Time=6.45 sec\n",
      " ARIMA(2,1,0)(1,1,1)[12]             : AIC=inf, Time=1.99 sec\n",
      " ARIMA(3,1,0)(2,1,0)[12]             : AIC=28917.951, Time=3.38 sec\n",
      " ARIMA(3,1,0)(1,1,0)[12]             : AIC=28989.855, Time=1.41 sec\n",
      " ARIMA(3,1,0)(2,1,1)[12]             : AIC=inf, Time=8.03 sec\n",
      " ARIMA(3,1,0)(1,1,1)[12]             : AIC=inf, Time=2.39 sec\n",
      " ARIMA(3,1,1)(2,1,0)[12]             : AIC=28788.549, Time=5.76 sec\n",
      " ARIMA(3,1,1)(1,1,0)[12]             : AIC=28850.974, Time=2.56 sec\n",
      " ARIMA(3,1,1)(2,1,1)[12]             : AIC=inf, Time=11.01 sec\n",
      " ARIMA(3,1,1)(1,1,1)[12]             : AIC=inf, Time=3.87 sec\n",
      " ARIMA(2,1,1)(2,1,0)[12]             : AIC=28787.832, Time=4.98 sec\n",
      " ARIMA(2,1,1)(1,1,0)[12]             : AIC=28849.283, Time=1.74 sec\n",
      " ARIMA(2,1,1)(2,1,1)[12]             : AIC=inf, Time=9.33 sec\n",
      " ARIMA(2,1,1)(1,1,1)[12]             : AIC=inf, Time=2.80 sec\n",
      " ARIMA(1,1,1)(2,1,0)[12]             : AIC=28791.246, Time=3.69 sec\n",
      " ARIMA(2,1,2)(2,1,0)[12]             : AIC=28730.873, Time=11.93 sec\n",
      " ARIMA(2,1,2)(1,1,0)[12]             : AIC=inf, Time=5.38 sec\n",
      " ARIMA(2,1,2)(2,1,1)[12]             : AIC=inf, Time=21.60 sec\n",
      " ARIMA(2,1,2)(1,1,1)[12]             : AIC=inf, Time=7.39 sec\n",
      " ARIMA(1,1,2)(2,1,0)[12]             : AIC=inf, Time=8.73 sec\n",
      " ARIMA(3,1,2)(2,1,0)[12]             : AIC=inf, Time=15.86 sec\n",
      " ARIMA(2,1,3)(2,1,0)[12]             : AIC=28712.381, Time=25.72 sec\n",
      " ARIMA(2,1,3)(1,1,0)[12]             : AIC=28803.188, Time=3.23 sec\n",
      " ARIMA(2,1,3)(2,1,1)[12]             : AIC=inf, Time=27.21 sec\n",
      " ARIMA(2,1,3)(1,1,1)[12]             : AIC=inf, Time=12.04 sec\n",
      " ARIMA(1,1,3)(2,1,0)[12]             : AIC=28727.845, Time=8.40 sec\n",
      " ARIMA(3,1,3)(2,1,0)[12]             : AIC=inf, Time=11.74 sec\n",
      " ARIMA(2,1,3)(2,1,0)[12] intercept   : AIC=28714.388, Time=25.21 sec\n",
      "\n",
      "Best model:  ARIMA(2,1,3)(2,1,0)[12]          \n",
      "Total fit time: 266.568 seconds\n"
     ]
    }
   ],
   "source": [
    "##AutoARIMA 수요예측 모델\n",
    "data = df.sort_index(ascending=True, axis=0)\n",
    "split_ratio = 0.8\n",
    "split = int(len(data)*split_ratio)\n",
    "\n",
    "train = data[:split]\n",
    "valid = data[split:]\n",
    "period = len(valid)\n",
    "\n",
    "training = train['증감납품요구수량']\n",
    "validation = valid['증감납품요구수량']\n",
    "\n",
    "model = auto_arima(training, start_p=1, start_q=1,max_p=3, max_q=3, m=12,start_P=0, seasonal=True,d=1, D=1, \n",
    "                   trace=True,error_action='ignore',suppress_warnings=True)\n",
    "model.fit(training)\n",
    "\n",
    "forecast = model.predict(n_periods=period)\n",
    "forecast = pd.DataFrame(forecast,index = valid.index,columns=['Prediction'])"
   ]
  },
  {
   "cell_type": "code",
   "execution_count": 68,
   "metadata": {},
   "outputs": [
    {
     "data": {
      "text/html": [
       "<div>\n",
       "<style scoped>\n",
       "    .dataframe tbody tr th:only-of-type {\n",
       "        vertical-align: middle;\n",
       "    }\n",
       "\n",
       "    .dataframe tbody tr th {\n",
       "        vertical-align: top;\n",
       "    }\n",
       "\n",
       "    .dataframe thead th {\n",
       "        text-align: right;\n",
       "    }\n",
       "</style>\n",
       "<table border=\"1\" class=\"dataframe\">\n",
       "  <thead>\n",
       "    <tr style=\"text-align: right;\">\n",
       "      <th></th>\n",
       "      <th>Prediction</th>\n",
       "    </tr>\n",
       "    <tr>\n",
       "      <th>납품요구접수일자</th>\n",
       "      <th></th>\n",
       "    </tr>\n",
       "  </thead>\n",
       "  <tbody>\n",
       "    <tr>\n",
       "      <th>2021-01-21</th>\n",
       "      <td>57126.837355</td>\n",
       "    </tr>\n",
       "    <tr>\n",
       "      <th>2021-01-22</th>\n",
       "      <td>34210.125967</td>\n",
       "    </tr>\n",
       "    <tr>\n",
       "      <th>2021-01-24</th>\n",
       "      <td>36198.484222</td>\n",
       "    </tr>\n",
       "    <tr>\n",
       "      <th>2021-01-25</th>\n",
       "      <td>-3547.709373</td>\n",
       "    </tr>\n",
       "    <tr>\n",
       "      <th>2021-01-26</th>\n",
       "      <td>-9231.481868</td>\n",
       "    </tr>\n",
       "    <tr>\n",
       "      <th>...</th>\n",
       "      <td>...</td>\n",
       "    </tr>\n",
       "    <tr>\n",
       "      <th>2021-12-27</th>\n",
       "      <td>-276513.131621</td>\n",
       "    </tr>\n",
       "    <tr>\n",
       "      <th>2021-12-28</th>\n",
       "      <td>-242099.643154</td>\n",
       "    </tr>\n",
       "    <tr>\n",
       "      <th>2021-12-29</th>\n",
       "      <td>-255687.855412</td>\n",
       "    </tr>\n",
       "    <tr>\n",
       "      <th>2021-12-30</th>\n",
       "      <td>-183794.103527</td>\n",
       "    </tr>\n",
       "    <tr>\n",
       "      <th>2021-12-31</th>\n",
       "      <td>-255073.196091</td>\n",
       "    </tr>\n",
       "  </tbody>\n",
       "</table>\n",
       "<p>286 rows × 1 columns</p>\n",
       "</div>"
      ],
      "text/plain": [
       "               Prediction\n",
       "납품요구접수일자                 \n",
       "2021-01-21   57126.837355\n",
       "2021-01-22   34210.125967\n",
       "2021-01-24   36198.484222\n",
       "2021-01-25   -3547.709373\n",
       "2021-01-26   -9231.481868\n",
       "...                   ...\n",
       "2021-12-27 -276513.131621\n",
       "2021-12-28 -242099.643154\n",
       "2021-12-29 -255687.855412\n",
       "2021-12-30 -183794.103527\n",
       "2021-12-31 -255073.196091\n",
       "\n",
       "[286 rows x 1 columns]"
      ]
     },
     "execution_count": 68,
     "metadata": {},
     "output_type": "execute_result"
    }
   ],
   "source": [
    "##예측치 확인\n",
    "forecast"
   ]
  },
  {
   "cell_type": "code",
   "execution_count": 69,
   "metadata": {},
   "outputs": [
    {
     "name": "stdout",
     "output_type": "stream",
     "text": [
      "235757.91449187184\n"
     ]
    },
    {
     "data": {
      "text/plain": [
       "[<matplotlib.lines.Line2D at 0x24e74292760>]"
      ]
     },
     "execution_count": 69,
     "metadata": {},
     "output_type": "execute_result"
    },
    {
     "data": {
      "image/png": "[encoded data removed]",
      "text/plain": [
       "<Figure size 432x288 with 1 Axes>"
      ]
     },
     "metadata": {
      "needs_background": "light"
     },
     "output_type": "display_data"
    }
   ],
   "source": [
    "##정확도 계산\n",
    "rmse=np.sqrt(np.mean(np.power((np.array(valid['증감납품요구수량'])-np.array(forecast['Prediction'])),2)))\n",
    "print(rmse)\n",
    "\n",
    "#plot\n",
    "plt.plot(train['증감납품요구수량'])\n",
    "plt.plot(valid['증감납품요구수량'])\n",
    "plt.plot(forecast['Prediction'])"
   ]
  }
 ],
 "metadata": {
  "interpreter": {
   "hash": "314835e0a99f5bc63c454fa0677437c87b599d3a0b869024c3638296b8ac4d43"
  },
  "kernelspec": {
   "display_name": "Python 3.9.7 64-bit",
   "language": "python",
   "name": "python3"
  },
  "language_info": {
   "codemirror_mode": {
    "name": "ipython",
    "version": 3
   },
   "file_extension": ".py",
   "mimetype": "text/x-python",
   "name": "python",
   "nbconvert_exporter": "python",
   "pygments_lexer": "ipython3",
   "version": "3.9.7"
  },
  "orig_nbformat": 4
 },
 "nbformat": 4,
 "nbformat_minor": 2
}
