{
  "nbformat": 4,
  "nbformat_minor": 0,
  "metadata": {
    "colab": {
      "name": "백준220112.ipynb",
      "provenance": [],
      "authorship_tag": "ABX9TyMeUFOcpSIJO8NdTnzaSSUK",
      "include_colab_link": true
    },
    "kernelspec": {
      "name": "python3",
      "display_name": "Python 3"
    },
    "language_info": {
      "name": "python"
    }
  },
  "cells": [
    {
      "cell_type": "markdown",
      "metadata": {
        "id": "view-in-github",
        "colab_type": "text"
      },
      "source": [
        "<a href=\"https://colab.research.google.com/github/taeilkeemm/fordatastudy/blob/main/%EB%B0%B1%EC%A4%80220112.ipynb\" target=\"_parent\"><img src=\"https://colab.research.google.com/assets/colab-badge.svg\" alt=\"Open In Colab\"/></a>"
      ]
    },
    {
      "cell_type": "code",
      "execution_count": 14,
      "metadata": {
        "colab": {
          "base_uri": "https://localhost:8080/"
        },
        "id": "ooR5VyUwzccv",
        "outputId": "0bc8e79f-eb72-4e9b-f91c-5d3088de5d1b"
      },
      "outputs": [
        {
          "output_type": "stream",
          "name": "stdout",
          "text": [
            "adf\n",
            "?\n"
          ]
        }
      ],
      "source": [
        "string = str(input())\n",
        "string = string.upper()\n",
        "words_count={}\n",
        "for alpha in string:\n",
        "    if alpha in words_count:\n",
        "        words_count[alpha] += 1\n",
        "    else:\n",
        "        words_count[alpha] = 1\n",
        "sorted_words = sorted([(k,v) for k,v in words_count.items()], key=lambda word_count: -word_count[1])\n",
        "if sorted_words[0][1] == sorted_words[1][1]:\n",
        "  print(\"?\")\n",
        "else:\n",
        "  most = str(sorted_words[0][0])\n",
        "  print(most)"
      ]
    },
    {
      "cell_type": "code",
      "source": [
        "words = input().upper()\n",
        "unique_words = list(set(words))  # 입력받은 문자열에서 중복값을 제거\n",
        "\n",
        "cnt_list = []\n",
        "for x in unique_words :\n",
        "    cnt = words.count(x)\n",
        "    cnt_list.append(cnt)  # count 숫자를 리스트에 append\n",
        "\n",
        "if cnt_list.count(max(cnt_list)) > 1 :  # count 숫자 최대값이 중복되면\n",
        "    print('?')\n",
        "else :\n",
        "    max_index = cnt_list.index(max(cnt_list))  # count 숫자 최대값 인덱스(위치)\n",
        "    print(unique_words[max_index])"
      ],
      "metadata": {
        "colab": {
          "base_uri": "https://localhost:8080/"
        },
        "id": "BnoiOqL19B8m",
        "outputId": "2eedb3f5-b605-44d8-d81f-09a94f8bade5"
      },
      "execution_count": 15,
      "outputs": [
        {
          "output_type": "stream",
          "name": "stdout",
          "text": [
            "Asssaaaaaaaa\n",
            "A\n"
          ]
        }
      ]
    },
    {
      "cell_type": "code",
      "source": [
        "words = list(input().split())\n",
        "print(len(words))\n"
      ],
      "metadata": {
        "colab": {
          "base_uri": "https://localhost:8080/"
        },
        "id": "HXmOZxfW9h0n",
        "outputId": "bd72c616-9e34-4626-99f0-b53ca069b5bb"
      },
      "execution_count": 18,
      "outputs": [
        {
          "output_type": "stream",
          "name": "stdout",
          "text": [
            "i like a appple\n",
            "4\n"
          ]
        }
      ]
    },
    {
      "cell_type": "code",
      "source": [
        "a, b = map(str, input().split())\n",
        "aa = int(a[::-1])\n",
        "bb = int(b[::-1])\n",
        "if aa > bb:\n",
        "  print(aa)\n",
        "elif aa < bb:\n",
        "  print(bb)"
      ],
      "metadata": {
        "colab": {
          "base_uri": "https://localhost:8080/"
        },
        "id": "IAFkur0j-hP3",
        "outputId": "dfff5d08-7494-4ac2-bc5f-7d0b2d887b26"
      },
      "execution_count": 20,
      "outputs": [
        {
          "output_type": "stream",
          "name": "stdout",
          "text": [
            "123 222\n",
            "321\n"
          ]
        }
      ]
    },
    {
      "cell_type": "code",
      "source": [
        "from string import ascii_uppercase\n",
        "word = str(input())\n",
        "alphabet = list(ascii_uppercase)\n",
        "dial = []\n",
        "for alpha in word:\n",
        "  if alpha in [\"Z\", \"Y\", \"V\", \"S\"]:\n",
        "    dial.append((((alphabet.index(alpha))//3)+1))\n",
        "  else:\n",
        "    dial.append((((alphabet.index(alpha))//3)+2))\n",
        "time= 0\n",
        "for num in dial:\n",
        "  time = time + num + 1\n",
        "print(time)\n",
        "\n",
        "\n"
      ],
      "metadata": {
        "colab": {
          "base_uri": "https://localhost:8080/"
        },
        "id": "6CqgkWwL_gcP",
        "outputId": "6f5d642c-df2b-4e89-8f2f-6b423e1276b0"
      },
      "execution_count": 30,
      "outputs": [
        {
          "output_type": "stream",
          "name": "stdout",
          "text": [
            "ACS\n",
            "14\n"
          ]
        }
      ]
    },
    {
      "cell_type": "code",
      "source": [
        ""
      ],
      "metadata": {
        "id": "p4lxH3IQDfM-"
      },
      "execution_count": null,
      "outputs": []
    }
  ]
}