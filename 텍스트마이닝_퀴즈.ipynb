{
  "nbformat": 4,
  "nbformat_minor": 0,
  "metadata": {
    "colab": {
      "name": "텍스트마이닝 퀴즈.ipynb",
      "provenance": [],
      "authorship_tag": "ABX9TyNyzeeZobp7HM79t65vL/IK",
      "include_colab_link": true
    },
    "kernelspec": {
      "name": "python3",
      "display_name": "Python 3"
    },
    "language_info": {
      "name": "python"
    }
  },
  "cells": [
    {
      "cell_type": "markdown",
      "metadata": {
        "id": "view-in-github",
        "colab_type": "text"
      },
      "source": [
        "<a href=\"https://colab.research.google.com/github/taeilkeemm/fordatastudy/blob/main/%ED%85%8D%EC%8A%A4%ED%8A%B8%EB%A7%88%EC%9D%B4%EB%8B%9D_%ED%80%B4%EC%A6%88.ipynb\" target=\"_parent\"><img src=\"https://colab.research.google.com/assets/colab-badge.svg\" alt=\"Open In Colab\"/></a>"
      ]
    },
    {
      "cell_type": "code",
      "metadata": {
        "id": "DpaVCnXNEEnk"
      },
      "source": [
        "import numpy as np"
      ],
      "execution_count": 18,
      "outputs": []
    },
    {
      "cell_type": "code",
      "metadata": {
        "colab": {
          "base_uri": "https://localhost:8080/"
        },
        "id": "TV1XZsRzEQAC",
        "outputId": "f7cc6c9f-2bd3-422b-bc66-dc8c3ea20581"
      },
      "source": [
        "np.zeros(10)"
      ],
      "execution_count": 19,
      "outputs": [
        {
          "output_type": "execute_result",
          "data": {
            "text/plain": [
              "array([0., 0., 0., 0., 0., 0., 0., 0., 0., 0.])"
            ]
          },
          "metadata": {},
          "execution_count": 19
        }
      ]
    },
    {
      "cell_type": "code",
      "metadata": {
        "colab": {
          "base_uri": "https://localhost:8080/"
        },
        "id": "sV8zkLKoERRb",
        "outputId": "46c1f695-69b2-463b-f755-caf2875fd52f"
      },
      "source": [
        "np.ones((3, 5), dtype='float64')"
      ],
      "execution_count": 20,
      "outputs": [
        {
          "output_type": "execute_result",
          "data": {
            "text/plain": [
              "array([[1., 1., 1., 1., 1.],\n",
              "       [1., 1., 1., 1., 1.],\n",
              "       [1., 1., 1., 1., 1.]])"
            ]
          },
          "metadata": {},
          "execution_count": 20
        }
      ]
    },
    {
      "cell_type": "code",
      "metadata": {
        "colab": {
          "base_uri": "https://localhost:8080/"
        },
        "id": "GfxiBE4fEcBS",
        "outputId": "11f57365-8869-4f46-ab29-07faf3d28376"
      },
      "source": [
        "##1)\n",
        "\n",
        "arra1 = np.floor(((np.random.random(10)*10))+1)\n",
        "arra1"
      ],
      "execution_count": 21,
      "outputs": [
        {
          "output_type": "execute_result",
          "data": {
            "text/plain": [
              "array([5., 1., 7., 3., 9., 2., 3., 3., 2., 9.])"
            ]
          },
          "metadata": {},
          "execution_count": 21
        }
      ]
    },
    {
      "cell_type": "code",
      "metadata": {
        "colab": {
          "base_uri": "https://localhost:8080/"
        },
        "id": "X_KiaJq4EnzC",
        "outputId": "1f6acb18-02d3-48b7-dced-564f6e33cd60"
      },
      "source": [
        "arra2 = np.floor((np.random.random(12)*10)+1).reshape(3,4)\n",
        "arra2"
      ],
      "execution_count": 22,
      "outputs": [
        {
          "output_type": "execute_result",
          "data": {
            "text/plain": [
              "array([[10.,  7.,  2.,  7.],\n",
              "       [ 3., 10.,  5.,  9.],\n",
              "       [ 7.,  7.,  1.,  1.]])"
            ]
          },
          "metadata": {},
          "execution_count": 22
        }
      ]
    },
    {
      "cell_type": "code",
      "metadata": {
        "colab": {
          "base_uri": "https://localhost:8080/"
        },
        "id": "Me7i8K02Er6z",
        "outputId": "da2adb7b-16f8-4fcd-95c7-5e608bfe82a9"
      },
      "source": [
        "arra3 = np.floor((np.random.random(36)*10)+1).reshape(3,3,4)\n",
        "arra3"
      ],
      "execution_count": 23,
      "outputs": [
        {
          "output_type": "execute_result",
          "data": {
            "text/plain": [
              "array([[[10.,  5.,  5.,  5.],\n",
              "        [ 4.,  5.,  4.,  2.],\n",
              "        [ 6.,  2.,  7.,  9.]],\n",
              "\n",
              "       [[ 1., 10.,  2.,  2.],\n",
              "        [10.,  7., 10.,  4.],\n",
              "        [ 5.,  2., 10.,  9.]],\n",
              "\n",
              "       [[ 4.,  2.,  2.,  8.],\n",
              "        [ 7.,  3.,  4., 10.],\n",
              "        [ 4.,  5.,  1.,  2.]]])"
            ]
          },
          "metadata": {},
          "execution_count": 23
        }
      ]
    },
    {
      "cell_type": "code",
      "metadata": {
        "colab": {
          "base_uri": "https://localhost:8080/"
        },
        "id": "_MTCBoR1EWCr",
        "outputId": "de13803f-f201-48bc-9367-e0da1be92e8a"
      },
      "source": [
        "arra1[1::2]"
      ],
      "execution_count": 24,
      "outputs": [
        {
          "output_type": "execute_result",
          "data": {
            "text/plain": [
              "array([1., 3., 2., 3., 9.])"
            ]
          },
          "metadata": {},
          "execution_count": 24
        }
      ]
    },
    {
      "cell_type": "code",
      "metadata": {
        "colab": {
          "base_uri": "https://localhost:8080/"
        },
        "id": "VKSs2VA-E_qT",
        "outputId": "432189d7-f586-47d1-fd1f-63076fcb7e4e"
      },
      "source": [
        "arra2[:,1::2]"
      ],
      "execution_count": 25,
      "outputs": [
        {
          "output_type": "execute_result",
          "data": {
            "text/plain": [
              "array([[ 7.,  7.],\n",
              "       [10.,  9.],\n",
              "       [ 7.,  1.]])"
            ]
          },
          "metadata": {},
          "execution_count": 25
        }
      ]
    },
    {
      "cell_type": "code",
      "metadata": {
        "colab": {
          "base_uri": "https://localhost:8080/"
        },
        "id": "I9H0t0OGFB8j",
        "outputId": "8ac1eed2-342f-4119-805b-ddea6c292cae"
      },
      "source": [
        "arra2[::-1,::-1]"
      ],
      "execution_count": 26,
      "outputs": [
        {
          "output_type": "execute_result",
          "data": {
            "text/plain": [
              "array([[ 1.,  1.,  7.,  7.],\n",
              "       [ 9.,  5., 10.,  3.],\n",
              "       [ 7.,  2.,  7., 10.]])"
            ]
          },
          "metadata": {},
          "execution_count": 26
        }
      ]
    },
    {
      "cell_type": "code",
      "metadata": {
        "colab": {
          "base_uri": "https://localhost:8080/"
        },
        "id": "_ctlJhOvFFuq",
        "outputId": "21223bbd-af69-47c1-a5f0-43e2ec096302"
      },
      "source": [
        "np.maximum(arra2, arra3[[1]])"
      ],
      "execution_count": 27,
      "outputs": [
        {
          "output_type": "execute_result",
          "data": {
            "text/plain": [
              "array([[[10., 10.,  2.,  7.],\n",
              "        [10., 10., 10.,  9.],\n",
              "        [ 7.,  7., 10.,  9.]]])"
            ]
          },
          "metadata": {},
          "execution_count": 27
        }
      ]
    },
    {
      "cell_type": "code",
      "metadata": {
        "id": "ce6qeaXHFHMy"
      },
      "source": [
        ""
      ],
      "execution_count": 27,
      "outputs": []
    },
    {
      "cell_type": "code",
      "metadata": {
        "id": "m8f4CeF0EOE0"
      },
      "source": [
        ""
      ],
      "execution_count": 27,
      "outputs": []
    }
  ]
}