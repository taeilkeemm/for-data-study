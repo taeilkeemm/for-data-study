{
  "nbformat": 4,
  "nbformat_minor": 0,
  "metadata": {
    "colab": {
      "name": "Untitled11.ipynb",
      "provenance": [],
      "authorship_tag": "ABX9TyNhLrYj/SxRyz/ueViUaXbb",
      "include_colab_link": true
    },
    "kernelspec": {
      "name": "python3",
      "display_name": "Python 3"
    },
    "language_info": {
      "name": "python"
    }
  },
  "cells": [
    {
      "cell_type": "markdown",
      "metadata": {
        "id": "view-in-github",
        "colab_type": "text"
      },
      "source": [
        "<a href=\"https://colab.research.google.com/github/taeilkeemm/fordatastudy/blob/main/Untitled11.ipynb\" target=\"_parent\"><img src=\"https://colab.research.google.com/assets/colab-badge.svg\" alt=\"Open In Colab\"/></a>"
      ]
    },
    {
      "cell_type": "code",
      "execution_count": 18,
      "metadata": {
        "colab": {
          "base_uri": "https://localhost:8080/"
        },
        "id": "l0YuUWkOkQ2k",
        "outputId": "5bcb5cbf-8e4a-4672-c0ad-88c90c299805"
      },
      "outputs": [
        {
          "output_type": "stream",
          "name": "stdout",
          "text": [
            "5 1 6\n",
            "2\n"
          ]
        }
      ],
      "source": [
        "A, B, V = map(int, input().split())\n",
        "n = 0\n",
        "day = 0\n",
        "a = A - B\n",
        "b = V - A\n",
        "c = b//a\n",
        "if c + A >= V:\n",
        "  day = c+1\n",
        "else:\n",
        "  day = c+2\n",
        "print(day)"
      ]
    },
    {
      "cell_type": "code",
      "source": [
        "A, B, V = map(int, input().split())\n",
        "k = (V - A)//(A - B)\n",
        "if k + A < V:\n",
        "  day = k + 2\n",
        "elif k + A >= V:\n",
        "  day = k + 1\n",
        "print(day)"
      ],
      "metadata": {
        "id": "Ov6sNkG3lQc7",
        "colab": {
          "base_uri": "https://localhost:8080/"
        },
        "outputId": "167f2cf0-aeb1-48a3-a39b-f11856c8215c"
      },
      "execution_count": 22,
      "outputs": [
        {
          "output_type": "stream",
          "name": "stdout",
          "text": [
            "100 99 1000000000\n",
            "999999901\n"
          ]
        }
      ]
    },
    {
      "cell_type": "code",
      "source": [
        "a,b,v = map(int,input().split())\n",
        "k = (v-b)/(a-b)\n",
        "print(int(k) if k == int(k) else int(k)+1) ##삼항연산자"
      ],
      "metadata": {
        "colab": {
          "base_uri": "https://localhost:8080/"
        },
        "id": "DYrC1VY-Hrkb",
        "outputId": "cd5041fa-6049-4d97-fd85-48d6c422d9de"
      },
      "execution_count": 23,
      "outputs": [
        {
          "output_type": "stream",
          "name": "stdout",
          "text": [
            "100 99 1000000000\n",
            "999999901\n"
          ]
        }
      ]
    }
  ]
}