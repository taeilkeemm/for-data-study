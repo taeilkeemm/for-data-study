{
  "nbformat": 4,
  "nbformat_minor": 0,
  "metadata": {
    "colab": {
      "name": "백준220107.ipynb",
      "provenance": [],
      "collapsed_sections": [],
      "authorship_tag": "ABX9TyOmRpuwbtZ5x+nTAkH67CEM",
      "include_colab_link": true
    },
    "kernelspec": {
      "name": "python3",
      "display_name": "Python 3"
    },
    "language_info": {
      "name": "python"
    }
  },
  "cells": [
    {
      "cell_type": "markdown",
      "metadata": {
        "id": "view-in-github",
        "colab_type": "text"
      },
      "source": [
        "<a href=\"https://colab.research.google.com/github/taeilkeemm/fordatastudy/blob/main/%EB%B0%B1%EC%A4%80220107.ipynb\" target=\"_parent\"><img src=\"https://colab.research.google.com/assets/colab-badge.svg\" alt=\"Open In Colab\"/></a>"
      ]
    },
    {
      "cell_type": "code",
      "execution_count": 6,
      "metadata": {
        "colab": {
          "base_uri": "https://localhost:8080/"
        },
        "id": "_B05p1xzFzcp",
        "outputId": "61be5935-0191-4475-cb96-4d3a0aaa992d"
      },
      "outputs": [
        {
          "output_type": "stream",
          "name": "stdout",
          "text": [
            "2\n",
            "2 * 1 = 2\n",
            "2 * 2 = 4\n",
            "2 * 3 = 6\n",
            "2 * 4 = 8\n",
            "2 * 5 = 10\n",
            "2 * 6 = 12\n",
            "2 * 7 = 14\n",
            "2 * 8 = 16\n",
            "2 * 9 = 18\n"
          ]
        }
      ],
      "source": [
        "a = int(input())\n",
        "for i in range(1, 10):\n",
        "  print(a,  \"*\", int(i), \"=\", int(a*i))"
      ]
    },
    {
      "cell_type": "code",
      "source": [
        "t = int(input())\n",
        "for i in range(1, t + 1):\n",
        "  a, b = map(int, input().split())\n",
        "  print(a+b) "
      ],
      "metadata": {
        "colab": {
          "base_uri": "https://localhost:8080/"
        },
        "id": "_dCj88PVGJkn",
        "outputId": "d9d4a911-8132-4723-be6e-b1a109eca707"
      },
      "execution_count": 7,
      "outputs": [
        {
          "output_type": "stream",
          "name": "stdout",
          "text": [
            "5\n",
            "1 2\n",
            "3\n",
            "3 4\n",
            "7\n",
            "4  4\n",
            "8\n",
            "5 6\n",
            "11\n",
            "5 7\n",
            "12\n"
          ]
        }
      ]
    },
    {
      "cell_type": "code",
      "source": [
        "a = int(input())\n",
        "for i in range(1, a ):\n",
        "  a = a + int(i)\n",
        "print(a)"
      ],
      "metadata": {
        "colab": {
          "base_uri": "https://localhost:8080/"
        },
        "id": "h5-HsMOvH_Eg",
        "outputId": "5c952099-f8a3-47d6-f879-56112bab76a9"
      },
      "execution_count": 8,
      "outputs": [
        {
          "output_type": "stream",
          "name": "stdout",
          "text": [
            "5\n",
            "15\n"
          ]
        }
      ]
    },
    {
      "cell_type": "code",
      "source": [
        "import sys\n",
        "\n",
        "t = int(input()) #Test case\n",
        "\n",
        "for i in range(0, t):\n",
        "  a, b = map(int, sys.stdin.readline().split())\n",
        "  print(a+b)"
      ],
      "metadata": {
        "id": "-enU75g1Inq-"
      },
      "execution_count": null,
      "outputs": []
    },
    {
      "cell_type": "code",
      "source": [
        "a = int(input())\n",
        "for i in range(1, a+1):\n",
        "  print(i)"
      ],
      "metadata": {
        "colab": {
          "base_uri": "https://localhost:8080/"
        },
        "id": "rHUfp2U4KTYu",
        "outputId": "ad44825c-36b2-4039-a7d8-ece5c22fc19c"
      },
      "execution_count": 19,
      "outputs": [
        {
          "output_type": "stream",
          "name": "stdout",
          "text": [
            "5\n",
            "1\n",
            "2\n",
            "3\n",
            "4\n",
            "5\n"
          ]
        }
      ]
    },
    {
      "cell_type": "code",
      "source": [
        "a = int(input())\n",
        "for i in range(0, a):\n",
        "  print(a-i)"
      ],
      "metadata": {
        "colab": {
          "base_uri": "https://localhost:8080/"
        },
        "id": "yMO1-xfxLyQW",
        "outputId": "55a926e9-5e4d-40c8-8e7c-58fb836a2467"
      },
      "execution_count": 22,
      "outputs": [
        {
          "output_type": "stream",
          "name": "stdout",
          "text": [
            "5\n",
            "5\n",
            "4\n",
            "3\n",
            "2\n",
            "1\n"
          ]
        }
      ]
    },
    {
      "cell_type": "code",
      "source": [
        "t = int(input())\n",
        "for i in range(1, t + 1):\n",
        "  a, b = map(int, input().split())\n",
        "  print(\"Case #\" + str(i) + \": \" + str(a+b)) "
      ],
      "metadata": {
        "colab": {
          "base_uri": "https://localhost:8080/"
        },
        "id": "RV9MuBtRMXw-",
        "outputId": "726ede71-88ed-4044-93f7-e8204feb2275"
      },
      "execution_count": 26,
      "outputs": [
        {
          "output_type": "stream",
          "name": "stdout",
          "text": [
            "5\n",
            "1 2\n",
            "Case #1 : 3\n",
            "1 3\n",
            "Case #2 : 4\n",
            "1 3\n",
            "Case #3 : 4\n",
            "1 3\n",
            "Case #4 : 4\n",
            " 13 3\n",
            "Case #5 : 16\n"
          ]
        }
      ]
    },
    {
      "cell_type": "code",
      "source": [
        "t = int(input())\n",
        "for i in range(1, t + 1):\n",
        "  a, b = map(int, input().split())\n",
        "  print(\"Case #\" + str(i) + \": \" + str(a) + \" + \" + str(b) + \" = \" + str(a+b)) "
      ],
      "metadata": {
        "colab": {
          "base_uri": "https://localhost:8080/"
        },
        "id": "naNv5VnANRd_",
        "outputId": "49770639-e33f-4c46-ffba-9e8889025606"
      },
      "execution_count": 28,
      "outputs": [
        {
          "output_type": "stream",
          "name": "stdout",
          "text": [
            "5\n",
            "1 3\n",
            "Case #1: 1 + 3 = 4\n",
            "12 4\n",
            "Case #2: 12 + 4 = 16\n",
            "1 3\n",
            "Case #3: 1 + 3 = 4\n",
            "3  6\n",
            "Case #4: 3 + 6 = 9\n",
            "45 89\n",
            "Case #5: 45 + 89 = 134\n"
          ]
        }
      ]
    },
    {
      "cell_type": "code",
      "source": [
        "a  = int(input())\n",
        "for i in range(1, a+1):\n",
        "  print(\"*\"*i)"
      ],
      "metadata": {
        "colab": {
          "base_uri": "https://localhost:8080/"
        },
        "id": "82JoFsFMNxkX",
        "outputId": "601746f4-550b-4e4b-d9c5-acc012792e45"
      },
      "execution_count": 30,
      "outputs": [
        {
          "output_type": "stream",
          "name": "stdout",
          "text": [
            "5\n",
            "*\n",
            "**\n",
            "***\n",
            "****\n",
            "*****\n"
          ]
        }
      ]
    },
    {
      "cell_type": "code",
      "source": [
        "a  = int(input())\n",
        "for i in range(1, a+1):\n",
        "  print((\"*\"*i).rjust(a))"
      ],
      "metadata": {
        "colab": {
          "base_uri": "https://localhost:8080/"
        },
        "id": "uXioGcTFN89t",
        "outputId": "05018a75-0740-4045-ea3b-b6d4ddd808dd"
      },
      "execution_count": 34,
      "outputs": [
        {
          "output_type": "stream",
          "name": "stdout",
          "text": [
            "5\n",
            "    *\n",
            "   **\n",
            "  ***\n",
            " ****\n",
            "*****\n"
          ]
        }
      ]
    },
    {
      "cell_type": "code",
      "source": [
        "n, x = map(int, input().split())\n",
        "num = list(map(int, input().split()))\n",
        "for i in num:\n",
        "  if i<x:\n",
        "    print(i, end=\" \")"
      ],
      "metadata": {
        "colab": {
          "base_uri": "https://localhost:8080/"
        },
        "id": "Dwvyvg0uPF9-",
        "outputId": "daaff3dc-b46a-4705-f0cf-102dfa88805b"
      },
      "execution_count": 47,
      "outputs": [
        {
          "output_type": "stream",
          "name": "stdout",
          "text": [
            "10 5\n",
            "1 4 6 8 0 3 4 7 3 2\n",
            "1403432"
          ]
        }
      ]
    }
  ]
}