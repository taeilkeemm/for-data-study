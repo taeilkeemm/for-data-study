{
  "nbformat": 4,
  "nbformat_minor": 0,
  "metadata": {
    "colab": {
      "name": "백준220111.ipynb",
      "provenance": [],
      "collapsed_sections": [],
      "authorship_tag": "ABX9TyMPjwRpl1btfdwlWx/FogjF",
      "include_colab_link": true
    },
    "kernelspec": {
      "name": "python3",
      "display_name": "Python 3"
    },
    "language_info": {
      "name": "python"
    }
  },
  "cells": [
    {
      "cell_type": "markdown",
      "metadata": {
        "id": "view-in-github",
        "colab_type": "text"
      },
      "source": [
        "<a href=\"https://colab.research.google.com/github/taeilkeemm/fordatastudy/blob/main/%EB%B0%B1%EC%A4%80220111.ipynb\" target=\"_parent\"><img src=\"https://colab.research.google.com/assets/colab-badge.svg\" alt=\"Open In Colab\"/></a>"
      ]
    },
    {
      "cell_type": "code",
      "execution_count": null,
      "metadata": {
        "id": "l0zFqX_BpTCg"
      },
      "outputs": [],
      "source": [
        "def d():\n",
        "  k = []\n",
        "  a = 1\n",
        "  i = 1\n",
        "  j = 1\n",
        "  while i <= 10000:\n",
        "    while a <= 10000:\n",
        "      n= [int(a) for w in str(a)]\n",
        "      a = a + sum(n)\n",
        "      k.append(a)\n",
        "    i = i + 1\n",
        "  while j <= 10000:\n",
        "    if j not in k:\n",
        "      print(j)\n",
        "    j = j + 1\n",
        "d()\n"
      ]
    },
    {
      "cell_type": "code",
      "source": [
        "numbers = set(range(1, 10000))\n",
        "remove_set = set()  # 생성자가 있는 숫자 set\n",
        "for num in numbers :\n",
        "    for n in str(num):\n",
        "        num += int(n)\n",
        "    remove_set.add(num)  # add: 집합에 요소를 추가할 때\n",
        "\n",
        "self_numbers = numbers - remove_set  # set의 '-' 연산자로 차집합을 구함\n",
        "for self_num in sorted(self_numbers):  # sorted 함수로 정렬\n",
        "    print(self_num)"
      ],
      "metadata": {
        "id": "feWIamNUwV2C"
      },
      "execution_count": null,
      "outputs": []
    },
    {
      "cell_type": "code",
      "source": [
        "def hansu(num) :\n",
        "    hansu_cnt = 0\n",
        "    for i in range(1, num+1):\n",
        "        num_list = list(map(int,str(i)))\n",
        "        if i < 100:\n",
        "            hansu_cnt += 1  # 100보다 작으면 모두 한수\n",
        "        elif num_list[0]-num_list[1] == num_list[1]-num_list[2]:\n",
        "            hansu_cnt += 1  # x의 각 자리가 등차수열이면 한수\n",
        "    return hansu_cnt\n",
        "\n",
        "num = int(input())\n",
        "print(hansu(num))\n"
      ],
      "metadata": {
        "colab": {
          "base_uri": "https://localhost:8080/"
        },
        "id": "20ul8eUdwgKa",
        "outputId": "b3d0935d-3800-40a2-e71f-d030028d1357"
      },
      "execution_count": 19,
      "outputs": [
        {
          "output_type": "stream",
          "name": "stdout",
          "text": [
            "10\n",
            "10\n"
          ]
        }
      ]
    },
    {
      "cell_type": "code",
      "source": [
        "string = str(input())\n",
        "print(ord(string))"
      ],
      "metadata": {
        "colab": {
          "base_uri": "https://localhost:8080/"
        },
        "id": "tA1oRoyy4cHr",
        "outputId": "41a7fa5d-08ab-43ef-8dfc-c432dbf353e7"
      },
      "execution_count": 21,
      "outputs": [
        {
          "output_type": "stream",
          "name": "stdout",
          "text": [
            "A\n",
            "65\n"
          ]
        }
      ]
    },
    {
      "cell_type": "code",
      "source": [
        "k = int(input())\n",
        "a = list(str(input()))\n",
        "n = []\n",
        "for w in a:\n",
        "  n.append(int(w))\n",
        "print(sum(n))"
      ],
      "metadata": {
        "colab": {
          "base_uri": "https://localhost:8080/"
        },
        "id": "-AhIzKF84xNx",
        "outputId": "807f431a-59e2-4904-b7cc-6a0256a2c326"
      },
      "execution_count": 25,
      "outputs": [
        {
          "output_type": "stream",
          "name": "stdout",
          "text": [
            "5\n",
            "12345\n",
            "15\n"
          ]
        }
      ]
    },
    {
      "cell_type": "code",
      "source": [
        "from string import ascii_lowercase\n",
        "\n",
        "alphabet_list = list(ascii_lowercase)\n",
        "string = list(str(input()))\n",
        "arr = []\n",
        "for com in alphabet_list:\n",
        "  if com in string:\n",
        "    loc = string.index(com)\n",
        "    arr.append(loc)\n",
        "  elif com not in string:\n",
        "    arr.append(-1)\n",
        "for i in range(len(arr)):\n",
        "  print(arr[i], end=\" \")\n"
      ],
      "metadata": {
        "colab": {
          "base_uri": "https://localhost:8080/"
        },
        "id": "kPGBUDpD52wa",
        "outputId": "a6b57241-e319-43e0-9390-3cbf93c6498c"
      },
      "execution_count": 33,
      "outputs": [
        {
          "output_type": "stream",
          "name": "stdout",
          "text": [
            "sdajlf\n",
            "2 -1 -1 1 -1 5 -1 -1 -1 3 -1 4 -1 -1 -1 -1 -1 -1 0 -1 -1 -1 -1 -1 -1 -1 "
          ]
        }
      ]
    },
    {
      "cell_type": "code",
      "source": [
        "T = int(input())\n",
        "arr = str(input())\n",
        "R = int(arr[0])\n",
        "S = str(arr[2:])\n",
        "P = \"\"\n",
        "for i in range(len(S)):\n",
        "  P = P + S[i]*R\n",
        "print(P)"
      ],
      "metadata": {
        "colab": {
          "base_uri": "https://localhost:8080/"
        },
        "id": "8z0017f58khK",
        "outputId": "527ee3a0-74e0-4fe9-9c4f-8fc310d5f25a"
      },
      "execution_count": 56,
      "outputs": [
        {
          "output_type": "stream",
          "name": "stdout",
          "text": [
            "5\n",
            "7 fg\n",
            "fffffffggggggg\n"
          ]
        }
      ]
    },
    {
      "cell_type": "code",
      "source": [
        "t = int(input())\n",
        "for i in range(t):\n",
        "    num, s = input().split()\n",
        "    text = ''\n",
        "    for i in s:\n",
        "        text += int(num) * i\n",
        "    print(text)"
      ],
      "metadata": {
        "colab": {
          "base_uri": "https://localhost:8080/"
        },
        "id": "o5UcC6jZSbut",
        "outputId": "78167c98-b550-481c-ee8b-d55be58e7653"
      },
      "execution_count": 57,
      "outputs": [
        {
          "output_type": "stream",
          "name": "stdout",
          "text": [
            "5\n",
            "7 ㅇㄹ\n",
            "ㅇㅇㅇㅇㅇㅇㅇㄹㄹㄹㄹㄹㄹㄹ\n",
            "3 df\n",
            "dddfff\n",
            "2 df\n",
            "ddff\n",
            "5 d\n",
            "ddddd\n",
            "3 df\n",
            "dddfff\n"
          ]
        }
      ]
    }
  ]
}