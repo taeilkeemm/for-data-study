{
  "nbformat": 4,
  "nbformat_minor": 0,
  "metadata": {
    "colab": {
      "name": "공공조달(220205).ipynb",
      "provenance": [],
      "collapsed_sections": [],
      "mount_file_id": "1VYOwTGZlu15a4Vxjlga5Al_rJJDk9loz",
      "authorship_tag": "ABX9TyPdndC/XirMcL1bPEY7SkXX",
      "include_colab_link": true
    },
    "kernelspec": {
      "name": "python3",
      "display_name": "Python 3"
    },
    "language_info": {
      "name": "python"
    }
  },
  "cells": [
    {
      "cell_type": "markdown",
      "metadata": {
        "id": "view-in-github",
        "colab_type": "text"
      },
      "source": [
        "<a href=\"https://colab.research.google.com/github/taeilkeemm/fordatastudy/blob/main/%EA%B3%B5%EA%B3%B5%EC%A1%B0%EB%8B%AC(220205).ipynb\" target=\"_parent\"><img src=\"https://colab.research.google.com/assets/colab-badge.svg\" alt=\"Open In Colab\"/></a>"
      ]
    },
    {
      "cell_type": "code",
      "execution_count": 330,
      "metadata": {
        "id": "xJ2iAY_JKNRB"
      },
      "outputs": [],
      "source": [
        "##데이터 전처리 및 시각화 라이브러리 불러오기\n",
        "import pandas as pd\n",
        "import numpy as np\n",
        "import matplotlib.pyplot as plt\n",
        "import os\n",
        "import matplotlib.font_manager as fm"
      ]
    },
    {
      "cell_type": "code",
      "source": [
        "##종합 쇼핑몰 납품 요구 내역 월별 데이터 불러오기 (2021년)\n",
        "df1 = pd.read_csv(\"1월.csv\")\n",
        "df2 = pd.read_csv(\"2월.csv\")\n",
        "df3 = pd.read_csv(\"3월.csv\")\n",
        "df4 = pd.read_csv(\"4월.csv\")\n",
        "df5 = pd.read_csv(\"5월.csv\")\n",
        "df6 = pd.read_csv(\"6월.csv\")\n",
        "df7 = pd.read_csv(\"7월.csv\")\n",
        "df8 = pd.read_csv(\"8월.csv\")\n",
        "df9 = pd.read_csv(\"9월.csv\")\n",
        "df10 = pd.read_csv(\"10월.csv\")\n",
        "df11 = pd.read_csv(\"11월.csv\")\n",
        "df12 = pd.read_csv(\"12월.csv\")\n"
      ],
      "metadata": {
        "colab": {
          "base_uri": "https://localhost:8080/"
        },
        "id": "wGgBv2utTl5b",
        "outputId": "dbda10de-677b-4415-c4d5-4520745c357f"
      },
      "execution_count": 331,
      "outputs": [
        {
          "output_type": "stream",
          "name": "stderr",
          "text": [
            "/usr/local/lib/python3.7/dist-packages/IPython/core/interactiveshell.py:2882: DtypeWarning: Columns (14) have mixed types.Specify dtype option on import or set low_memory=False.\n",
            "  exec(code_obj, self.user_global_ns, self.user_ns)\n"
          ]
        }
      ]
    },
    {
      "cell_type": "code",
      "source": [
        "##종합 쇼핑몰 납품 요구 내역 2021년 데이터 저장\n",
        "df_all = pd.concat([df1, df2, df3, df4, df5, df6, df7, df8, df9, df10, df11, df12])\n",
        "df_all.to_csv(\"종합.csv\")"
      ],
      "metadata": {
        "id": "rhcNfMf_T7U8"
      },
      "execution_count": 332,
      "outputs": []
    },
    {
      "cell_type": "code",
      "source": [
        "##종합 쇼핑몰 2021년 데이터 불러오기\n",
        "df_origin = pd.read_csv(\"종합.csv\", parse_dates = ['납품요구접수일자'])\n",
        "df_origin.set_index(df_origin['납품요구접수일자'], inplace=True)"
      ],
      "metadata": {
        "colab": {
          "base_uri": "https://localhost:8080/"
        },
        "id": "x54IitlUV62n",
        "outputId": "7211cb2b-3715-4dea-e0ce-b5170686a3d0"
      },
      "execution_count": 333,
      "outputs": [
        {
          "output_type": "stream",
          "name": "stderr",
          "text": [
            "/usr/local/lib/python3.7/dist-packages/IPython/core/interactiveshell.py:2882: DtypeWarning: Columns (15) have mixed types.Specify dtype option on import or set low_memory=False.\n",
            "  exec(code_obj, self.user_global_ns, self.user_ns)\n"
          ]
        }
      ]
    },
    {
      "cell_type": "code",
      "source": [
        "##칼럼명 확인\n",
        "df_origin.columns"
      ],
      "metadata": {
        "colab": {
          "base_uri": "https://localhost:8080/"
        },
        "id": "1dzjUJyXNFMW",
        "outputId": "eab1f590-6319-495f-e684-1fcd16579ed8"
      },
      "execution_count": 334,
      "outputs": [
        {
          "output_type": "execute_result",
          "data": {
            "text/plain": [
              "Index(['Unnamed: 0', '납품요구번호', '납품요구변경차수', '수요기관명', '납품요구접수일자', '납품요구건명',\n",
              "       '업체명', '대표물품분류번호', '대표품명', '대표세부물품분류번호', '대표세부품명', '증감납품요구수량',\n",
              "       '증감납품요구금액', '최대납품기한', '계약구분', '계약번호', '계약변경차수', '다수공급자계약여부', '우수제품여부',\n",
              "       '최종납품요구여부', '최초납품요구접수일자', '최초납품요구금액', '수요기관코드', '수요기관구분', '수요기관지역명',\n",
              "       '업체사업자등록번호', '업체기업구분명', '납품요구지청명'],\n",
              "      dtype='object')"
            ]
          },
          "metadata": {},
          "execution_count": 334
        }
      ]
    },
    {
      "cell_type": "code",
      "source": [
        "##원본 데이터 확인\n",
        "df_origin"
      ],
      "metadata": {
        "colab": {
          "base_uri": "https://localhost:8080/",
          "height": 1000
        },
        "id": "t0JdMrfCBiLt",
        "outputId": "a8fa56d0-2cd0-4f3f-81ac-1dd3a0cdc460"
      },
      "execution_count": 407,
      "outputs": [
        {
          "output_type": "execute_result",
          "data": {
            "text/html": [
              "\n",
              "  <div id=\"df-5cc4e8bf-e888-4a15-8448-3397b8cbd589\">\n",
              "    <div class=\"colab-df-container\">\n",
              "      <div>\n",
              "<style scoped>\n",
              "    .dataframe tbody tr th:only-of-type {\n",
              "        vertical-align: middle;\n",
              "    }\n",
              "\n",
              "    .dataframe tbody tr th {\n",
              "        vertical-align: top;\n",
              "    }\n",
              "\n",
              "    .dataframe thead th {\n",
              "        text-align: right;\n",
              "    }\n",
              "</style>\n",
              "<table border=\"1\" class=\"dataframe\">\n",
              "  <thead>\n",
              "    <tr style=\"text-align: right;\">\n",
              "      <th></th>\n",
              "      <th>Unnamed: 0</th>\n",
              "      <th>납품요구번호</th>\n",
              "      <th>납품요구변경차수</th>\n",
              "      <th>수요기관명</th>\n",
              "      <th>납품요구접수일자</th>\n",
              "      <th>납품요구건명</th>\n",
              "      <th>업체명</th>\n",
              "      <th>대표물품분류번호</th>\n",
              "      <th>대표품명</th>\n",
              "      <th>대표세부물품분류번호</th>\n",
              "      <th>대표세부품명</th>\n",
              "      <th>증감납품요구수량</th>\n",
              "      <th>증감납품요구금액</th>\n",
              "      <th>최대납품기한</th>\n",
              "      <th>계약구분</th>\n",
              "      <th>계약번호</th>\n",
              "      <th>계약변경차수</th>\n",
              "      <th>다수공급자계약여부</th>\n",
              "      <th>우수제품여부</th>\n",
              "      <th>최종납품요구여부</th>\n",
              "      <th>최초납품요구접수일자</th>\n",
              "      <th>최초납품요구금액</th>\n",
              "      <th>수요기관코드</th>\n",
              "      <th>수요기관구분</th>\n",
              "      <th>수요기관지역명</th>\n",
              "      <th>업체사업자등록번호</th>\n",
              "      <th>업체기업구분명</th>\n",
              "      <th>납품요구지청명</th>\n",
              "    </tr>\n",
              "    <tr>\n",
              "      <th>납품요구접수일자</th>\n",
              "      <th></th>\n",
              "      <th></th>\n",
              "      <th></th>\n",
              "      <th></th>\n",
              "      <th></th>\n",
              "      <th></th>\n",
              "      <th></th>\n",
              "      <th></th>\n",
              "      <th></th>\n",
              "      <th></th>\n",
              "      <th></th>\n",
              "      <th></th>\n",
              "      <th></th>\n",
              "      <th></th>\n",
              "      <th></th>\n",
              "      <th></th>\n",
              "      <th></th>\n",
              "      <th></th>\n",
              "      <th></th>\n",
              "      <th></th>\n",
              "      <th></th>\n",
              "      <th></th>\n",
              "      <th></th>\n",
              "      <th></th>\n",
              "      <th></th>\n",
              "      <th></th>\n",
              "      <th></th>\n",
              "      <th></th>\n",
              "    </tr>\n",
              "  </thead>\n",
              "  <tbody>\n",
              "    <tr>\n",
              "      <th>2021-01-07</th>\n",
              "      <td>0</td>\n",
              "      <td>2121301332</td>\n",
              "      <td>0</td>\n",
              "      <td>울산광역시교육청 울산광역시강남교육지원청 월평유치원</td>\n",
              "      <td>2021-01-07</td>\n",
              "      <td>월평유치원 급식 기구 구입</td>\n",
              "      <td>화신주방산업 주식회사</td>\n",
              "      <td>48101521</td>\n",
              "      <td>상업용레인지</td>\n",
              "      <td>4810152101</td>\n",
              "      <td>상업용가스레인지</td>\n",
              "      <td>2.0</td>\n",
              "      <td>5230000</td>\n",
              "      <td>20210216.0</td>\n",
              "      <td>제3자단가</td>\n",
              "      <td>121921171</td>\n",
              "      <td>9</td>\n",
              "      <td>Y</td>\n",
              "      <td>N</td>\n",
              "      <td>Y</td>\n",
              "      <td>20210107</td>\n",
              "      <td>5230000</td>\n",
              "      <td>7501249</td>\n",
              "      <td>교육기관</td>\n",
              "      <td>울산광역시 남구</td>\n",
              "      <td>1268183938</td>\n",
              "      <td>중소기업</td>\n",
              "      <td>부산지방조달청</td>\n",
              "    </tr>\n",
              "    <tr>\n",
              "      <th>2021-01-27</th>\n",
              "      <td>1</td>\n",
              "      <td>2121306803</td>\n",
              "      <td>0</td>\n",
              "      <td>부경대학교 산학협력단</td>\n",
              "      <td>2021-01-27</td>\n",
              "      <td>지역산업맞춤형 인력양성사업 훈련장비 구입(비디오프로젝터)</td>\n",
              "      <td>영상문화</td>\n",
              "      <td>45111616</td>\n",
              "      <td>비디오프로젝터</td>\n",
              "      <td>4511161601</td>\n",
              "      <td>비디오프로젝터</td>\n",
              "      <td>3.0</td>\n",
              "      <td>15120000</td>\n",
              "      <td>20210211.0</td>\n",
              "      <td>제3자단가</td>\n",
              "      <td>002160026</td>\n",
              "      <td>0</td>\n",
              "      <td>Y</td>\n",
              "      <td>N</td>\n",
              "      <td>Y</td>\n",
              "      <td>20210127</td>\n",
              "      <td>15120000</td>\n",
              "      <td>7006386</td>\n",
              "      <td>기타기관</td>\n",
              "      <td>부산광역시 남구</td>\n",
              "      <td>3052119923</td>\n",
              "      <td>중소기업</td>\n",
              "      <td>부산지방조달청</td>\n",
              "    </tr>\n",
              "    <tr>\n",
              "      <th>2021-01-13</th>\n",
              "      <td>2</td>\n",
              "      <td>2321303563</td>\n",
              "      <td>0</td>\n",
              "      <td>대구광역시 북구</td>\n",
              "      <td>2021-01-13</td>\n",
              "      <td>관급자재(액상제설제) 구입</td>\n",
              "      <td>주식회사 해천케미칼</td>\n",
              "      <td>47131823</td>\n",
              "      <td>제설제또는서리제거제</td>\n",
              "      <td>4713182302</td>\n",
              "      <td>액상제설제</td>\n",
              "      <td>50000.0</td>\n",
              "      <td>13200000</td>\n",
              "      <td>20210222.0</td>\n",
              "      <td>제3자단가</td>\n",
              "      <td>002061545</td>\n",
              "      <td>0</td>\n",
              "      <td>Y</td>\n",
              "      <td>N</td>\n",
              "      <td>Y</td>\n",
              "      <td>20210113</td>\n",
              "      <td>13200000</td>\n",
              "      <td>3450000</td>\n",
              "      <td>지자체</td>\n",
              "      <td>대구광역시 북구</td>\n",
              "      <td>1348169499</td>\n",
              "      <td>중소기업</td>\n",
              "      <td>대구지방조달청</td>\n",
              "    </tr>\n",
              "    <tr>\n",
              "      <th>2021-01-11</th>\n",
              "      <td>3</td>\n",
              "      <td>2521301786</td>\n",
              "      <td>0</td>\n",
              "      <td>충청남도 아산시</td>\n",
              "      <td>2021-01-11</td>\n",
              "      <td>외암천 재해복구공사 돌망태 조달구매</td>\n",
              "      <td>에스원스틸 주식회사</td>\n",
              "      <td>31163403</td>\n",
              "      <td>금속돌망태</td>\n",
              "      <td>3116340301</td>\n",
              "      <td>금속돌망태</td>\n",
              "      <td>907.0</td>\n",
              "      <td>4506640</td>\n",
              "      <td>20210408.0</td>\n",
              "      <td>제3자단가</td>\n",
              "      <td>251930208</td>\n",
              "      <td>1</td>\n",
              "      <td>Y</td>\n",
              "      <td>N</td>\n",
              "      <td>Y</td>\n",
              "      <td>20210111</td>\n",
              "      <td>4506640</td>\n",
              "      <td>4520000</td>\n",
              "      <td>지자체</td>\n",
              "      <td>충청남도 아산시</td>\n",
              "      <td>3088108695</td>\n",
              "      <td>중소기업</td>\n",
              "      <td>대전지방조달청</td>\n",
              "    </tr>\n",
              "    <tr>\n",
              "      <th>2021-01-21</th>\n",
              "      <td>4</td>\n",
              "      <td>2221309117</td>\n",
              "      <td>0</td>\n",
              "      <td>경기도 오산시</td>\n",
              "      <td>2021-01-21</td>\n",
              "      <td>제설자재(액상제설제) 구입</td>\n",
              "      <td>주식회사 해천케미칼</td>\n",
              "      <td>47131823</td>\n",
              "      <td>제설제또는서리제거제</td>\n",
              "      <td>4713182302</td>\n",
              "      <td>액상제설제</td>\n",
              "      <td>110000.0</td>\n",
              "      <td>29040000</td>\n",
              "      <td>20210302.0</td>\n",
              "      <td>제3자단가</td>\n",
              "      <td>002061545</td>\n",
              "      <td>0</td>\n",
              "      <td>Y</td>\n",
              "      <td>N</td>\n",
              "      <td>Y</td>\n",
              "      <td>20210121</td>\n",
              "      <td>29040000</td>\n",
              "      <td>4000000</td>\n",
              "      <td>지자체</td>\n",
              "      <td>경기도 오산시</td>\n",
              "      <td>1348169499</td>\n",
              "      <td>중소기업</td>\n",
              "      <td>인천지방조달청</td>\n",
              "    </tr>\n",
              "    <tr>\n",
              "      <th>...</th>\n",
              "      <td>...</td>\n",
              "      <td>...</td>\n",
              "      <td>...</td>\n",
              "      <td>...</td>\n",
              "      <td>...</td>\n",
              "      <td>...</td>\n",
              "      <td>...</td>\n",
              "      <td>...</td>\n",
              "      <td>...</td>\n",
              "      <td>...</td>\n",
              "      <td>...</td>\n",
              "      <td>...</td>\n",
              "      <td>...</td>\n",
              "      <td>...</td>\n",
              "      <td>...</td>\n",
              "      <td>...</td>\n",
              "      <td>...</td>\n",
              "      <td>...</td>\n",
              "      <td>...</td>\n",
              "      <td>...</td>\n",
              "      <td>...</td>\n",
              "      <td>...</td>\n",
              "      <td>...</td>\n",
              "      <td>...</td>\n",
              "      <td>...</td>\n",
              "      <td>...</td>\n",
              "      <td>...</td>\n",
              "      <td>...</td>\n",
              "    </tr>\n",
              "    <tr>\n",
              "      <th>2021-12-31</th>\n",
              "      <td>195217</td>\n",
              "      <td>3921330560</td>\n",
              "      <td>0</td>\n",
              "      <td>제주특별자치도교육청 제주시교육청 백록초등학교</td>\n",
              "      <td>2021-12-31</td>\n",
              "      <td>원격 수업 환경 구축 관련 물품 구입(노트북 외 1종)</td>\n",
              "      <td>주식회사 엠텍정보</td>\n",
              "      <td>43211503</td>\n",
              "      <td>노트북컴퓨터</td>\n",
              "      <td>4321150301</td>\n",
              "      <td>노트북컴퓨터</td>\n",
              "      <td>7.0</td>\n",
              "      <td>8085000</td>\n",
              "      <td>20220130.0</td>\n",
              "      <td>제3자단가</td>\n",
              "      <td>002161454</td>\n",
              "      <td>2</td>\n",
              "      <td>Y</td>\n",
              "      <td>N</td>\n",
              "      <td>Y</td>\n",
              "      <td>20211231</td>\n",
              "      <td>8085000</td>\n",
              "      <td>9295172</td>\n",
              "      <td>교육기관</td>\n",
              "      <td>제주특별자치도 제주시</td>\n",
              "      <td>4108626915</td>\n",
              "      <td>중소기업</td>\n",
              "      <td>제주지방조달청</td>\n",
              "    </tr>\n",
              "    <tr>\n",
              "      <th>2021-12-31</th>\n",
              "      <td>195218</td>\n",
              "      <td>3921330575</td>\n",
              "      <td>0</td>\n",
              "      <td>제주특별자치도교육청 제주시교육지원청 한천초등학교</td>\n",
              "      <td>2021-12-31</td>\n",
              "      <td>본관지하층 공기순환기 구매</td>\n",
              "      <td>은성화학주식회사</td>\n",
              "      <td>72151299</td>\n",
              "      <td>냉난방공조공사</td>\n",
              "      <td>7215129901</td>\n",
              "      <td>냉난방공조공사</td>\n",
              "      <td>620.0</td>\n",
              "      <td>20675320</td>\n",
              "      <td>20220130.0</td>\n",
              "      <td>제3자단가</td>\n",
              "      <td>001881596</td>\n",
              "      <td>19</td>\n",
              "      <td>Y</td>\n",
              "      <td>N</td>\n",
              "      <td>Y</td>\n",
              "      <td>20211231</td>\n",
              "      <td>20675320</td>\n",
              "      <td>9296046</td>\n",
              "      <td>교육기관</td>\n",
              "      <td>제주특별자치도 제주시</td>\n",
              "      <td>1248151857</td>\n",
              "      <td>중소기업</td>\n",
              "      <td>제주지방조달청</td>\n",
              "    </tr>\n",
              "    <tr>\n",
              "      <th>2021-12-31</th>\n",
              "      <td>195219</td>\n",
              "      <td>3921330582</td>\n",
              "      <td>0</td>\n",
              "      <td>제주특별자치도 상하수도본부</td>\n",
              "      <td>2021-12-31</td>\n",
              "      <td>조천처리분구 하수관로 정비사업(교래처리분구)전기및계측제어공사-현장제어반</td>\n",
              "      <td>주식회사 대은계전</td>\n",
              "      <td>39121189</td>\n",
              "      <td>계장제어장치</td>\n",
              "      <td>3912118901</td>\n",
              "      <td>계장제어장치</td>\n",
              "      <td>1.0</td>\n",
              "      <td>23040000</td>\n",
              "      <td>20220530.0</td>\n",
              "      <td>제3자단가</td>\n",
              "      <td>002070224</td>\n",
              "      <td>0</td>\n",
              "      <td>N</td>\n",
              "      <td>Y</td>\n",
              "      <td>Y</td>\n",
              "      <td>20211231</td>\n",
              "      <td>23040000</td>\n",
              "      <td>6500654</td>\n",
              "      <td>지자체</td>\n",
              "      <td>제주특별자치도 제주시</td>\n",
              "      <td>6168157632</td>\n",
              "      <td>중소기업</td>\n",
              "      <td>제주지방조달청</td>\n",
              "    </tr>\n",
              "    <tr>\n",
              "      <th>2021-12-31</th>\n",
              "      <td>195220</td>\n",
              "      <td>3921330583</td>\n",
              "      <td>0</td>\n",
              "      <td>제주대학교</td>\n",
              "      <td>2021-12-31</td>\n",
              "      <td>(혁신)첨단학과 데이터사이언스학과(전산통계) 통합실험실 구축 기자재 구</td>\n",
              "      <td>주식회사 랩241</td>\n",
              "      <td>60109399</td>\n",
              "      <td>멀티미디어학습시스템</td>\n",
              "      <td>6010939902</td>\n",
              "      <td>수업자동녹화시스템</td>\n",
              "      <td>1.0</td>\n",
              "      <td>13200000</td>\n",
              "      <td>20220207.0</td>\n",
              "      <td>제3자단가</td>\n",
              "      <td>001960236</td>\n",
              "      <td>2</td>\n",
              "      <td>Y</td>\n",
              "      <td>N</td>\n",
              "      <td>Y</td>\n",
              "      <td>20211231</td>\n",
              "      <td>13200000</td>\n",
              "      <td>7000974</td>\n",
              "      <td>국가기관</td>\n",
              "      <td>제주특별자치도 제주시</td>\n",
              "      <td>1788600194</td>\n",
              "      <td>중소기업</td>\n",
              "      <td>제주지방조달청</td>\n",
              "    </tr>\n",
              "    <tr>\n",
              "      <th>2021-12-31</th>\n",
              "      <td>195221</td>\n",
              "      <td>3921330597</td>\n",
              "      <td>0</td>\n",
              "      <td>제주특별자치도교육청 제주시교육지원청 제주동여자중학교</td>\n",
              "      <td>2021-12-31</td>\n",
              "      <td>책상 외 2건 조달요청</td>\n",
              "      <td>주식회사 투템디자인</td>\n",
              "      <td>56101706</td>\n",
              "      <td>회의용탁자</td>\n",
              "      <td>5610170601</td>\n",
              "      <td>회의용탁자</td>\n",
              "      <td>2.0</td>\n",
              "      <td>506000</td>\n",
              "      <td>20220130.0</td>\n",
              "      <td>제3자단가</td>\n",
              "      <td>122110793</td>\n",
              "      <td>0</td>\n",
              "      <td>Y</td>\n",
              "      <td>N</td>\n",
              "      <td>Y</td>\n",
              "      <td>20211231</td>\n",
              "      <td>506000</td>\n",
              "      <td>9296014</td>\n",
              "      <td>교육기관</td>\n",
              "      <td>제주특별자치도 제주시</td>\n",
              "      <td>7478101112</td>\n",
              "      <td>중소기업</td>\n",
              "      <td>제주지방조달청</td>\n",
              "    </tr>\n",
              "  </tbody>\n",
              "</table>\n",
              "<p>1618455 rows × 28 columns</p>\n",
              "</div>\n",
              "      <button class=\"colab-df-convert\" onclick=\"convertToInteractive('df-5cc4e8bf-e888-4a15-8448-3397b8cbd589')\"\n",
              "              title=\"Convert this dataframe to an interactive table.\"\n",
              "              style=\"display:none;\">\n",
              "        \n",
              "  <svg xmlns=\"http://www.w3.org/2000/svg\" height=\"24px\"viewBox=\"0 0 24 24\"\n",
              "       width=\"24px\">\n",
              "    <path d=\"M0 0h24v24H0V0z\" fill=\"none\"/>\n",
              "    <path d=\"M18.56 5.44l.94 2.06.94-2.06 2.06-.94-2.06-.94-.94-2.06-.94 2.06-2.06.94zm-11 1L8.5 8.5l.94-2.06 2.06-.94-2.06-.94L8.5 2.5l-.94 2.06-2.06.94zm10 10l.94 2.06.94-2.06 2.06-.94-2.06-.94-.94-2.06-.94 2.06-2.06.94z\"/><path d=\"M17.41 7.96l-1.37-1.37c-.4-.4-.92-.59-1.43-.59-.52 0-1.04.2-1.43.59L10.3 9.45l-7.72 7.72c-.78.78-.78 2.05 0 2.83L4 21.41c.39.39.9.59 1.41.59.51 0 1.02-.2 1.41-.59l7.78-7.78 2.81-2.81c.8-.78.8-2.07 0-2.86zM5.41 20L4 18.59l7.72-7.72 1.47 1.35L5.41 20z\"/>\n",
              "  </svg>\n",
              "      </button>\n",
              "      \n",
              "  <style>\n",
              "    .colab-df-container {\n",
              "      display:flex;\n",
              "      flex-wrap:wrap;\n",
              "      gap: 12px;\n",
              "    }\n",
              "\n",
              "    .colab-df-convert {\n",
              "      background-color: #E8F0FE;\n",
              "      border: none;\n",
              "      border-radius: 50%;\n",
              "      cursor: pointer;\n",
              "      display: none;\n",
              "      fill: #1967D2;\n",
              "      height: 32px;\n",
              "      padding: 0 0 0 0;\n",
              "      width: 32px;\n",
              "    }\n",
              "\n",
              "    .colab-df-convert:hover {\n",
              "      background-color: #E2EBFA;\n",
              "      box-shadow: 0px 1px 2px rgba(60, 64, 67, 0.3), 0px 1px 3px 1px rgba(60, 64, 67, 0.15);\n",
              "      fill: #174EA6;\n",
              "    }\n",
              "\n",
              "    [theme=dark] .colab-df-convert {\n",
              "      background-color: #3B4455;\n",
              "      fill: #D2E3FC;\n",
              "    }\n",
              "\n",
              "    [theme=dark] .colab-df-convert:hover {\n",
              "      background-color: #434B5C;\n",
              "      box-shadow: 0px 1px 3px 1px rgba(0, 0, 0, 0.15);\n",
              "      filter: drop-shadow(0px 1px 2px rgba(0, 0, 0, 0.3));\n",
              "      fill: #FFFFFF;\n",
              "    }\n",
              "  </style>\n",
              "\n",
              "      <script>\n",
              "        const buttonEl =\n",
              "          document.querySelector('#df-5cc4e8bf-e888-4a15-8448-3397b8cbd589 button.colab-df-convert');\n",
              "        buttonEl.style.display =\n",
              "          google.colab.kernel.accessAllowed ? 'block' : 'none';\n",
              "\n",
              "        async function convertToInteractive(key) {\n",
              "          const element = document.querySelector('#df-5cc4e8bf-e888-4a15-8448-3397b8cbd589');\n",
              "          const dataTable =\n",
              "            await google.colab.kernel.invokeFunction('convertToInteractive',\n",
              "                                                     [key], {});\n",
              "          if (!dataTable) return;\n",
              "\n",
              "          const docLinkHtml = 'Like what you see? Visit the ' +\n",
              "            '<a target=\"_blank\" href=https://colab.research.google.com/notebooks/data_table.ipynb>data table notebook</a>'\n",
              "            + ' to learn more about interactive tables.';\n",
              "          element.innerHTML = '';\n",
              "          dataTable['output_type'] = 'display_data';\n",
              "          await google.colab.output.renderOutput(dataTable, element);\n",
              "          const docLink = document.createElement('div');\n",
              "          docLink.innerHTML = docLinkHtml;\n",
              "          element.appendChild(docLink);\n",
              "        }\n",
              "      </script>\n",
              "    </div>\n",
              "  </div>\n",
              "  "
            ],
            "text/plain": [
              "            Unnamed: 0      납품요구번호  납품요구변경차수  ...   업체사업자등록번호 업체기업구분명  납품요구지청명\n",
              "납품요구접수일자                                      ...                             \n",
              "2021-01-07           0  2121301332         0  ...  1268183938    중소기업  부산지방조달청\n",
              "2021-01-27           1  2121306803         0  ...  3052119923    중소기업  부산지방조달청\n",
              "2021-01-13           2  2321303563         0  ...  1348169499    중소기업  대구지방조달청\n",
              "2021-01-11           3  2521301786         0  ...  3088108695    중소기업  대전지방조달청\n",
              "2021-01-21           4  2221309117         0  ...  1348169499    중소기업  인천지방조달청\n",
              "...                ...         ...       ...  ...         ...     ...      ...\n",
              "2021-12-31      195217  3921330560         0  ...  4108626915    중소기업  제주지방조달청\n",
              "2021-12-31      195218  3921330575         0  ...  1248151857    중소기업  제주지방조달청\n",
              "2021-12-31      195219  3921330582         0  ...  6168157632    중소기업  제주지방조달청\n",
              "2021-12-31      195220  3921330583         0  ...  1788600194    중소기업  제주지방조달청\n",
              "2021-12-31      195221  3921330597         0  ...  7478101112    중소기업  제주지방조달청\n",
              "\n",
              "[1618455 rows x 28 columns]"
            ]
          },
          "metadata": {},
          "execution_count": 407
        }
      ]
    },
    {
      "cell_type": "code",
      "source": [
        "##원하는 칼럼만 추출\n",
        "df = df_origin[['대표세부품명', '증감납품요구수량']]"
      ],
      "metadata": {
        "id": "EaIXQt0WNGI9"
      },
      "execution_count": 552,
      "outputs": []
    },
    {
      "cell_type": "code",
      "source": [
        "##증감납품수량 기준 2021년 상위 10개 품목 선정, 데이터프레임 복제\n",
        "df2 = df"
      ],
      "metadata": {
        "id": "32yxLUwtZHjH"
      },
      "execution_count": 553,
      "outputs": []
    },
    {
      "cell_type": "code",
      "source": [
        "##대표세부품명별 합계 확인\n",
        "df2 = df2.groupby(['대표세부품명']).sum()"
      ],
      "metadata": {
        "id": "cpOtLqs_Nz4F"
      },
      "execution_count": 554,
      "outputs": []
    },
    {
      "cell_type": "code",
      "source": [
        "##납품요구수량 기준 내림차순 정렬\n",
        "df2 = df2.sort_values('증감납품요구수량', ascending=False)"
      ],
      "metadata": {
        "id": "kYb6blsEPxQU"
      },
      "execution_count": 555,
      "outputs": []
    },
    {
      "cell_type": "code",
      "source": [
        "##랭킹 칼럼 추가, 인덱스로 지정\n",
        "df2['rank'] = df2['증감납품요구수량'].rank(method='max', ascending=False)\n",
        "df2 = df2.reset_index()\n",
        "df2 = df2.set_index(df2['rank'])\n",
        "df2 = df2.drop(['rank'], axis=1)"
      ],
      "metadata": {
        "id": "VHBdNrenUD0U"
      },
      "execution_count": 556,
      "outputs": []
    },
    {
      "cell_type": "code",
      "source": [
        "##증감납품요구수량 상위 10개 품목 확인\n",
        "df2[:10]"
      ],
      "metadata": {
        "colab": {
          "base_uri": "https://localhost:8080/",
          "height": 394
        },
        "id": "ld2SGUnwQdO0",
        "outputId": "c82bc946-5e29-4170-9e96-4c9d16e939af"
      },
      "execution_count": 557,
      "outputs": [
        {
          "output_type": "execute_result",
          "data": {
            "text/html": [
              "\n",
              "  <div id=\"df-41896b93-6565-4d9f-bb5d-f9f39cb0f4d7\">\n",
              "    <div class=\"colab-df-container\">\n",
              "      <div>\n",
              "<style scoped>\n",
              "    .dataframe tbody tr th:only-of-type {\n",
              "        vertical-align: middle;\n",
              "    }\n",
              "\n",
              "    .dataframe tbody tr th {\n",
              "        vertical-align: top;\n",
              "    }\n",
              "\n",
              "    .dataframe thead th {\n",
              "        text-align: right;\n",
              "    }\n",
              "</style>\n",
              "<table border=\"1\" class=\"dataframe\">\n",
              "  <thead>\n",
              "    <tr style=\"text-align: right;\">\n",
              "      <th></th>\n",
              "      <th>대표세부품명</th>\n",
              "      <th>증감납품요구수량</th>\n",
              "    </tr>\n",
              "    <tr>\n",
              "      <th>rank</th>\n",
              "      <th></th>\n",
              "      <th></th>\n",
              "    </tr>\n",
              "  </thead>\n",
              "  <tbody>\n",
              "    <tr>\n",
              "      <th>1.0</th>\n",
              "      <td>쓰레기봉투</td>\n",
              "      <td>1.706780e+09</td>\n",
              "    </tr>\n",
              "    <tr>\n",
              "      <th>2.0</th>\n",
              "      <td>경유</td>\n",
              "      <td>5.242174e+08</td>\n",
              "    </tr>\n",
              "    <tr>\n",
              "      <th>3.0</th>\n",
              "      <td>라벨용지</td>\n",
              "      <td>3.416568e+08</td>\n",
              "    </tr>\n",
              "    <tr>\n",
              "      <th>4.0</th>\n",
              "      <td>보건용마스크</td>\n",
              "      <td>3.123527e+08</td>\n",
              "    </tr>\n",
              "    <tr>\n",
              "      <th>5.0</th>\n",
              "      <td>콘크리트벽돌</td>\n",
              "      <td>2.086848e+08</td>\n",
              "    </tr>\n",
              "    <tr>\n",
              "      <th>6.0</th>\n",
              "      <td>항공기연료</td>\n",
              "      <td>9.859411e+07</td>\n",
              "    </tr>\n",
              "    <tr>\n",
              "      <th>7.0</th>\n",
              "      <td>미장벽돌</td>\n",
              "      <td>5.727896e+07</td>\n",
              "    </tr>\n",
              "    <tr>\n",
              "      <th>8.0</th>\n",
              "      <td>기타화초</td>\n",
              "      <td>4.629742e+07</td>\n",
              "    </tr>\n",
              "    <tr>\n",
              "      <th>9.0</th>\n",
              "      <td>상온주스</td>\n",
              "      <td>4.626541e+07</td>\n",
              "    </tr>\n",
              "    <tr>\n",
              "      <th>10.0</th>\n",
              "      <td>레미콘</td>\n",
              "      <td>3.269288e+07</td>\n",
              "    </tr>\n",
              "  </tbody>\n",
              "</table>\n",
              "</div>\n",
              "      <button class=\"colab-df-convert\" onclick=\"convertToInteractive('df-41896b93-6565-4d9f-bb5d-f9f39cb0f4d7')\"\n",
              "              title=\"Convert this dataframe to an interactive table.\"\n",
              "              style=\"display:none;\">\n",
              "        \n",
              "  <svg xmlns=\"http://www.w3.org/2000/svg\" height=\"24px\"viewBox=\"0 0 24 24\"\n",
              "       width=\"24px\">\n",
              "    <path d=\"M0 0h24v24H0V0z\" fill=\"none\"/>\n",
              "    <path d=\"M18.56 5.44l.94 2.06.94-2.06 2.06-.94-2.06-.94-.94-2.06-.94 2.06-2.06.94zm-11 1L8.5 8.5l.94-2.06 2.06-.94-2.06-.94L8.5 2.5l-.94 2.06-2.06.94zm10 10l.94 2.06.94-2.06 2.06-.94-2.06-.94-.94-2.06-.94 2.06-2.06.94z\"/><path d=\"M17.41 7.96l-1.37-1.37c-.4-.4-.92-.59-1.43-.59-.52 0-1.04.2-1.43.59L10.3 9.45l-7.72 7.72c-.78.78-.78 2.05 0 2.83L4 21.41c.39.39.9.59 1.41.59.51 0 1.02-.2 1.41-.59l7.78-7.78 2.81-2.81c.8-.78.8-2.07 0-2.86zM5.41 20L4 18.59l7.72-7.72 1.47 1.35L5.41 20z\"/>\n",
              "  </svg>\n",
              "      </button>\n",
              "      \n",
              "  <style>\n",
              "    .colab-df-container {\n",
              "      display:flex;\n",
              "      flex-wrap:wrap;\n",
              "      gap: 12px;\n",
              "    }\n",
              "\n",
              "    .colab-df-convert {\n",
              "      background-color: #E8F0FE;\n",
              "      border: none;\n",
              "      border-radius: 50%;\n",
              "      cursor: pointer;\n",
              "      display: none;\n",
              "      fill: #1967D2;\n",
              "      height: 32px;\n",
              "      padding: 0 0 0 0;\n",
              "      width: 32px;\n",
              "    }\n",
              "\n",
              "    .colab-df-convert:hover {\n",
              "      background-color: #E2EBFA;\n",
              "      box-shadow: 0px 1px 2px rgba(60, 64, 67, 0.3), 0px 1px 3px 1px rgba(60, 64, 67, 0.15);\n",
              "      fill: #174EA6;\n",
              "    }\n",
              "\n",
              "    [theme=dark] .colab-df-convert {\n",
              "      background-color: #3B4455;\n",
              "      fill: #D2E3FC;\n",
              "    }\n",
              "\n",
              "    [theme=dark] .colab-df-convert:hover {\n",
              "      background-color: #434B5C;\n",
              "      box-shadow: 0px 1px 3px 1px rgba(0, 0, 0, 0.15);\n",
              "      filter: drop-shadow(0px 1px 2px rgba(0, 0, 0, 0.3));\n",
              "      fill: #FFFFFF;\n",
              "    }\n",
              "  </style>\n",
              "\n",
              "      <script>\n",
              "        const buttonEl =\n",
              "          document.querySelector('#df-41896b93-6565-4d9f-bb5d-f9f39cb0f4d7 button.colab-df-convert');\n",
              "        buttonEl.style.display =\n",
              "          google.colab.kernel.accessAllowed ? 'block' : 'none';\n",
              "\n",
              "        async function convertToInteractive(key) {\n",
              "          const element = document.querySelector('#df-41896b93-6565-4d9f-bb5d-f9f39cb0f4d7');\n",
              "          const dataTable =\n",
              "            await google.colab.kernel.invokeFunction('convertToInteractive',\n",
              "                                                     [key], {});\n",
              "          if (!dataTable) return;\n",
              "\n",
              "          const docLinkHtml = 'Like what you see? Visit the ' +\n",
              "            '<a target=\"_blank\" href=https://colab.research.google.com/notebooks/data_table.ipynb>data table notebook</a>'\n",
              "            + ' to learn more about interactive tables.';\n",
              "          element.innerHTML = '';\n",
              "          dataTable['output_type'] = 'display_data';\n",
              "          await google.colab.output.renderOutput(dataTable, element);\n",
              "          const docLink = document.createElement('div');\n",
              "          docLink.innerHTML = docLinkHtml;\n",
              "          element.appendChild(docLink);\n",
              "        }\n",
              "      </script>\n",
              "    </div>\n",
              "  </div>\n",
              "  "
            ],
            "text/plain": [
              "      대표세부품명      증감납품요구수량\n",
              "rank                      \n",
              "1.0    쓰레기봉투  1.706780e+09\n",
              "2.0       경유  5.242174e+08\n",
              "3.0     라벨용지  3.416568e+08\n",
              "4.0   보건용마스크  3.123527e+08\n",
              "5.0   콘크리트벽돌  2.086848e+08\n",
              "6.0    항공기연료  9.859411e+07\n",
              "7.0     미장벽돌  5.727896e+07\n",
              "8.0     기타화초  4.629742e+07\n",
              "9.0     상온주스  4.626541e+07\n",
              "10.0     레미콘  3.269288e+07"
            ]
          },
          "metadata": {},
          "execution_count": 557
        }
      ]
    },
    {
      "cell_type": "code",
      "source": [
        "##상위 10개품목 이름 저장\n",
        "product = []\n",
        "for i in range(10):\n",
        "  product.append(df2.iat[i,0])"
      ],
      "metadata": {
        "id": "aaIAEmZtSmGD"
      },
      "execution_count": 558,
      "outputs": []
    },
    {
      "cell_type": "code",
      "source": [
        "##상위 10개 품목별 데이터프레임 생성\n",
        "df_1 = df[df['대표세부품명'] == product[0]]\n",
        "df_2 = df[df['대표세부품명'] == product[1]]\n",
        "df_3 = df[df['대표세부품명'] == product[2]]\n",
        "df_4 = df[df['대표세부품명'] == product[3]]\n",
        "df_5 = df[df['대표세부품명'] == product[4]]\n",
        "df_6 = df[df['대표세부품명'] == product[5]]\n",
        "df_7 = df[df['대표세부품명'] == product[6]]\n",
        "df_8 = df[df['대표세부품명'] == product[7]]\n",
        "df_9 = df[df['대표세부품명'] == product[8]]\n",
        "df_10 = df[df['대표세부품명'] == product[9]]"
      ],
      "metadata": {
        "id": "SfVevCgcX7Dk"
      },
      "execution_count": 559,
      "outputs": []
    },
    {
      "cell_type": "code",
      "source": [
        "##데이터 프레임 시간순서 정렬 (오래된 것 -> 최근 순)\n",
        "df_1 = df_1.sort_index()\n",
        "df_2 = df_2.sort_index()\n",
        "df_3 = df_3.sort_index()\n",
        "df_4 = df_4.sort_index()\n",
        "df_5 = df_5.sort_index()\n",
        "df_6 = df_6.sort_index()\n",
        "df_7 = df_7.sort_index()\n",
        "df_8 = df_8.sort_index()\n",
        "df_9 = df_9.sort_index()\n",
        "df_10 = df_10.sort_index()"
      ],
      "metadata": {
        "id": "j9JuozV4YSg3"
      },
      "execution_count": 560,
      "outputs": []
    },
    {
      "cell_type": "code",
      "source": [
        "##날짜별 시게열 대이터 그룹화 1등 품목\n",
        "df_1 = df_1.drop(['대표세부품명'], axis=1)\n",
        "df_1 = df_1.reset_index()\n",
        "df_1 = df_1.groupby('납품요구접수일자').sum()"
      ],
      "metadata": {
        "id": "r7PTIs2FUEj4"
      },
      "execution_count": 561,
      "outputs": []
    },
    {
      "cell_type": "code",
      "source": [
        "##날짜별 시게열 대이터 그룹화 2등 품목\n",
        "df_2 = df_2.drop(['대표세부품명'], axis=1)\n",
        "df_2 = df_2.reset_index()\n",
        "df_2 = df_2.groupby('납품요구접수일자').sum()"
      ],
      "metadata": {
        "id": "EBV4aZJ9dzIc"
      },
      "execution_count": 562,
      "outputs": []
    },
    {
      "cell_type": "code",
      "source": [
        "##날짜별 시게열 대이터 그룹화 3등 품목\n",
        "df_3 = df_3.drop(['대표세부품명'], axis=1)\n",
        "df_3 = df_3.reset_index()\n",
        "df_3 = df_3.groupby('납품요구접수일자').sum()"
      ],
      "metadata": {
        "id": "koEPl2iFeGbk"
      },
      "execution_count": 563,
      "outputs": []
    },
    {
      "cell_type": "code",
      "source": [
        "##날짜별 시게열 대이터 그룹화 4등 품목\n",
        "df_4 = df_4.drop(['대표세부품명'], axis=1)\n",
        "df_4 = df_4.reset_index()\n",
        "df_4 = df_4.groupby('납품요구접수일자').sum()"
      ],
      "metadata": {
        "id": "upi5QMv3eM3k"
      },
      "execution_count": 564,
      "outputs": []
    },
    {
      "cell_type": "code",
      "source": [
        "##날짜별 시게열 대이터 그룹화 5등 품목\n",
        "df_5 = df_5.drop(['대표세부품명'], axis=1)\n",
        "df_5 = df_6.reset_index()\n",
        "df_5 = df_5.groupby('납품요구접수일자').sum()"
      ],
      "metadata": {
        "id": "eIedXfoCeUBl"
      },
      "execution_count": 565,
      "outputs": []
    },
    {
      "cell_type": "code",
      "source": [
        "##날짜별 시게열 대이터 그룹화 6등 품목\n",
        "df_6 = df_6.drop(['대표세부품명'], axis=1)\n",
        "df_6 = df_6.reset_index()\n",
        "df_6 = df_6.groupby('납품요구접수일자').sum()"
      ],
      "metadata": {
        "id": "KuVh0E5eeY3s"
      },
      "execution_count": 566,
      "outputs": []
    },
    {
      "cell_type": "code",
      "source": [
        "##날짜별 시게열 대이터 그룹화 7등 품목\n",
        "df_7 = df_7.drop(['대표세부품명'], axis=1)\n",
        "df_7 = df_7.reset_index()\n",
        "df_7 = df_7.groupby('납품요구접수일자').sum()"
      ],
      "metadata": {
        "id": "WXww1AKMedWE"
      },
      "execution_count": 567,
      "outputs": []
    },
    {
      "cell_type": "code",
      "source": [
        "##날짜별 시게열 대이터 그룹화 8등 품목\n",
        "df_8 = df_8.drop(['대표세부품명'], axis=1)\n",
        "df_8 = df_8.reset_index()\n",
        "df_8 = df_8.groupby('납품요구접수일자').sum()"
      ],
      "metadata": {
        "id": "wX16FKOxeiOl"
      },
      "execution_count": 568,
      "outputs": []
    },
    {
      "cell_type": "code",
      "source": [
        "##날짜별 시게열 대이터 그룹화 9등 품목\n",
        "df_9 = df_9.drop(['대표세부품명'], axis=1)\n",
        "df_9 = df_9.reset_index()\n",
        "df_9 = df_9.groupby('납품요구접수일자').sum()"
      ],
      "metadata": {
        "id": "UHIRUJXvemKV"
      },
      "execution_count": 569,
      "outputs": []
    },
    {
      "cell_type": "code",
      "source": [
        "##날짜별 시게열 대이터 그룹화 10등 품목\n",
        "df_10 = df_10.drop(['대표세부품명'], axis=1)\n",
        "df_10 = df_10.reset_index()\n",
        "df_10 = df_10.groupby('납품요구접수일자').sum()"
      ],
      "metadata": {
        "id": "_dn1BgXfeqKc"
      },
      "execution_count": 570,
      "outputs": []
    },
    {
      "cell_type": "code",
      "source": [
        "product"
      ],
      "metadata": {
        "colab": {
          "base_uri": "https://localhost:8080/"
        },
        "id": "ofQ4Is34fGqV",
        "outputId": "f113e140-c655-467e-9d84-aff6429d1f8f"
      },
      "execution_count": 572,
      "outputs": [
        {
          "output_type": "execute_result",
          "data": {
            "text/plain": [
              "['쓰레기봉투',\n",
              " '경유',\n",
              " '라벨용지',\n",
              " '보건용마스크',\n",
              " '콘크리트벽돌',\n",
              " '항공기연료',\n",
              " '미장벽돌',\n",
              " '기타화초',\n",
              " '상온주스',\n",
              " '레미콘']"
            ]
          },
          "metadata": {},
          "execution_count": 572
        }
      ]
    },
    {
      "cell_type": "code",
      "source": [
        "##전처리 완료 데이터 내보내기\n",
        "df_1.to_csv(\"1등_쓰레기봉투.csv\")\n",
        "df_2.to_csv(\"2등_경유.csv\")\n",
        "df_3.to_csv(\"3등_라벨용지.csv\")\n",
        "df_4.to_csv(\"4등_보건용마스크.csv\")\n",
        "df_5.to_csv(\"5등_콘크리트벽돌.csv\")\n",
        "df_6.to_csv(\"6등_항공기연료.csv\")\n",
        "df_7.to_csv(\"7등_미장벽돌.csv\")\n",
        "df_8.to_csv(\"8등_기타화초.csv\")\n",
        "df_9.to_csv(\"9등_상온주스.csv\")\n",
        "df_10.to_csv(\"10등_레미콘.csv\")"
      ],
      "metadata": {
        "id": "KAUpOfZ-ev9r"
      },
      "execution_count": 573,
      "outputs": []
    },
    {
      "cell_type": "code",
      "source": [
        "##데이터 시각화\n",
        "df__1 = df_1.reset_index()\n",
        "plt.rcParams[\"font.family\"] = 'NanumMyeongjo'\n",
        "plt.figure(figsize = (18,10))\n",
        "plt.title(\"{} 증감납품요구수량\".format(product[0]), fontsize=25)\n",
        "plt.plot(df__1['납품요구접수일자'], df__1['증감납품요구수량'], color='grey', label=str(product[0]))\n",
        "plt.ylabel('증감납품요구수량')\n",
        "plt.xlabel('date')\n",
        "plt.legend(fontsize=20)\n",
        "plt.show()"
      ],
      "metadata": {
        "colab": {
          "base_uri": "https://localhost:8080/",
          "height": 1000
        },
        "id": "bRAbnTGdv8bV",
        "outputId": "921cd047-13f8-49e7-ba21-a53cdb37056e"
      },
      "execution_count": 269,
      "outputs": [
        {
          "output_type": "stream",
          "name": "stderr",
          "text": [
            "/usr/local/lib/python3.7/dist-packages/matplotlib/backends/backend_agg.py:214: RuntimeWarning: Glyph 50416 missing from current font.\n",
            "  font.set_text(s, 0.0, flags=flags)\n",
            "/usr/local/lib/python3.7/dist-packages/matplotlib/backends/backend_agg.py:214: RuntimeWarning: Glyph 47112 missing from current font.\n",
            "  font.set_text(s, 0.0, flags=flags)\n",
            "/usr/local/lib/python3.7/dist-packages/matplotlib/backends/backend_agg.py:214: RuntimeWarning: Glyph 44592 missing from current font.\n",
            "  font.set_text(s, 0.0, flags=flags)\n",
            "/usr/local/lib/python3.7/dist-packages/matplotlib/backends/backend_agg.py:214: RuntimeWarning: Glyph 48393 missing from current font.\n",
            "  font.set_text(s, 0.0, flags=flags)\n",
            "/usr/local/lib/python3.7/dist-packages/matplotlib/backends/backend_agg.py:214: RuntimeWarning: Glyph 53804 missing from current font.\n",
            "  font.set_text(s, 0.0, flags=flags)\n",
            "/usr/local/lib/python3.7/dist-packages/matplotlib/backends/backend_agg.py:214: RuntimeWarning: Glyph 51613 missing from current font.\n",
            "  font.set_text(s, 0.0, flags=flags)\n",
            "/usr/local/lib/python3.7/dist-packages/matplotlib/backends/backend_agg.py:214: RuntimeWarning: Glyph 44048 missing from current font.\n",
            "  font.set_text(s, 0.0, flags=flags)\n",
            "/usr/local/lib/python3.7/dist-packages/matplotlib/backends/backend_agg.py:214: RuntimeWarning: Glyph 45225 missing from current font.\n",
            "  font.set_text(s, 0.0, flags=flags)\n",
            "/usr/local/lib/python3.7/dist-packages/matplotlib/backends/backend_agg.py:214: RuntimeWarning: Glyph 54408 missing from current font.\n",
            "  font.set_text(s, 0.0, flags=flags)\n",
            "/usr/local/lib/python3.7/dist-packages/matplotlib/backends/backend_agg.py:214: RuntimeWarning: Glyph 50836 missing from current font.\n",
            "  font.set_text(s, 0.0, flags=flags)\n",
            "/usr/local/lib/python3.7/dist-packages/matplotlib/backends/backend_agg.py:214: RuntimeWarning: Glyph 44396 missing from current font.\n",
            "  font.set_text(s, 0.0, flags=flags)\n",
            "/usr/local/lib/python3.7/dist-packages/matplotlib/backends/backend_agg.py:214: RuntimeWarning: Glyph 49688 missing from current font.\n",
            "  font.set_text(s, 0.0, flags=flags)\n",
            "/usr/local/lib/python3.7/dist-packages/matplotlib/backends/backend_agg.py:214: RuntimeWarning: Glyph 47049 missing from current font.\n",
            "  font.set_text(s, 0.0, flags=flags)\n",
            "/usr/local/lib/python3.7/dist-packages/matplotlib/backends/backend_agg.py:183: RuntimeWarning: Glyph 51613 missing from current font.\n",
            "  font.set_text(s, 0, flags=flags)\n",
            "/usr/local/lib/python3.7/dist-packages/matplotlib/backends/backend_agg.py:183: RuntimeWarning: Glyph 44048 missing from current font.\n",
            "  font.set_text(s, 0, flags=flags)\n",
            "/usr/local/lib/python3.7/dist-packages/matplotlib/backends/backend_agg.py:183: RuntimeWarning: Glyph 45225 missing from current font.\n",
            "  font.set_text(s, 0, flags=flags)\n",
            "/usr/local/lib/python3.7/dist-packages/matplotlib/backends/backend_agg.py:183: RuntimeWarning: Glyph 54408 missing from current font.\n",
            "  font.set_text(s, 0, flags=flags)\n",
            "/usr/local/lib/python3.7/dist-packages/matplotlib/backends/backend_agg.py:183: RuntimeWarning: Glyph 50836 missing from current font.\n",
            "  font.set_text(s, 0, flags=flags)\n",
            "/usr/local/lib/python3.7/dist-packages/matplotlib/backends/backend_agg.py:183: RuntimeWarning: Glyph 44396 missing from current font.\n",
            "  font.set_text(s, 0, flags=flags)\n",
            "/usr/local/lib/python3.7/dist-packages/matplotlib/backends/backend_agg.py:183: RuntimeWarning: Glyph 49688 missing from current font.\n",
            "  font.set_text(s, 0, flags=flags)\n",
            "/usr/local/lib/python3.7/dist-packages/matplotlib/backends/backend_agg.py:183: RuntimeWarning: Glyph 47049 missing from current font.\n",
            "  font.set_text(s, 0, flags=flags)\n",
            "/usr/local/lib/python3.7/dist-packages/matplotlib/backends/backend_agg.py:183: RuntimeWarning: Glyph 50416 missing from current font.\n",
            "  font.set_text(s, 0, flags=flags)\n",
            "/usr/local/lib/python3.7/dist-packages/matplotlib/backends/backend_agg.py:183: RuntimeWarning: Glyph 47112 missing from current font.\n",
            "  font.set_text(s, 0, flags=flags)\n",
            "/usr/local/lib/python3.7/dist-packages/matplotlib/backends/backend_agg.py:183: RuntimeWarning: Glyph 44592 missing from current font.\n",
            "  font.set_text(s, 0, flags=flags)\n",
            "/usr/local/lib/python3.7/dist-packages/matplotlib/backends/backend_agg.py:183: RuntimeWarning: Glyph 48393 missing from current font.\n",
            "  font.set_text(s, 0, flags=flags)\n",
            "/usr/local/lib/python3.7/dist-packages/matplotlib/backends/backend_agg.py:183: RuntimeWarning: Glyph 53804 missing from current font.\n",
            "  font.set_text(s, 0, flags=flags)\n"
          ]
        },
        {
          "output_type": "display_data",
          "data": {
            "image/png": "[encoded data removed]",
            "text/plain": [
              "<Figure size 1296x720 with 1 Axes>"
            ]
          },
          "metadata": {
            "needs_background": "light"
          }
        }
      ]
    }
  ]
}