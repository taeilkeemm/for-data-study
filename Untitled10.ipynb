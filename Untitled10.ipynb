{
  "nbformat": 4,
  "nbformat_minor": 0,
  "metadata": {
    "colab": {
      "name": "Untitled10.ipynb",
      "provenance": [],
      "collapsed_sections": [],
      "authorship_tag": "ABX9TyO5cjxq9Pq8uQ+VYoXNeUSp",
      "include_colab_link": true
    },
    "kernelspec": {
      "name": "python3",
      "display_name": "Python 3"
    },
    "language_info": {
      "name": "python"
    }
  },
  "cells": [
    {
      "cell_type": "markdown",
      "metadata": {
        "id": "view-in-github",
        "colab_type": "text"
      },
      "source": [
        "<a href=\"https://colab.research.google.com/github/taeilkeemm/fordatastudy/blob/main/Untitled10.ipynb\" target=\"_parent\"><img src=\"https://colab.research.google.com/assets/colab-badge.svg\" alt=\"Open In Colab\"/></a>"
      ]
    },
    {
      "cell_type": "code",
      "execution_count": 1,
      "metadata": {
        "colab": {
          "base_uri": "https://localhost:8080/"
        },
        "id": "OswgUuKyPL37",
        "outputId": "2a162a5f-8545-41c8-8ae3-1ac8ecc0ae82"
      },
      "outputs": [
        {
          "output_type": "stream",
          "name": "stdout",
          "text": [
            "13\n",
            "3\n"
          ]
        }
      ],
      "source": [
        "N = int(input())\n",
        "a = 1\n",
        "count = 1\n",
        "while a < N:\n",
        "  a = a + 6*count\n",
        "  count = count + 1\n",
        "print(count)"
      ]
    },
    {
      "cell_type": "code",
      "source": [
        "N = int(input()) ##수의 차례\n",
        "a = 0  ##누적칸수\n",
        "num = 1  ##줄수\n",
        "while a < N:\n",
        "  a = a + num\n",
        "  num = num + 1\n",
        "a = a - num\n",
        "if (num)%2 == 1:\n",
        "  print(str(num +a - N) + str('/') + str(N-a))\n",
        "elif (num)%2 == 0:\n",
        "  print(str(N-a) + str('/') + str(num +a - N))"
      ],
      "metadata": {
        "colab": {
          "base_uri": "https://localhost:8080/"
        },
        "id": "WdKvg7BSZfGg",
        "outputId": "9090d24a-c39d-4b6f-91c0-152a04065b39"
      },
      "execution_count": 21,
      "outputs": [
        {
          "output_type": "stream",
          "name": "stdout",
          "text": [
            "1\n",
            "2/0\n"
          ]
        }
      ]
    },
    {
      "cell_type": "code",
      "source": [
        "X=int(input())\n",
        "\n",
        "line=1\n",
        "while X>line:\n",
        "    X-=line\n",
        "    line+=1\n",
        "    \n",
        "if line%2==0:\n",
        "    a=X\n",
        "    b=line-X+1\n",
        "else:\n",
        "    a=line-X+1\n",
        "    b=X\n",
        "    \n",
        "print(a, '/', b, sep='')"
      ],
      "metadata": {
        "colab": {
          "base_uri": "https://localhost:8080/"
        },
        "id": "3eAr8GcaytzB",
        "outputId": "3b68c84f-4f90-4de8-a411-c463879376cf"
      },
      "execution_count": 22,
      "outputs": [
        {
          "output_type": "stream",
          "name": "stdout",
          "text": [
            "1\n",
            "1/1\n"
          ]
        }
      ]
    }
  ]
}