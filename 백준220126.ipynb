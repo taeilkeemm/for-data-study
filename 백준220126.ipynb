{
  "nbformat": 4,
  "nbformat_minor": 0,
  "metadata": {
    "colab": {
      "name": "백준220126.ipynb",
      "provenance": [],
      "collapsed_sections": [],
      "authorship_tag": "ABX9TyNlZCeXovena068oFHhsTco",
      "include_colab_link": true
    },
    "kernelspec": {
      "name": "python3",
      "display_name": "Python 3"
    },
    "language_info": {
      "name": "python"
    }
  },
  "cells": [
    {
      "cell_type": "markdown",
      "metadata": {
        "id": "view-in-github",
        "colab_type": "text"
      },
      "source": [
        "<a href=\"https://colab.research.google.com/github/taeilkeemm/fordatastudy/blob/main/%EB%B0%B1%EC%A4%80220126.ipynb\" target=\"_parent\"><img src=\"https://colab.research.google.com/assets/colab-badge.svg\" alt=\"Open In Colab\"/></a>"
      ]
    },
    {
      "cell_type": "code",
      "execution_count": 7,
      "metadata": {
        "colab": {
          "base_uri": "https://localhost:8080/"
        },
        "id": "pS6O1El1nne8",
        "outputId": "ac0c1c81-6928-4d69-faaa-d19215be1cd9"
      },
      "outputs": [
        {
          "output_type": "stream",
          "name": "stdout",
          "text": [
            "1 2 3\n",
            "300\n"
          ]
        }
      ],
      "source": [
        "a = list(map(int, input().split()))\n",
        "aa = list(set(a))\n",
        "price = 0\n",
        "if len(aa) == 3:\n",
        "  price = 100*max(a)\n",
        "elif len(aa) == 2:\n",
        "  price = 1000 + 100*max(set(a), key=a.count)\n",
        "elif len(aa) == 1:\n",
        "  price = 10000 + 1000*max(a)\n",
        "print(price)"
      ]
    },
    {
      "cell_type": "code",
      "source": [
        "while True:\n",
        "  a, b = map(int, input().split())\n",
        "  if a > b:\n",
        "    print(\"Yes\")\n",
        "  elif a ==0 and b == 0:\n",
        "    break\n",
        "  else:\n",
        "    print(\"No\")"
      ],
      "metadata": {
        "colab": {
          "base_uri": "https://localhost:8080/"
        },
        "id": "TcvWFoEKq_b7",
        "outputId": "7d346a8f-8d36-4398-b15a-bf4c17e0bca3"
      },
      "execution_count": 9,
      "outputs": [
        {
          "name": "stdout",
          "output_type": "stream",
          "text": [
            "12 2\n",
            "Yse\n",
            "2 2\n",
            "No\n",
            "1 3\n",
            "No\n",
            "3 3\n",
            "No\n",
            "3 2\n",
            "Yse\n",
            "0 0\n"
          ]
        }
      ]
    },
    {
      "cell_type": "code",
      "source": [
        "a, b, c = map(int, input().split())\n",
        "if a*b > c:\n",
        "  print(a*b - c)\n",
        "else: \n",
        "  print(\"0\")"
      ],
      "metadata": {
        "colab": {
          "base_uri": "https://localhost:8080/"
        },
        "id": "dsBfOg-9r3Vv",
        "outputId": "60e244cb-e7e7-4c83-beee-f798cae3b937"
      },
      "execution_count": 10,
      "outputs": [
        {
          "output_type": "stream",
          "name": "stdout",
          "text": [
            "2000 2 5000\n",
            "0\n"
          ]
        }
      ]
    }
  ]
}