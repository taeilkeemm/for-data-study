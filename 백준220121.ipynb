{
  "nbformat": 4,
  "nbformat_minor": 0,
  "metadata": {
    "colab": {
      "name": "백준220121.ipynb",
      "provenance": [],
      "collapsed_sections": [],
      "authorship_tag": "ABX9TyOM+b73W+je3G0+oy82YqWb",
      "include_colab_link": true
    },
    "kernelspec": {
      "name": "python3",
      "display_name": "Python 3"
    },
    "language_info": {
      "name": "python"
    }
  },
  "cells": [
    {
      "cell_type": "markdown",
      "metadata": {
        "id": "view-in-github",
        "colab_type": "text"
      },
      "source": [
        "<a href=\"https://colab.research.google.com/github/taeilkeemm/fordatastudy/blob/main/%EB%B0%B1%EC%A4%80220121.ipynb\" target=\"_parent\"><img src=\"https://colab.research.google.com/assets/colab-badge.svg\" alt=\"Open In Colab\"/></a>"
      ]
    },
    {
      "cell_type": "code",
      "execution_count": null,
      "metadata": {
        "colab": {
          "base_uri": "https://localhost:8080/"
        },
        "id": "b1HiGd0Lbzve",
        "outputId": "fffbbd33-eb3b-4ce4-995e-59a67457d587"
      },
      "outputs": [
        {
          "output_type": "stream",
          "name": "stdout",
          "text": [
            "23 40\n",
            "150\n",
            "2 10\n"
          ]
        }
      ],
      "source": [
        "a, b = map(int, input().split())\n",
        "c = int(input())\n",
        "if b + c < 60:\n",
        "  b = b + c\n",
        "elif b + c >= 60:\n",
        "  a = a + ((b + c)//60)\n",
        "  b = (b + c)%60\n",
        "  if a >=24:\n",
        "    a = a - 24\n",
        "print(a, b)\n",
        "\n",
        "\n",
        "  "
      ]
    },
    {
      "cell_type": "code",
      "source": [
        "a, b = map(int, input().split())\n",
        "print(a*(b-1)+1)"
      ],
      "metadata": {
        "colab": {
          "base_uri": "https://localhost:8080/"
        },
        "id": "zqpF56iHdiwE",
        "outputId": "73215369-6b29-483b-b2cf-7ece4160a8b3"
      },
      "execution_count": 3,
      "outputs": [
        {
          "output_type": "stream",
          "name": "stdout",
          "text": [
            "38 24\n",
            "875\n"
          ]
        }
      ]
    },
    {
      "cell_type": "code",
      "source": [
        "a, b, c = map(int, input().split())\n",
        "d = int(input())\n",
        "if c + d < 60:\n",
        "  c = c + d\n",
        "elif c + d >= 60:\n",
        "  b = b + ((c+d)//60)\n",
        "  c = (c+d)%60\n",
        "  if b >= 60:\n",
        "    a = a + b//60\n",
        "    b = b%60\n",
        "    if a >= 24:\n",
        "      a = a%24\n",
        "print(a, b, c)\n"
      ],
      "metadata": {
        "colab": {
          "base_uri": "https://localhost:8080/"
        },
        "id": "Mg_lVxpweMfD",
        "outputId": "37311d25-4664-4133-cd14-600f55e28f16"
      },
      "execution_count": 11,
      "outputs": [
        {
          "output_type": "stream",
          "name": "stdout",
          "text": [
            "12 12 12\n",
            "121212\n",
            "21 52 24\n"
          ]
        }
      ]
    },
    {
      "cell_type": "code",
      "source": [
        "t = int(input())\n",
        "for _ in range(t):\n",
        "  k = list(map(str, input().split()))\n",
        "  k[0] = float(k[0])\n",
        "  for i in range(1, len(k)):\n",
        "    if k[i] == '@':\n",
        "      k[0] = k[0]*3\n",
        "    elif k[i] == '%':\n",
        "      k[0] = k[0] + 5\n",
        "    elif k[i] == '#':\n",
        "      k[0] = k[0] - 7\n",
        "  print(\"{:.2f}\".format(k[0]))"
      ],
      "metadata": {
        "colab": {
          "base_uri": "https://localhost:8080/"
        },
        "id": "UxXK57pwqqqA",
        "outputId": "e52df4a0-facb-424f-f7d8-66772da62523"
      },
      "execution_count": 17,
      "outputs": [
        {
          "output_type": "stream",
          "name": "stdout",
          "text": [
            "3\n",
            "3 @ %\n",
            "14.00\n",
            "10.4 # % @\n",
            "25.20\n",
            "8 #\n",
            "1.00\n"
          ]
        }
      ]
    },
    {
      "cell_type": "code",
      "source": [
        "a = int(input())\n",
        "b = str(input())\n",
        "c = int(input())\n",
        "if b == '*':\n",
        "  print(a*c)\n",
        "elif b == '+':\n",
        "  print(a+c)"
      ],
      "metadata": {
        "colab": {
          "base_uri": "https://localhost:8080/"
        },
        "id": "a7_EFkXrup8x",
        "outputId": "b772e70f-7ad8-4e6d-d855-e3c3c11be0a1"
      },
      "execution_count": 19,
      "outputs": [
        {
          "output_type": "stream",
          "name": "stdout",
          "text": [
            "1\n",
            "*\n",
            "1000\n",
            "1000\n"
          ]
        }
      ]
    }
  ]
}