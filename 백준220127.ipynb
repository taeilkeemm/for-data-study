{
  "nbformat": 4,
  "nbformat_minor": 0,
  "metadata": {
    "colab": {
      "name": "백준220127.ipynb",
      "provenance": [],
      "collapsed_sections": [],
      "authorship_tag": "ABX9TyMFkpFAxlmFfC2Lzu3xaAaC",
      "include_colab_link": true
    },
    "kernelspec": {
      "name": "python3",
      "display_name": "Python 3"
    },
    "language_info": {
      "name": "python"
    }
  },
  "cells": [
    {
      "cell_type": "markdown",
      "metadata": {
        "id": "view-in-github",
        "colab_type": "text"
      },
      "source": [
        "<a href=\"https://colab.research.google.com/github/taeilkeemm/fordatastudy/blob/main/%EB%B0%B1%EC%A4%80220127.ipynb\" target=\"_parent\"><img src=\"https://colab.research.google.com/assets/colab-badge.svg\" alt=\"Open In Colab\"/></a>"
      ]
    },
    {
      "cell_type": "code",
      "execution_count": 7,
      "metadata": {
        "colab": {
          "base_uri": "https://localhost:8080/"
        },
        "id": "3zF316kKzlxR",
        "outputId": "5a7225a6-7a3e-4fa6-d495-e21d85580a1d"
      },
      "outputs": [
        {
          "output_type": "stream",
          "name": "stdout",
          "text": [
            "1 1\n",
            "1 2\n",
            "2 2\n",
            "2 1\n"
          ]
        }
      ],
      "source": [
        "x = []\n",
        "y = []\n",
        "for _ in range(3):\n",
        "  a, b = map(int, input().split())\n",
        "  x.append(a)\n",
        "  y.append(b)\n",
        "if x[0] == x[1]:\n",
        "  x_ = x[2]\n",
        "elif x[0] == x[2]:\n",
        "  x_ = x[1]\n",
        "elif x[1] == x[2]:\n",
        "  x_ = x[0]\n",
        "if y[0] == y[1]:\n",
        "  y_ = y[2]\n",
        "elif y[0] == y[2]:\n",
        "  y_ = y[1]\n",
        "elif y[1] == y[2]:\n",
        "  y_ = y[0]\n",
        "print(x_, y_)"
      ]
    },
    {
      "cell_type": "code",
      "source": [
        "t = int(input())\n",
        "w = []\n",
        "for _ in range(t):\n",
        "  a = list(map(int, input().split()))\n",
        "  aa = list(set(a))\n",
        "  price = 0\n",
        "  if len(aa) == 3:\n",
        "    price = 100*max(a)\n",
        "  elif len(aa) == 2:\n",
        "    price = 1000 + 100*max(set(a), key=a.count)\n",
        "  elif len(aa) == 1:\n",
        "    price = 10000 + 1000*max(a)\n",
        "  w.append(price)\n",
        "print(max(w))"
      ],
      "metadata": {
        "id": "TJYHAYEG0Xkr"
      },
      "execution_count": null,
      "outputs": []
    },
    {
      "cell_type": "code",
      "source": [
        "grade = str(input())\n",
        "if grade == 'A+':\n",
        "  print('4.3')\n",
        "elif grade == 'A0':\n",
        "  print('4.0')\n",
        "elif grade == 'A-':\n",
        "  print('3.7')\n",
        "elif grade == 'B+':\n",
        "  print('3.3')\n",
        "elif grade == 'B0':\n",
        "  print('3.0')\n",
        "elif grade == 'B-':\n",
        "  print('2.7')\n",
        "elif grade == 'C+':\n",
        "  print('2.3')\n",
        "elif grade == 'C0':\n",
        "  print('2.0')\n",
        "elif grade == 'C-':\n",
        "  print('1.7')\n",
        "elif grade == 'D+':\n",
        "  print('1.3')\n",
        "elif grade == 'D0':\n",
        "  print('1.0')\n",
        "elif grade == 'D-':\n",
        "  print('0.7')\n",
        "elif grade == 'F':\n",
        "  print('0.0')"
      ],
      "metadata": {
        "id": "kYIRHfxZ5k5G"
      },
      "execution_count": null,
      "outputs": []
    },
    {
      "cell_type": "code",
      "source": [
        "t = int(input())\n",
        "for _ in range(t):\n",
        "  r, e, c = map(int, input().split())\n",
        "  if e - c > r:\n",
        "    print('advertise')\n",
        "  elif e - c == r:\n",
        "    print('does not matter')\n",
        "  elif e - c < r:\n",
        "    print('do not advertise')"
      ],
      "metadata": {
        "id": "FH2FqOIF6nd7"
      },
      "execution_count": null,
      "outputs": []
    },
    {
      "cell_type": "code",
      "source": [
        "dish = str(input())\n",
        "height = 10\n",
        "for i in range(1, len(dish)):\n",
        "  if dish[i] == dish[i-1]:\n",
        "    height += 5\n",
        "  elif  dish[i] != dish[i-1]:\n",
        "    height += 10\n",
        "print(height)"
      ],
      "metadata": {
        "id": "No90w9BE7uS-"
      },
      "execution_count": null,
      "outputs": []
    }
  ]
}