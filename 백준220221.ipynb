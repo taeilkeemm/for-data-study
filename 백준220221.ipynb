{
  "nbformat": 4,
  "nbformat_minor": 0,
  "metadata": {
    "colab": {
      "name": "백준220221.ipynb",
      "provenance": [],
      "authorship_tag": "ABX9TyOA+4X2xquoRAtYUOtr4ize",
      "include_colab_link": true
    },
    "kernelspec": {
      "name": "python3",
      "display_name": "Python 3"
    },
    "language_info": {
      "name": "python"
    }
  },
  "cells": [
    {
      "cell_type": "markdown",
      "metadata": {
        "id": "view-in-github",
        "colab_type": "text"
      },
      "source": [
        "<a href=\"https://colab.research.google.com/github/taeilkeemm/fordatastudy/blob/main/%EB%B0%B1%EC%A4%80220221.ipynb\" target=\"_parent\"><img src=\"https://colab.research.google.com/assets/colab-badge.svg\" alt=\"Open In Colab\"/></a>"
      ]
    },
    {
      "cell_type": "code",
      "execution_count": null,
      "metadata": {
        "id": "ZsVMZEtPgKOh"
      },
      "outputs": [],
      "source": [
        "t = int(input())\n",
        "for _ in range(t):\n",
        "  yon = ko = 0\n",
        "  for i in range(9):\n",
        "    y, k = map(int, input().split())\n",
        "    yon = yon + y\n",
        "    ko = ko + k\n",
        "  if yon > ko:\n",
        "    print(\"Yonsei\")\n",
        "  elif ko > yon:\n",
        "    print('Korea')\n",
        "  elif yon == ko:\n",
        "    print(\"Draw\")"
      ]
    },
    {
      "cell_type": "code",
      "source": [
        "t = int(input())\n",
        "a = b = 100\n",
        "for _ in range(t):\n",
        "  aa, bb = map(int, input().split())\n",
        "  if aa > bb:\n",
        "    b = b - aa\n",
        "  elif aa < bb:\n",
        "    a = a - bb\n",
        "print(a)\n",
        "print(b)"
      ],
      "metadata": {
        "id": "zx_LO57YhWdq"
      },
      "execution_count": null,
      "outputs": []
    },
    {
      "cell_type": "code",
      "source": [
        "a = 300\n",
        "b = 60\n",
        "c = 10\n",
        "t = int(input())\n",
        "if t%c != 0:\n",
        "  print('-1')\n",
        "else:\n",
        "  aa = t//a\n",
        "  bb = (t%a)//b\n",
        "  cc = ((t%a)%b)//c\n",
        "  print(aa, bb, cc)"
      ],
      "metadata": {
        "id": "WHZ3zRF1iRiT"
      },
      "execution_count": null,
      "outputs": []
    },
    {
      "cell_type": "code",
      "source": [
        "while True:\n",
        "    n = int(input())\n",
        "    if n == -1: # 입력 값이 -1이면 반복문 종료\n",
        "        break;\n",
        "    arr = []\n",
        "    for i in range(1, n):\n",
        "        if n % i == 0:\n",
        "            arr.append(i)\n",
        "    if sum(arr) == n:\n",
        "        print(n, \" = \", \" + \".join(str(i) for i in arr), sep=\"\")\n",
        "    else:\n",
        "        print(n, \"is NOT perfect.\")"
      ],
      "metadata": {
        "id": "0ZeTHsQAjj11"
      },
      "execution_count": null,
      "outputs": []
    }
  ]
}