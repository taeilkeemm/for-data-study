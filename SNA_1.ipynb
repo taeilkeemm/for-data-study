{
  "nbformat": 4,
  "nbformat_minor": 0,
  "metadata": {
    "colab": {
      "name": "SNA_1.ipynb",
      "provenance": [],
      "collapsed_sections": [],
      "toc_visible": true,
      "include_colab_link": true
    },
    "kernelspec": {
      "name": "python3",
      "display_name": "Python 3"
    }
  },
  "cells": [
    {
      "cell_type": "markdown",
      "metadata": {
        "id": "view-in-github",
        "colab_type": "text"
      },
      "source": [
        "<a href=\"https://colab.research.google.com/github/taeilkeemm/fordatastudy/blob/main/SNA_1.ipynb\" target=\"_parent\"><img src=\"https://colab.research.google.com/assets/colab-badge.svg\" alt=\"Open In Colab\"/></a>"
      ]
    },
    {
      "cell_type": "markdown",
      "metadata": {
        "id": "htigD-j3ipaI"
      },
      "source": [
        "#Intro NetworkX"
      ]
    },
    {
      "cell_type": "markdown",
      "metadata": {
        "id": "fndvWPufiw6h"
      },
      "source": [
        "## 네트워크 분석의 시작"
      ]
    },
    {
      "cell_type": "code",
      "metadata": {
        "id": "WP8Jp6W_iXjj"
      },
      "source": [
        "import networkx as nx"
      ],
      "execution_count": null,
      "outputs": []
    },
    {
      "cell_type": "code",
      "metadata": {
        "id": "CyHOwnNCih5S"
      },
      "source": [
        "g = nx.Graph()"
      ],
      "execution_count": null,
      "outputs": []
    },
    {
      "cell_type": "code",
      "metadata": {
        "id": "WtXWSygYfBkJ",
        "colab": {
          "base_uri": "https://localhost:8080/"
        },
        "outputId": "4eb70a03-10f9-4af3-c20a-bf985d5051fa"
      },
      "source": [
        "g"
      ],
      "execution_count": null,
      "outputs": [
        {
          "output_type": "execute_result",
          "data": {
            "text/plain": [
              "<networkx.classes.graph.Graph at 0x7f25843ef910>"
            ]
          },
          "metadata": {},
          "execution_count": 3
        }
      ]
    },
    {
      "cell_type": "code",
      "metadata": {
        "id": "8ONDbBTPi1YR"
      },
      "source": [
        "g.add_edge('a', 'b', weight=0.1)\n",
        "g.add_edge('b', 'c', weight=1.5)\n",
        "g.add_edge('a', 'c', weight=1.0)\n",
        "g.add_edge('c', 'd', weight=100)"
      ],
      "execution_count": null,
      "outputs": []
    },
    {
      "cell_type": "code",
      "metadata": {
        "id": "SJVeAjaRi7lx",
        "colab": {
          "base_uri": "https://localhost:8080/",
          "height": 319
        },
        "outputId": "6a88bff2-757d-4070-8d32-ddd711df7399"
      },
      "source": [
        "nx.draw(g, with_labels=True)"
      ],
      "execution_count": null,
      "outputs": [
        {
          "output_type": "display_data",
          "data": {
            "image/png": "[encoded data removed]",
            "text/plain": [
              "<Figure size 432x288 with 1 Axes>"
            ]
          },
          "metadata": {}
        }
      ]
    },
    {
      "cell_type": "markdown",
      "metadata": {
        "id": "H5QJnr7YkFRF"
      },
      "source": [
        "### 노드(node) 추가 및 삭제하기"
      ]
    },
    {
      "cell_type": "code",
      "metadata": {
        "id": "e85DanFRlcgb"
      },
      "source": [
        "g.add_node('e')"
      ],
      "execution_count": null,
      "outputs": []
    },
    {
      "cell_type": "code",
      "metadata": {
        "id": "HvCc7exjlgXC"
      },
      "source": [
        "g.add_nodes_from(['e', 'f'])"
      ],
      "execution_count": null,
      "outputs": []
    },
    {
      "cell_type": "code",
      "metadata": {
        "id": "aH6_zNjIFtDR",
        "colab": {
          "base_uri": "https://localhost:8080/",
          "height": 319
        },
        "outputId": "ad5ca4c6-629f-4a67-89cb-63c03dbc702a"
      },
      "source": [
        "nx.draw(g, with_labels=True)"
      ],
      "execution_count": null,
      "outputs": [
        {
          "output_type": "display_data",
          "data": {
            "image/png": "[encoded data removed]",
            "text/plain": [
              "<Figure size 432x288 with 1 Axes>"
            ]
          },
          "metadata": {}
        }
      ]
    },
    {
      "cell_type": "code",
      "metadata": {
        "id": "ihmJPEOBl0Yi",
        "colab": {
          "base_uri": "https://localhost:8080/"
        },
        "outputId": "47500977-6d1a-4c37-cad9-518561b65945"
      },
      "source": [
        "g.nodes"
      ],
      "execution_count": null,
      "outputs": [
        {
          "output_type": "execute_result",
          "data": {
            "text/plain": [
              "NodeView(('a', 'b', 'c', 'd', 'e', 'f'))"
            ]
          },
          "metadata": {},
          "execution_count": 9
        }
      ]
    },
    {
      "cell_type": "code",
      "metadata": {
        "id": "FzqHs9jfmI7u"
      },
      "source": [
        "g.remove_node('f')"
      ],
      "execution_count": null,
      "outputs": []
    },
    {
      "cell_type": "code",
      "metadata": {
        "id": "mcIOW2ZlmMNJ",
        "colab": {
          "base_uri": "https://localhost:8080/",
          "height": 35
        },
        "outputId": "4ab56e37-e349-4aa4-e673-322fda41b601"
      },
      "source": [
        "g.nodes()"
      ],
      "execution_count": null,
      "outputs": [
        {
          "output_type": "execute_result",
          "data": {
            "text/plain": [
              "NodeView(('a', 'b', 'c', 'd', 'e'))"
            ]
          },
          "metadata": {
            "tags": []
          },
          "execution_count": 49
        }
      ]
    },
    {
      "cell_type": "markdown",
      "metadata": {
        "id": "IVxEJXfNl9My"
      },
      "source": [
        "### 엣지(edge) 추가하기"
      ]
    },
    {
      "cell_type": "code",
      "metadata": {
        "id": "-5Chi8IMl1i5",
        "colab": {
          "base_uri": "https://localhost:8080/",
          "height": 35
        },
        "outputId": "bab06197-b699-4b5a-8b81-6bb1234a88cc"
      },
      "source": [
        "g.edges()"
      ],
      "execution_count": null,
      "outputs": [
        {
          "output_type": "execute_result",
          "data": {
            "text/plain": [
              "EdgeView([('a', 'b'), ('a', 'c'), ('b', 'c'), ('c', 'd')])"
            ]
          },
          "metadata": {
            "tags": []
          },
          "execution_count": 50
        }
      ]
    },
    {
      "cell_type": "code",
      "metadata": {
        "id": "2iDyxZLjmE0R"
      },
      "source": [
        "g.add_edge('e', 'd', weight=4)"
      ],
      "execution_count": null,
      "outputs": []
    },
    {
      "cell_type": "code",
      "metadata": {
        "id": "WlAMmFJMmxxm",
        "colab": {
          "base_uri": "https://localhost:8080/"
        },
        "outputId": "4db9cb3b-9b7f-4276-99b9-61d72731294c"
      },
      "source": [
        "g.edges()"
      ],
      "execution_count": null,
      "outputs": [
        {
          "output_type": "execute_result",
          "data": {
            "text/plain": [
              "EdgeView([('a', 'b'), ('a', 'c'), ('b', 'c'), ('c', 'd')])"
            ]
          },
          "metadata": {},
          "execution_count": 10
        }
      ]
    },
    {
      "cell_type": "code",
      "metadata": {
        "id": "mguLFCUNmUcA"
      },
      "source": [
        "g.add_edges_from([('e','f'), ('e', 'a')])"
      ],
      "execution_count": null,
      "outputs": []
    },
    {
      "cell_type": "code",
      "metadata": {
        "id": "vDi6XV0OmV_J",
        "colab": {
          "base_uri": "https://localhost:8080/"
        },
        "outputId": "f03a0471-7367-423a-9b5f-f1e349d23eb1"
      },
      "source": [
        "g.edges()"
      ],
      "execution_count": null,
      "outputs": [
        {
          "output_type": "execute_result",
          "data": {
            "text/plain": [
              "EdgeView([('a', 'b'), ('a', 'c'), ('a', 'e'), ('b', 'c'), ('c', 'd'), ('e', 'f')])"
            ]
          },
          "metadata": {},
          "execution_count": 12
        }
      ]
    },
    {
      "cell_type": "code",
      "metadata": {
        "id": "SLPRNECVm0rJ"
      },
      "source": [
        "g.remove_edge('e','f')"
      ],
      "execution_count": null,
      "outputs": []
    },
    {
      "cell_type": "code",
      "metadata": {
        "id": "xRo_-yh4m8Gq",
        "colab": {
          "base_uri": "https://localhost:8080/",
          "height": 35
        },
        "outputId": "bfbf11e7-5d94-4a3b-b143-90226962e008"
      },
      "source": [
        "g.edges()"
      ],
      "execution_count": null,
      "outputs": [
        {
          "output_type": "execute_result",
          "data": {
            "text/plain": [
              "EdgeView([('a', 'b'), ('a', 'c'), ('a', 'e'), ('b', 'c'), ('c', 'd'), ('d', 'e')])"
            ]
          },
          "metadata": {
            "tags": []
          },
          "execution_count": 58
        }
      ]
    },
    {
      "cell_type": "code",
      "metadata": {
        "id": "86onbzHpkka7",
        "colab": {
          "base_uri": "https://localhost:8080/",
          "height": 319
        },
        "outputId": "3c9fed0a-b49f-490f-cb33-4164825fad44"
      },
      "source": [
        "nx.draw(g, with_labels=True)"
      ],
      "execution_count": null,
      "outputs": [
        {
          "output_type": "display_data",
          "data": {
            "image/png": "[encoded data removed]",
            "text/plain": [
              "<Figure size 432x288 with 1 Axes>"
            ]
          },
          "metadata": {
            "tags": []
          }
        }
      ]
    },
    {
      "cell_type": "markdown",
      "metadata": {
        "id": "Jl82OSqxm8wq"
      },
      "source": [
        "### 노드와 엣지 접근"
      ]
    },
    {
      "cell_type": "code",
      "metadata": {
        "id": "sJE-Rq1ynE16",
        "colab": {
          "base_uri": "https://localhost:8080/"
        },
        "outputId": "0e5ee191-abb3-49e3-8dfc-0b8dffc82e7b"
      },
      "source": [
        "g.number_of_nodes()"
      ],
      "execution_count": null,
      "outputs": [
        {
          "output_type": "execute_result",
          "data": {
            "text/plain": [
              "6"
            ]
          },
          "metadata": {},
          "execution_count": 13
        }
      ]
    },
    {
      "cell_type": "code",
      "metadata": {
        "id": "f0HCvPplnHD6",
        "colab": {
          "base_uri": "https://localhost:8080/"
        },
        "outputId": "09cdc122-12a0-4ae6-db20-b10e6f8ed59a"
      },
      "source": [
        "g.number_of_edges()"
      ],
      "execution_count": null,
      "outputs": [
        {
          "output_type": "execute_result",
          "data": {
            "text/plain": [
              "6"
            ]
          },
          "metadata": {},
          "execution_count": 14
        }
      ]
    },
    {
      "cell_type": "code",
      "metadata": {
        "id": "iSo5XqKdnI9p",
        "colab": {
          "base_uri": "https://localhost:8080/"
        },
        "outputId": "12c9f685-8bfd-45eb-a754-be88c6ce6bbf"
      },
      "source": [
        "g.size()"
      ],
      "execution_count": null,
      "outputs": [
        {
          "output_type": "execute_result",
          "data": {
            "text/plain": [
              "6"
            ]
          },
          "metadata": {},
          "execution_count": 15
        }
      ]
    },
    {
      "cell_type": "code",
      "metadata": {
        "id": "FDqKFJfSHZMQ",
        "colab": {
          "base_uri": "https://localhost:8080/",
          "height": 35
        },
        "outputId": "cf0f7a6d-2bcf-47bc-bdb5-0d9068a43626"
      },
      "source": [
        "g.degree"
      ],
      "execution_count": null,
      "outputs": [
        {
          "output_type": "execute_result",
          "data": {
            "text/plain": [
              "DegreeView({'a': 3, 'b': 2, 'c': 3, 'd': 2, 'e': 2, 'f': 0})"
            ]
          },
          "metadata": {
            "tags": []
          },
          "execution_count": 64
        }
      ]
    },
    {
      "cell_type": "code",
      "metadata": {
        "id": "7dxcqsYAvULy",
        "colab": {
          "base_uri": "https://localhost:8080/"
        },
        "outputId": "61955ce5-648e-47d1-bc9d-cda12bb9ccad"
      },
      "source": [
        "list(g.neighbors('a'))"
      ],
      "execution_count": null,
      "outputs": [
        {
          "output_type": "execute_result",
          "data": {
            "text/plain": [
              "['b', 'c', 'e']"
            ]
          },
          "metadata": {},
          "execution_count": 16
        }
      ]
    },
    {
      "cell_type": "code",
      "metadata": {
        "id": "ZuusSdxHoDuw"
      },
      "source": [
        "g.add_node('a', major='CS', gender = \"M\", st_id = '2019111111')"
      ],
      "execution_count": null,
      "outputs": []
    },
    {
      "cell_type": "code",
      "metadata": {
        "id": "hn445wFToQOS",
        "colab": {
          "base_uri": "https://localhost:8080/",
          "height": 35
        },
        "outputId": "683a811a-45dd-4151-8dfe-51d8b845c8d7"
      },
      "source": [
        "g.nodes['a']"
      ],
      "execution_count": null,
      "outputs": [
        {
          "output_type": "execute_result",
          "data": {
            "text/plain": [
              "{'gender': 'M', 'major': 'CS', 'st_id': '2019111111'}"
            ]
          },
          "metadata": {
            "tags": []
          },
          "execution_count": 68
        }
      ]
    },
    {
      "cell_type": "code",
      "metadata": {
        "id": "NUA0COVZn6RI",
        "colab": {
          "base_uri": "https://localhost:8080/",
          "height": 35
        },
        "outputId": "23cf5341-ea30-4aa8-99a5-98f0bd461fe7"
      },
      "source": [
        "g['e']['d']['weight']"
      ],
      "execution_count": null,
      "outputs": [
        {
          "output_type": "execute_result",
          "data": {
            "text/plain": [
              "4"
            ]
          },
          "metadata": {
            "tags": []
          },
          "execution_count": 70
        }
      ]
    },
    {
      "cell_type": "code",
      "metadata": {
        "id": "hZ5VkUeLIKZg",
        "colab": {
          "base_uri": "https://localhost:8080/",
          "height": 35
        },
        "outputId": "9a09f04b-5b66-4896-d05b-d18747f42b89"
      },
      "source": [
        "g['a']['b']['weight']"
      ],
      "execution_count": null,
      "outputs": [
        {
          "output_type": "execute_result",
          "data": {
            "text/plain": [
              "0.1"
            ]
          },
          "metadata": {
            "tags": []
          },
          "execution_count": 74
        }
      ]
    },
    {
      "cell_type": "markdown",
      "metadata": {
        "id": "FD07CTtAvaca"
      },
      "source": [
        "## 네트워크 시각화"
      ]
    },
    {
      "cell_type": "code",
      "metadata": {
        "id": "ALuwLVCEuEtq",
        "colab": {
          "base_uri": "https://localhost:8080/",
          "height": 319
        },
        "outputId": "acaed301-a322-48c2-9090-10acf822b5d2"
      },
      "source": [
        "nx.draw(g)"
      ],
      "execution_count": null,
      "outputs": [
        {
          "output_type": "display_data",
          "data": {
            "image/png": "[encoded data removed]",
            "text/plain": [
              "<Figure size 432x288 with 1 Axes>"
            ]
          },
          "metadata": {
            "tags": []
          }
        }
      ]
    },
    {
      "cell_type": "code",
      "metadata": {
        "id": "VB9l0swDrRKd",
        "colab": {
          "base_uri": "https://localhost:8080/",
          "height": 319
        },
        "outputId": "a538709e-b037-4020-f11e-387d607f8d64"
      },
      "source": [
        "nx.draw(g, with_labels=True)"
      ],
      "execution_count": null,
      "outputs": [
        {
          "output_type": "display_data",
          "data": {
            "image/png": "[encoded data removed]",
            "text/plain": [
              "<Figure size 432x288 with 1 Axes>"
            ]
          },
          "metadata": {
            "tags": []
          }
        }
      ]
    },
    {
      "cell_type": "code",
      "metadata": {
        "id": "gp3ruPcOAqts",
        "colab": {
          "base_uri": "https://localhost:8080/",
          "height": 319
        },
        "outputId": "d2fc8fa9-eeea-41e7-9407-764ce06e2b10"
      },
      "source": [
        "nx.draw(g, with_labels=True, font_size=20, font_color='white', edge_color='red', node_color='black')"
      ],
      "execution_count": null,
      "outputs": [
        {
          "output_type": "display_data",
          "data": {
            "image/png": "[encoded data removed]",
            "text/plain": [
              "<Figure size 432x288 with 1 Axes>"
            ]
          },
          "metadata": {
            "tags": []
          }
        }
      ]
    },
    {
      "cell_type": "code",
      "metadata": {
        "id": "hU3jW2QfAt4j",
        "colab": {
          "base_uri": "https://localhost:8080/",
          "height": 319
        },
        "outputId": "6ffa1be9-ab55-4e00-84b3-b1ac85c4e7f4"
      },
      "source": [
        "nx.draw(g, with_labels=True, font_color='white', edge_color='red', node_color='black',node_size=800, node_shape='*')"
      ],
      "execution_count": null,
      "outputs": [
        {
          "output_type": "display_data",
          "data": {
            "image/png": "[encoded data removed]",
            "text/plain": [
              "<Figure size 432x288 with 1 Axes>"
            ]
          },
          "metadata": {
            "tags": []
          }
        }
      ]
    },
    {
      "cell_type": "code",
      "metadata": {
        "id": "JKsl0G2oB6ms",
        "colab": {
          "base_uri": "https://localhost:8080/",
          "height": 319
        },
        "outputId": "527eb8fb-b7e8-4e83-e68f-fd5b67218b88"
      },
      "source": [
        "nx.draw(g, with_labels=True, font_color='white', edge_color='red', node_color='black',node_size=800, node_shape='*', linewidths=10)"
      ],
      "execution_count": null,
      "outputs": [
        {
          "output_type": "display_data",
          "data": {
            "image/png": "[encoded data removed]",
            "text/plain": [
              "<Figure size 432x288 with 1 Axes>"
            ]
          },
          "metadata": {
            "tags": []
          }
        }
      ]
    },
    {
      "cell_type": "code",
      "metadata": {
        "id": "Y06EILl4BL3k",
        "colab": {
          "base_uri": "https://localhost:8080/",
          "height": 319
        },
        "outputId": "a144bae3-5d97-4bc0-8665-da25b6cd0b1d"
      },
      "source": [
        "nx.draw(g, with_labels=True, font_color='white', edge_color='red', node_color='black',node_size=800, node_shape='*', width = 3)"
      ],
      "execution_count": null,
      "outputs": [
        {
          "output_type": "display_data",
          "data": {
            "image/png": "[encoded data removed]",
            "text/plain": [
              "<Figure size 432x288 with 1 Axes>"
            ]
          },
          "metadata": {
            "tags": []
          }
        }
      ]
    },
    {
      "cell_type": "code",
      "metadata": {
        "id": "RRI37-OeBYXl",
        "colab": {
          "base_uri": "https://localhost:8080/",
          "height": 319
        },
        "outputId": "67551113-abbb-4f98-f27b-f073cdbffad2"
      },
      "source": [
        "nx.draw(g, with_labels=True, font_color='white', edge_color='red', node_color='black',node_size=800, node_shape='*', width = 3, style = 'dashed')"
      ],
      "execution_count": null,
      "outputs": [
        {
          "output_type": "display_data",
          "data": {
            "image/png": "[encoded data removed]",
            "text/plain": [
              "<Figure size 432x288 with 1 Axes>"
            ]
          },
          "metadata": {
            "tags": []
          }
        }
      ]
    },
    {
      "cell_type": "code",
      "metadata": {
        "id": "3JE94f1Tt8RD",
        "colab": {
          "base_uri": "https://localhost:8080/",
          "height": 319
        },
        "outputId": "b9000cb4-e62c-4df4-81ed-ff19e48a35d0"
      },
      "source": [
        "nx.draw_random(g, with_labels=True)"
      ],
      "execution_count": null,
      "outputs": [
        {
          "output_type": "display_data",
          "data": {
            "image/png": "[encoded data removed]",
            "text/plain": [
              "<Figure size 432x288 with 1 Axes>"
            ]
          },
          "metadata": {
            "tags": []
          }
        }
      ]
    },
    {
      "cell_type": "code",
      "metadata": {
        "id": "aBPqJdzFuR3T",
        "colab": {
          "base_uri": "https://localhost:8080/",
          "height": 319
        },
        "outputId": "852a250c-321a-4fe6-b93d-54846620c4e9"
      },
      "source": [
        "nx.draw_circular(g, with_labels=True)"
      ],
      "execution_count": null,
      "outputs": [
        {
          "output_type": "display_data",
          "data": {
            "image/png": "[encoded data removed]",
            "text/plain": [
              "<Figure size 432x288 with 1 Axes>"
            ]
          },
          "metadata": {
            "tags": []
          }
        }
      ]
    },
    {
      "cell_type": "code",
      "metadata": {
        "id": "jB3F_YjMucO8",
        "colab": {
          "base_uri": "https://localhost:8080/",
          "height": 319
        },
        "outputId": "ccb4ba4c-069f-42c1-8dcc-77441591087d"
      },
      "source": [
        "nx.draw_spectral(g, with_labels=True)"
      ],
      "execution_count": null,
      "outputs": [
        {
          "output_type": "display_data",
          "data": {
            "image/png": "[encoded data removed]",
            "text/plain": [
              "<Figure size 432x288 with 1 Axes>"
            ]
          },
          "metadata": {
            "tags": []
          }
        }
      ]
    }
  ]
}