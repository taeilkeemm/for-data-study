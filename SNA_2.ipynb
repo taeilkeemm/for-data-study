{
  "nbformat": 4,
  "nbformat_minor": 0,
  "metadata": {
    "colab": {
      "name": "SNA_2.ipynb",
      "private_outputs": true,
      "provenance": [],
      "toc_visible": true,
      "include_colab_link": true
    },
    "kernelspec": {
      "name": "python3",
      "display_name": "Python 3"
    }
  },
  "cells": [
    {
      "cell_type": "markdown",
      "metadata": {
        "id": "view-in-github",
        "colab_type": "text"
      },
      "source": [
        "<a href=\"https://colab.research.google.com/github/taeilkeemm/fordatastudy/blob/main/SNA_2.ipynb\" target=\"_parent\"><img src=\"https://colab.research.google.com/assets/colab-badge.svg\" alt=\"Open In Colab\"/></a>"
      ]
    },
    {
      "cell_type": "markdown",
      "metadata": {
        "id": "ue5WA01gvvk6"
      },
      "source": [
        "# 노드와 엣지"
      ]
    },
    {
      "cell_type": "markdown",
      "metadata": {
        "id": "vBDfdzGyEBYQ"
      },
      "source": [
        "## 그래프, 노드, 엣지의 속성 추가하기"
      ]
    },
    {
      "cell_type": "markdown",
      "metadata": {
        "id": "97ncU7HeFAIU"
      },
      "source": [
        "### 그래프 속성"
      ]
    },
    {
      "cell_type": "code",
      "metadata": {
        "id": "TZYVmtGIvDvr"
      },
      "source": [
        "import networkx as nx"
      ],
      "execution_count": null,
      "outputs": []
    },
    {
      "cell_type": "code",
      "metadata": {
        "id": "7gTeKjWSvBCq"
      },
      "source": [
        "g = nx.Graph(firm = 'conglomerate')"
      ],
      "execution_count": null,
      "outputs": []
    },
    {
      "cell_type": "code",
      "metadata": {
        "id": "qhUCqPBeEc28"
      },
      "source": [
        "g.graph"
      ],
      "execution_count": null,
      "outputs": []
    },
    {
      "cell_type": "code",
      "metadata": {
        "id": "MdR_DcT3Eh7k"
      },
      "source": [
        "g.graph['firm'] = 'affiliate'"
      ],
      "execution_count": null,
      "outputs": []
    },
    {
      "cell_type": "code",
      "metadata": {
        "id": "1iaePthNE9Bc"
      },
      "source": [
        "g.graph"
      ],
      "execution_count": null,
      "outputs": []
    },
    {
      "cell_type": "markdown",
      "metadata": {
        "id": "GIesmdpKE-Ek"
      },
      "source": [
        "### 노드 속성"
      ]
    },
    {
      "cell_type": "code",
      "metadata": {
        "id": "50rCsqJAFEo1"
      },
      "source": [
        "g.add_node(1, type = 'Big')"
      ],
      "execution_count": null,
      "outputs": []
    },
    {
      "cell_type": "code",
      "metadata": {
        "id": "zybQygS0FIrx"
      },
      "source": [
        "g.add_nodes_from([3, 4], type='small')"
      ],
      "execution_count": null,
      "outputs": []
    },
    {
      "cell_type": "code",
      "metadata": {
        "id": "0AE_xxYhFVDs"
      },
      "source": [
        "list(g.nodes)"
      ],
      "execution_count": null,
      "outputs": []
    },
    {
      "cell_type": "code",
      "metadata": {
        "id": "OOTHETrJFX7E"
      },
      "source": [
        "g.nodes[1]"
      ],
      "execution_count": null,
      "outputs": []
    },
    {
      "cell_type": "code",
      "metadata": {
        "id": "-nTr9huGF41U"
      },
      "source": [
        "g.nodes[1]['year'] = 2019"
      ],
      "execution_count": null,
      "outputs": []
    },
    {
      "cell_type": "code",
      "metadata": {
        "id": "luYl_vN7PMrf"
      },
      "source": [
        "g.nodes[1]"
      ],
      "execution_count": null,
      "outputs": []
    },
    {
      "cell_type": "code",
      "metadata": {
        "id": "wI_ePDJnFk0k"
      },
      "source": [
        "g.nodes(data=True)"
      ],
      "execution_count": null,
      "outputs": []
    },
    {
      "cell_type": "markdown",
      "metadata": {
        "id": "RQG7IHirFn9U"
      },
      "source": [
        "### 엣지 속성\n"
      ]
    },
    {
      "cell_type": "code",
      "metadata": {
        "id": "xrrBXh8sGIUE"
      },
      "source": [
        "g.add_edge(1, 2, weight=4.7)"
      ],
      "execution_count": null,
      "outputs": []
    },
    {
      "cell_type": "code",
      "metadata": {
        "id": "AVGQnv0CGOce"
      },
      "source": [
        "g.add_edges_from([(3, 4), (4, 5)], weight=4.7)"
      ],
      "execution_count": null,
      "outputs": []
    },
    {
      "cell_type": "code",
      "metadata": {
        "id": "-RlSijqpGV0V"
      },
      "source": [
        "g.add_edges_from([(1, 2, {'color':'blue'}), (2, 3, {'weight':8})])"
      ],
      "execution_count": null,
      "outputs": []
    },
    {
      "cell_type": "code",
      "metadata": {
        "id": "zhazvECDGnpV"
      },
      "source": [
        "g[1][2]['weight'] = 10"
      ],
      "execution_count": null,
      "outputs": []
    },
    {
      "cell_type": "code",
      "metadata": {
        "id": "BgtOV3OQGqu8"
      },
      "source": [
        "g.edges()"
      ],
      "execution_count": null,
      "outputs": []
    },
    {
      "cell_type": "code",
      "metadata": {
        "id": "h7MSEP36HC81"
      },
      "source": [
        "g.edges(data=True)"
      ],
      "execution_count": null,
      "outputs": []
    },
    {
      "cell_type": "code",
      "metadata": {
        "id": "lMLfR01FHQ_s"
      },
      "source": [
        "list(g.edges(data=True))"
      ],
      "execution_count": null,
      "outputs": []
    },
    {
      "cell_type": "code",
      "metadata": {
        "id": "NHJ2lObIHOvF"
      },
      "source": [
        "nx.draw(g, with_labels=True)"
      ],
      "execution_count": null,
      "outputs": []
    },
    {
      "cell_type": "markdown",
      "metadata": {
        "id": "nUKnuu6vJD8V"
      },
      "source": [
        "## 방향성 그래프"
      ]
    },
    {
      "cell_type": "code",
      "metadata": {
        "id": "oSknomJmJLi9"
      },
      "source": [
        "dg = nx.DiGraph()"
      ],
      "execution_count": null,
      "outputs": []
    },
    {
      "cell_type": "code",
      "metadata": {
        "id": "1JZAPJI2Jm78"
      },
      "source": [
        "dg.add_weighted_edges_from([(1, 2, 0.5), (3, 1, 0.75)])"
      ],
      "execution_count": null,
      "outputs": []
    },
    {
      "cell_type": "code",
      "metadata": {
        "id": "ioLm3bfHKC1V"
      },
      "source": [
        "dg.out_degree(1)"
      ],
      "execution_count": null,
      "outputs": []
    },
    {
      "cell_type": "code",
      "metadata": {
        "id": "t_o-ZvJXJ5j0"
      },
      "source": [
        "dg.out_degree(1, weight='weight')"
      ],
      "execution_count": null,
      "outputs": []
    },
    {
      "cell_type": "code",
      "metadata": {
        "id": "jqaSxQRCKLt1"
      },
      "source": [
        "list(dg.neighbors(1))"
      ],
      "execution_count": null,
      "outputs": []
    },
    {
      "cell_type": "code",
      "metadata": {
        "id": "VUZEHfB2KSNd"
      },
      "source": [
        "list(dg.neighbors(2))"
      ],
      "execution_count": null,
      "outputs": []
    },
    {
      "cell_type": "code",
      "metadata": {
        "id": "MdtAGQKcKf_d"
      },
      "source": [
        "list(dg.neighbors(3))"
      ],
      "execution_count": null,
      "outputs": []
    },
    {
      "cell_type": "code",
      "metadata": {
        "id": "uwnfVJybKoI0"
      },
      "source": [
        "nx.draw(dg, with_labels=True, node_color='black', font_color='white')"
      ],
      "execution_count": null,
      "outputs": []
    },
    {
      "cell_type": "markdown",
      "metadata": {
        "id": "R0zR8QTp6l64"
      },
      "source": [
        "***무방향 그래프를 방향성 그래프로 변환***"
      ]
    },
    {
      "cell_type": "code",
      "metadata": {
        "id": "I8FMZWReJlxE"
      },
      "source": [
        "dg_n = nx.DiGraph(g)"
      ],
      "execution_count": null,
      "outputs": []
    },
    {
      "cell_type": "code",
      "metadata": {
        "id": "vS8X3RkbJSgF"
      },
      "source": [
        "nx.draw(dg_n, with_labels=True, node_color='black', font_color='white')"
      ],
      "execution_count": null,
      "outputs": []
    },
    {
      "cell_type": "markdown",
      "metadata": {
        "id": "CRvdmM0DJXC9"
      },
      "source": [
        "## 그래프 생성 및 조작"
      ]
    },
    {
      "cell_type": "markdown",
      "metadata": {
        "id": "E5FmvPJUOvJv"
      },
      "source": [
        "* subgraph(G, nbunch) - induce subgraph of G on nodes in nbunch\n",
        "* union(G1,G2) - graph union\n",
        "* disjoint_union(G1,G2) - graph union assuming all nodes are different\n",
        "* cartesian_product(G1,G2) - return Cartesian product graph\n",
        "* compose(G1,G2) - combine graphs identifying nodes common to both\n",
        "* complement(G) - graph complement\n",
        "* create_empty_copy(G) - return an empty copy of the same graph class\n",
        "* convert_to_undirected(G) - return an undirected representation of G\n",
        "* convert_to_directed(G)"
      ]
    },
    {
      "cell_type": "markdown",
      "metadata": {
        "id": "D6FVSnKdQeyl"
      },
      "source": [
        "### subgraph"
      ]
    },
    {
      "cell_type": "code",
      "metadata": {
        "id": "WJPvv6IqPHWl"
      },
      "source": [
        "g = nx.Graph()"
      ],
      "execution_count": null,
      "outputs": []
    },
    {
      "cell_type": "code",
      "metadata": {
        "id": "lAio06-ePKxu"
      },
      "source": [
        "g.add_edges_from([(1,2), (1,4), (2, 3), (3, 4), (4, 5), (1, 5)])"
      ],
      "execution_count": null,
      "outputs": []
    },
    {
      "cell_type": "code",
      "metadata": {
        "id": "Ozd6FGyNPWp9"
      },
      "source": [
        "nx.draw(g, with_labels=True)"
      ],
      "execution_count": null,
      "outputs": []
    },
    {
      "cell_type": "code",
      "metadata": {
        "id": "-xFqiAzrPxMd"
      },
      "source": [
        "list(nx.subgraph(g, [3,2,5]))"
      ],
      "execution_count": null,
      "outputs": []
    },
    {
      "cell_type": "code",
      "metadata": {
        "id": "8W0JUL9EO5LV"
      },
      "source": [
        "nx.draw(nx.subgraph(g, [3,2,5]), with_labels=True)"
      ],
      "execution_count": null,
      "outputs": []
    },
    {
      "cell_type": "markdown",
      "metadata": {
        "id": "fHZoT3ZnPGnt"
      },
      "source": [
        "###그래프 결합 방안 예"
      ]
    },
    {
      "cell_type": "markdown",
      "metadata": {
        "id": "9UT4GlVtO-_9"
      },
      "source": [
        "#### 그래프 생성"
      ]
    },
    {
      "cell_type": "code",
      "metadata": {
        "id": "0kshaxnhQ37F"
      },
      "source": [
        "g1 = nx.Graph()\n",
        "g1.add_edges_from([(1,2), (1,4), (2,3), (3,4), (4,5), (1,5)])"
      ],
      "execution_count": null,
      "outputs": []
    },
    {
      "cell_type": "code",
      "metadata": {
        "id": "MNyz0we0RCPG"
      },
      "source": [
        "nx.draw(g1, with_labels=True,node_size=600, font_size=20, font_color='white', edge_color='red', node_color='black')"
      ],
      "execution_count": null,
      "outputs": []
    },
    {
      "cell_type": "code",
      "metadata": {
        "id": "GQiP9dzdQ-wl"
      },
      "source": [
        "g2 = nx.Graph()\n",
        "g2.add_edges_from([('a','b'), ('c', 'd'), ('a', 'd')])"
      ],
      "execution_count": null,
      "outputs": []
    },
    {
      "cell_type": "code",
      "metadata": {
        "id": "V8RrN8URREH-"
      },
      "source": [
        "nx.draw(g2, with_labels=True,node_size=600, font_size=20, font_color='white', edge_color='red', node_color='black')"
      ],
      "execution_count": null,
      "outputs": []
    },
    {
      "cell_type": "markdown",
      "metadata": {
        "id": "urx5RP97RXo-"
      },
      "source": [
        "#### Union"
      ]
    },
    {
      "cell_type": "code",
      "metadata": {
        "id": "29yXkerOSgvi"
      },
      "source": [
        "union_g = nx.union(g1, g2)"
      ],
      "execution_count": null,
      "outputs": []
    },
    {
      "cell_type": "code",
      "metadata": {
        "id": "Kl0z18BqTV52"
      },
      "source": [
        "nx.draw(union_g, with_labels=True,node_size=600, font_size=20, font_color='white', edge_color='red', node_color='black')"
      ],
      "execution_count": null,
      "outputs": []
    },
    {
      "cell_type": "code",
      "metadata": {
        "id": "13e3Tm6dSj8H"
      },
      "source": [
        "dis_union_g = nx.disjoint_union(g1, g2)"
      ],
      "execution_count": null,
      "outputs": []
    },
    {
      "cell_type": "code",
      "metadata": {
        "id": "gwE9nvYzS0n-"
      },
      "source": [
        "nx.draw(dis_union_g, with_labels=True,node_size=600, font_size=20, font_color='white', edge_color='red', node_color='black')"
      ],
      "execution_count": null,
      "outputs": []
    },
    {
      "cell_type": "markdown",
      "metadata": {
        "id": "IAFMmYW1UCTN"
      },
      "source": [
        "#### Compose"
      ]
    },
    {
      "cell_type": "code",
      "metadata": {
        "id": "XR2UNQwIUxil"
      },
      "source": [
        "g3 = nx.Graph()\n",
        "g4 = nx.Graph()\n",
        "g3.add_edges_from([('a','b'), ('c', 'd'), ('a', 'd')])\n",
        "g4.add_edges_from([(1,2),('a','b'), (1,'a'),(2,'b')])"
      ],
      "execution_count": null,
      "outputs": []
    },
    {
      "cell_type": "code",
      "metadata": {
        "id": "0cfQSG9fVTTV"
      },
      "source": [
        "nx.draw(g3, with_labels=True,node_size=600, font_size=20, font_color='white', edge_color='red', node_color='black')"
      ],
      "execution_count": null,
      "outputs": []
    },
    {
      "cell_type": "code",
      "metadata": {
        "id": "JiPIxB4yVVQe"
      },
      "source": [
        "nx.draw(g4, with_labels=True,node_size=600, font_size=20, font_color='white', edge_color='red', node_color='black')"
      ],
      "execution_count": null,
      "outputs": []
    },
    {
      "cell_type": "code",
      "metadata": {
        "id": "eUd2xOcNU8bm"
      },
      "source": [
        "com_g = nx.compose(g3,g4)"
      ],
      "execution_count": null,
      "outputs": []
    },
    {
      "cell_type": "code",
      "metadata": {
        "id": "-UaevJBFUKJ-"
      },
      "source": [
        "list(com_g.edges())"
      ],
      "execution_count": null,
      "outputs": []
    },
    {
      "cell_type": "code",
      "metadata": {
        "id": "57wa4GajT72n"
      },
      "source": [
        "nx.draw(com_g, with_labels=True,node_size=600, font_size=20, font_color='white', edge_color='red', node_color='black')"
      ],
      "execution_count": null,
      "outputs": []
    },
    {
      "cell_type": "code",
      "metadata": {
        "id": "AW3uiteHT_EO"
      },
      "source": [
        "com_g = nx.union(g3,g4)"
      ],
      "execution_count": null,
      "outputs": []
    },
    {
      "cell_type": "markdown",
      "metadata": {
        "id": "ZiHINzNtYw8L"
      },
      "source": [
        "#### complement"
      ]
    },
    {
      "cell_type": "code",
      "metadata": {
        "id": "YqPQQnIMZbNW"
      },
      "source": [
        "nx.draw(g4, with_labels=True,node_size=600, font_size=20, font_color='white', edge_color='red', node_color='black')"
      ],
      "execution_count": null,
      "outputs": []
    },
    {
      "cell_type": "code",
      "metadata": {
        "id": "nf3lttRrY-iO"
      },
      "source": [
        "nx.draw(nx.complement(g4), with_labels=True,node_size=600, font_size=20, font_color='white', edge_color='red', node_color='black')"
      ],
      "execution_count": null,
      "outputs": []
    }
  ]
}