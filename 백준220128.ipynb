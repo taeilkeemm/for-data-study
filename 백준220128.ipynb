{
  "nbformat": 4,
  "nbformat_minor": 0,
  "metadata": {
    "colab": {
      "name": "백준220128.ipynb",
      "provenance": [],
      "collapsed_sections": [],
      "authorship_tag": "ABX9TyP/A7nH/VXJmDjdnvFSH2AZ",
      "include_colab_link": true
    },
    "kernelspec": {
      "name": "python3",
      "display_name": "Python 3"
    },
    "language_info": {
      "name": "python"
    }
  },
  "cells": [
    {
      "cell_type": "markdown",
      "metadata": {
        "id": "view-in-github",
        "colab_type": "text"
      },
      "source": [
        "<a href=\"https://colab.research.google.com/github/taeilkeemm/fordatastudy/blob/main/%EB%B0%B1%EC%A4%80220128.ipynb\" target=\"_parent\"><img src=\"https://colab.research.google.com/assets/colab-badge.svg\" alt=\"Open In Colab\"/></a>"
      ]
    },
    {
      "cell_type": "code",
      "execution_count": 5,
      "metadata": {
        "colab": {
          "base_uri": "https://localhost:8080/"
        },
        "id": "UDZLKixRHqso",
        "outputId": "60d4aed7-5512-48cf-8c6e-f1ac7fc20e07"
      },
      "outputs": [
        {
          "output_type": "stream",
          "name": "stdout",
          "text": [
            "6\n",
            "AAABBB\n",
            "Tie\n"
          ]
        }
      ],
      "source": [
        "t = int(input())\n",
        "score = str(input())\n",
        "a = score.count('A')\n",
        "if a > (t/2):\n",
        "  print('A')\n",
        "elif a == (t/2):\n",
        "  print('Tie')\n",
        "elif a < (t/2):\n",
        "  print('B')"
      ]
    },
    {
      "cell_type": "code",
      "source": [
        "t = int(input())\n",
        "k = []\n",
        "for _ in range(t):\n",
        "  a = int(input())\n",
        "  k.append(a)\n",
        "if k.count(1) > (len(k)/2):\n",
        "  print('Junhee is cute!')\n",
        "else:\n",
        "  print('Junhee is not cute!')"
      ],
      "metadata": {
        "colab": {
          "base_uri": "https://localhost:8080/"
        },
        "id": "S_zvQin8Ibgm",
        "outputId": "ccc75ea5-7a09-4d3f-e719-8a2f4e3efb94"
      },
      "execution_count": 6,
      "outputs": [
        {
          "output_type": "stream",
          "name": "stdout",
          "text": [
            "6\n",
            "1\n",
            "1\n",
            "1\n",
            "0\n",
            "0\n",
            "0\n",
            "Junhee is not cute!\n"
          ]
        }
      ]
    },
    {
      "cell_type": "code",
      "source": [
        "word = str(input())\n",
        "if word == word[::-1]:\n",
        "  print('1')\n",
        "else:\n",
        "  print('0')"
      ],
      "metadata": {
        "colab": {
          "base_uri": "https://localhost:8080/"
        },
        "id": "F0J0I0K2J7Uz",
        "outputId": "56172708-3dc2-42ba-f856-4c8b1149730c"
      },
      "execution_count": 7,
      "outputs": [
        {
          "output_type": "stream",
          "name": "stdout",
          "text": [
            "noon\n",
            "1\n"
          ]
        }
      ]
    },
    {
      "cell_type": "code",
      "source": [
        "while True:\n",
        "  a, b = map(int, input().split())\n",
        "  if a ==0 and b == 0:\n",
        "    break\n",
        "  elif a%b == 0:\n",
        "    print('multiple')\n",
        "  elif b%a == 0:\n",
        "    print('factor')\n",
        "  else:\n",
        "    print('neither')"
      ],
      "metadata": {
        "id": "EHZPtOGjKHGp"
      },
      "execution_count": null,
      "outputs": []
    },
    {
      "cell_type": "code",
      "source": [
        "while True:\n",
        "  a, b = map(int, input().split())\n",
        "  if a == 0 and b == 0:\n",
        "    break\n",
        "  else:\n",
        "    print(a+b)"
      ],
      "metadata": {
        "colab": {
          "base_uri": "https://localhost:8080/"
        },
        "id": "xsL1mrpFLHdk",
        "outputId": "fa52dd9c-7c8b-4209-e078-bed21b8ece61"
      },
      "execution_count": 9,
      "outputs": [
        {
          "name": "stdout",
          "output_type": "stream",
          "text": [
            "1 2\n",
            "3\n",
            "2 2\n",
            "4\n",
            "0 0\n"
          ]
        }
      ]
    }
  ]
}