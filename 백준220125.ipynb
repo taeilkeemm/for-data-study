{
  "nbformat": 4,
  "nbformat_minor": 0,
  "metadata": {
    "colab": {
      "name": "백준220125.ipynb",
      "provenance": [],
      "collapsed_sections": [],
      "authorship_tag": "ABX9TyMe6alm0rW9ztGj3q2aTiMe",
      "include_colab_link": true
    },
    "kernelspec": {
      "name": "python3",
      "display_name": "Python 3"
    },
    "language_info": {
      "name": "python"
    }
  },
  "cells": [
    {
      "cell_type": "markdown",
      "metadata": {
        "id": "view-in-github",
        "colab_type": "text"
      },
      "source": [
        "<a href=\"https://colab.research.google.com/github/taeilkeemm/fordatastudy/blob/main/%EB%B0%B1%EC%A4%80220125.ipynb\" target=\"_parent\"><img src=\"https://colab.research.google.com/assets/colab-badge.svg\" alt=\"Open In Colab\"/></a>"
      ]
    },
    {
      "cell_type": "code",
      "execution_count": 1,
      "metadata": {
        "colab": {
          "base_uri": "https://localhost:8080/"
        },
        "id": "iruWykTHyxDD",
        "outputId": "b43564d7-399e-4222-c599-c2a87fb69b88"
      },
      "outputs": [
        {
          "output_type": "stream",
          "name": "stdout",
          "text": [
            "12 13 14\n",
            "13\n"
          ]
        }
      ],
      "source": [
        "k = list(map(int, input().split()))\n",
        "k.sort()\n",
        "print(k[1])"
      ]
    },
    {
      "cell_type": "code",
      "source": [
        "a = int(input())\n",
        "d = 2\n",
        "while d <= a:\n",
        "  if a%d == 0:\n",
        "    print(d)\n",
        "    a = a/d\n",
        "  else:\n",
        "    d = d + 1"
      ],
      "metadata": {
        "colab": {
          "base_uri": "https://localhost:8080/"
        },
        "id": "vl7Il-7k0iIQ",
        "outputId": "486006d7-f352-4daf-b8c2-58e1b7facc52"
      },
      "execution_count": 3,
      "outputs": [
        {
          "output_type": "stream",
          "name": "stdout",
          "text": [
            "72\n",
            "2\n",
            "2\n",
            "2\n",
            "3\n",
            "3\n"
          ]
        }
      ]
    },
    {
      "cell_type": "code",
      "source": [
        "s = int(input())\n",
        "d = 1\n",
        "while s >= 0:\n",
        "  s = s - d\n",
        "  d = d + 1\n",
        "print(d - 2)"
      ],
      "metadata": {
        "colab": {
          "base_uri": "https://localhost:8080/"
        },
        "id": "YUypmsRl4PcC",
        "outputId": "ed69e858-60e7-4d0b-e396-4b0d5bfbb3b2"
      },
      "execution_count": 7,
      "outputs": [
        {
          "output_type": "stream",
          "name": "stdout",
          "text": [
            "1\n",
            "1\n"
          ]
        }
      ]
    },
    {
      "cell_type": "code",
      "source": [
        "k = []\n",
        "for i in range(5):\n",
        "  a = int(input())\n",
        "  if a <= 40:\n",
        "    a = 40\n",
        "  k.append(a)\n",
        "print(int(sum(k)/len(k)))"
      ],
      "metadata": {
        "colab": {
          "base_uri": "https://localhost:8080/"
        },
        "id": "ILq3SghAAOne",
        "outputId": "242842b7-b12f-454c-ed97-805a23800b7c"
      },
      "execution_count": 8,
      "outputs": [
        {
          "output_type": "stream",
          "name": "stdout",
          "text": [
            "35\n",
            "40\n",
            "25\n",
            "20\n",
            "15\n",
            "40.0\n"
          ]
        }
      ]
    },
    {
      "cell_type": "code",
      "source": [
        "k = int(input())\n",
        "for _ in range(k):\n",
        "  a, b = map(int, input().split())\n",
        "  for i in range(max(a, b), (a*b+1)):\n",
        "    if i%a == 0 and i%b == 0:\n",
        "      print(i)\n",
        "      break"
      ],
      "metadata": {
        "colab": {
          "base_uri": "https://localhost:8080/"
        },
        "id": "im1xR_NqF4Og",
        "outputId": "b63384ba-4ac7-4b41-b32f-758c31ae3947"
      },
      "execution_count": 11,
      "outputs": [
        {
          "output_type": "stream",
          "name": "stdout",
          "text": [
            "3\n",
            "1 23\n",
            "23\n",
            "2 4\n",
            "4\n",
            "8\n",
            "3 4\n",
            "12\n"
          ]
        }
      ]
    },
    {
      "cell_type": "code",
      "source": [
        "k = int(input())\n",
        "for _ in range(k):\n",
        "  a, b = map(int, input().split())\n",
        "  aa,bb=a,b\n",
        "  while a%b!=0:\n",
        "    a,b=b,a%b\n",
        "  print(aa*bb//b)"
      ],
      "metadata": {
        "colab": {
          "base_uri": "https://localhost:8080/"
        },
        "id": "zBMmQy0fVyFu",
        "outputId": "87be2662-c0d2-496d-ef2a-35ba7ec1e072"
      },
      "execution_count": 14,
      "outputs": [
        {
          "output_type": "stream",
          "name": "stdout",
          "text": [
            "3\n",
            "10 6\n",
            "30\n",
            "1 2\n",
            "2\n",
            "1 23\n",
            "23\n"
          ]
        }
      ]
    },
    {
      "cell_type": "code",
      "source": [
        ""
      ],
      "metadata": {
        "id": "NRTCeaZMXSwO"
      },
      "execution_count": null,
      "outputs": []
    }
  ]
}