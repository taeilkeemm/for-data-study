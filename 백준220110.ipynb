{
  "nbformat": 4,
  "nbformat_minor": 0,
  "metadata": {
    "colab": {
      "name": "백준220110.ipynb",
      "provenance": [],
      "collapsed_sections": [],
      "authorship_tag": "ABX9TyMTok7tSeZzT3BMlxJrAsIr",
      "include_colab_link": true
    },
    "kernelspec": {
      "name": "python3",
      "display_name": "Python 3"
    },
    "language_info": {
      "name": "python"
    }
  },
  "cells": [
    {
      "cell_type": "markdown",
      "metadata": {
        "id": "view-in-github",
        "colab_type": "text"
      },
      "source": [
        "<a href=\"https://colab.research.google.com/github/taeilkeemm/fordatastudy/blob/main/%EB%B0%B1%EC%A4%80220110.ipynb\" target=\"_parent\"><img src=\"https://colab.research.google.com/assets/colab-badge.svg\" alt=\"Open In Colab\"/></a>"
      ]
    },
    {
      "cell_type": "code",
      "execution_count": null,
      "metadata": {
        "id": "bPFtbE2EhXHR"
      },
      "outputs": [],
      "source": [
        "k = int(input())\n",
        "while True:\n",
        "  try:\n",
        "    a = str(input())\n",
        "    num = 0\n",
        "    plus = 1\n",
        "    for i in range(len(a)):\n",
        "      if a[i] == \"O\":\n",
        "        num = num + plus\n",
        "        plus = plus + 1\n",
        "      elif a[i] == \"X\":\n",
        "        plus = 1\n",
        "    print(num)\n",
        "  except:\n",
        "    break\n",
        "\n"
      ]
    },
    {
      "cell_type": "code",
      "source": [
        "k = int(input())\n",
        "while True:\n",
        "  try:\n",
        "    a = list(map(float, input().split()))\n",
        "    num_st = a[0]\n",
        "    a = a[1:]\n",
        "    n = 0\n",
        "    for i in range(len(a)):\n",
        "      if a[i] > (sum(a)/num_st):\n",
        "        n = n + 1\n",
        "    print(\"{:.3f}%\".format(((n*100)/num_st)))\n",
        "  except:\n",
        "    break"
      ],
      "metadata": {
        "colab": {
          "base_uri": "https://localhost:8080/"
        },
        "id": "a9NlNEeHkOdI",
        "outputId": "11dd8283-db8a-452a-b9b7-92c53db01768"
      },
      "execution_count": 18,
      "outputs": [
        {
          "output_type": "stream",
          "name": "stdout",
          "text": [
            "5\n",
            "5 50 50 70 80 100\n",
            "40.000%\n"
          ]
        }
      ]
    },
    {
      "cell_type": "code",
      "source": [
        "def solve(a):\n",
        "  s = int(sum(a))\n",
        "  return s"
      ],
      "metadata": {
        "id": "9PC2ZD1Ws-tQ"
      },
      "execution_count": 19,
      "outputs": []
    },
    {
      "cell_type": "code",
      "source": [
        ""
      ],
      "metadata": {
        "id": "reGN0yZYs_jv"
      },
      "execution_count": null,
      "outputs": []
    }
  ]
}