{
  "nbformat": 4,
  "nbformat_minor": 0,
  "metadata": {
    "colab": {
      "name": "공공조달(220129).ipynb",
      "provenance": [],
      "collapsed_sections": [],
      "authorship_tag": "ABX9TyMCTk9E015m9LqXDwGdtSXK",
      "include_colab_link": true
    },
    "kernelspec": {
      "name": "python3",
      "display_name": "Python 3"
    },
    "language_info": {
      "name": "python"
    }
  },
  "cells": [
    {
      "cell_type": "markdown",
      "metadata": {
        "id": "view-in-github",
        "colab_type": "text"
      },
      "source": [
        "<a href=\"https://colab.research.google.com/github/taeilkeemm/fordatastudy/blob/main/%EA%B3%B5%EA%B3%B5%EC%A1%B0%EB%8B%AC(220129).ipynb\" target=\"_parent\"><img src=\"https://colab.research.google.com/assets/colab-badge.svg\" alt=\"Open In Colab\"/></a>"
      ]
    },
    {
      "cell_type": "code",
      "execution_count": 1,
      "metadata": {
        "id": "xJ2iAY_JKNRB"
      },
      "outputs": [],
      "source": [
        "##데이터 전처리 라이브러리 불러오기\n",
        "import pandas as pd\n",
        "import numpy as np\n",
        "import matplotlib.pyplot as plt\n",
        "import matplotlib.pyplot as plt\n",
        "import seaborn as sns"
      ]
    },
    {
      "cell_type": "code",
      "source": [
        "##1년단위 조달청 별 데이터 불러오기\n",
        "df20 = pd.read_csv(\"경남20.csv\")\n",
        "df21 = pd.read_csv(\"경남21.csv\")"
      ],
      "metadata": {
        "colab": {
          "base_uri": "https://localhost:8080/"
        },
        "id": "4XMuJ5TyKRqe",
        "outputId": "56972ac9-d0fc-4545-b6d4-6d941d6e2652"
      },
      "execution_count": 7,
      "outputs": [
        {
          "output_type": "stream",
          "name": "stderr",
          "text": [
            "/usr/local/lib/python3.7/dist-packages/IPython/core/interactiveshell.py:2718: DtypeWarning: Columns (14) have mixed types.Specify dtype option on import or set low_memory=False.\n",
            "  interactivity=interactivity, compiler=compiler, result=result)\n"
          ]
        }
      ]
    },
    {
      "cell_type": "code",
      "source": [
        "##2년 단위 조달청 데이터로 합치기\n",
        "df2021 = pd.concat([df20, df21])\n",
        "df2021.to_csv(\"경남지방조달청.csv\")"
      ],
      "metadata": {
        "id": "3HDrARehK80J"
      },
      "execution_count": 8,
      "outputs": []
    },
    {
      "cell_type": "code",
      "source": [
        "##원하는 조달청 데이터 불러오기\n",
        "name = str(input(\"원하시는 조달청의 이름을 입력해주세요.\"))\n",
        "df = pd.read_csv(\"{}.csv\".format(name))"
      ],
      "metadata": {
        "colab": {
          "base_uri": "https://localhost:8080/"
        },
        "id": "VBrzO7oYMNtk",
        "outputId": "e6d19cf5-1d1d-4c1a-b782-b819c6af381b"
      },
      "execution_count": 31,
      "outputs": [
        {
          "name": "stdout",
          "output_type": "stream",
          "text": [
            "원하시는 조달청의 이름을 입력해주세요.전북지방조달청\n"
          ]
        },
        {
          "output_type": "stream",
          "name": "stderr",
          "text": [
            "/usr/local/lib/python3.7/dist-packages/IPython/core/interactiveshell.py:2718: DtypeWarning: Columns (15) have mixed types.Specify dtype option on import or set low_memory=False.\n",
            "  interactivity=interactivity, compiler=compiler, result=result)\n"
          ]
        }
      ]
    },
    {
      "cell_type": "code",
      "source": [
        "##칼럼명 확인\n",
        "df.columns"
      ],
      "metadata": {
        "colab": {
          "base_uri": "https://localhost:8080/"
        },
        "id": "1dzjUJyXNFMW",
        "outputId": "2b7218a1-5c72-4f06-ba79-880abd80e8d0"
      },
      "execution_count": 32,
      "outputs": [
        {
          "output_type": "execute_result",
          "data": {
            "text/plain": [
              "Index(['Unnamed: 0', '납품요구번호', '납품요구변경차수', '수요기관명', '납품요구접수일자', '납품요구건명',\n",
              "       '업체명', '대표물품분류번호', '대표품명', '대표세부물품분류번호', '대표세부품명', '증감납품요구수량',\n",
              "       '증감납품요구금액', '최대납품기한', '계약구분', '계약번호', '계약변경차수', '다수공급자계약여부', '우수제품여부',\n",
              "       '최종납품요구여부', '최초납품요구접수일자', '최초납품요구금액', '수요기관코드', '수요기관구분', '수요기관지역명',\n",
              "       '업체사업자등록번호', '업체기업구분명', '납품요구지청명'],\n",
              "      dtype='object')"
            ]
          },
          "metadata": {},
          "execution_count": 32
        }
      ]
    },
    {
      "cell_type": "code",
      "source": [
        "##원하는 칼럼만 추출\n",
        "df = df[['대표세부품명', '대표세부물품분류번호', '증감납품요구수량', '증감납품요구금액']]"
      ],
      "metadata": {
        "id": "EaIXQt0WNGI9"
      },
      "execution_count": 33,
      "outputs": []
    },
    {
      "cell_type": "code",
      "source": [
        "##대표세부품명별 합계 확인\n",
        "df = df.groupby(['대표세부품명', '대표세부물품분류번호']).sum()"
      ],
      "metadata": {
        "id": "cpOtLqs_Nz4F"
      },
      "execution_count": 34,
      "outputs": []
    },
    {
      "cell_type": "code",
      "source": [
        "##납품요구수량 기준 내림차순 정렬\n",
        "df = df.sort_values('증감납품요구수량', ascending=False)"
      ],
      "metadata": {
        "id": "kYb6blsEPxQU"
      },
      "execution_count": 35,
      "outputs": []
    },
    {
      "cell_type": "code",
      "source": [
        "##증감납품요구수량 상위 10개 품목 확인\n",
        "df[:10]"
      ],
      "metadata": {
        "colab": {
          "base_uri": "https://localhost:8080/",
          "height": 394
        },
        "id": "ld2SGUnwQdO0",
        "outputId": "ccc74dfe-5a84-4f9b-a087-fa7bd7cacb29"
      },
      "execution_count": 36,
      "outputs": [
        {
          "output_type": "execute_result",
          "data": {
            "text/html": [
              "\n",
              "  <div id=\"df-4994459f-b408-4224-bf92-391af7636be4\">\n",
              "    <div class=\"colab-df-container\">\n",
              "      <div>\n",
              "<style scoped>\n",
              "    .dataframe tbody tr th:only-of-type {\n",
              "        vertical-align: middle;\n",
              "    }\n",
              "\n",
              "    .dataframe tbody tr th {\n",
              "        vertical-align: top;\n",
              "    }\n",
              "\n",
              "    .dataframe thead th {\n",
              "        text-align: right;\n",
              "    }\n",
              "</style>\n",
              "<table border=\"1\" class=\"dataframe\">\n",
              "  <thead>\n",
              "    <tr style=\"text-align: right;\">\n",
              "      <th></th>\n",
              "      <th></th>\n",
              "      <th>증감납품요구수량</th>\n",
              "      <th>증감납품요구금액</th>\n",
              "    </tr>\n",
              "    <tr>\n",
              "      <th>대표세부품명</th>\n",
              "      <th>대표세부물품분류번호</th>\n",
              "      <th></th>\n",
              "      <th></th>\n",
              "    </tr>\n",
              "  </thead>\n",
              "  <tbody>\n",
              "    <tr>\n",
              "      <th>쓰레기봉투</th>\n",
              "      <th>4712170101</th>\n",
              "      <td>9.469853e+07</td>\n",
              "      <td>7088631970</td>\n",
              "    </tr>\n",
              "    <tr>\n",
              "      <th>보건용마스크(공적판매용)</th>\n",
              "      <th>4618200106</th>\n",
              "      <td>2.816935e+07</td>\n",
              "      <td>27339534500</td>\n",
              "    </tr>\n",
              "    <tr>\n",
              "      <th>보건용마스크</th>\n",
              "      <th>4618200103</th>\n",
              "      <td>1.534161e+07</td>\n",
              "      <td>4755756800</td>\n",
              "    </tr>\n",
              "    <tr>\n",
              "      <th>콘크리트벽돌</th>\n",
              "      <th>3013160301</th>\n",
              "      <td>1.306006e+07</td>\n",
              "      <td>711536280</td>\n",
              "    </tr>\n",
              "    <tr>\n",
              "      <th>강관파일</th>\n",
              "      <th>3010280301</th>\n",
              "      <td>5.887018e+06</td>\n",
              "      <td>8261339880</td>\n",
              "    </tr>\n",
              "    <tr>\n",
              "      <th>미장벽돌</th>\n",
              "      <th>3013160202</th>\n",
              "      <td>5.768471e+06</td>\n",
              "      <td>1989374920</td>\n",
              "    </tr>\n",
              "    <tr>\n",
              "      <th>음식물쓰레기처리통</th>\n",
              "      <th>4712170202</th>\n",
              "      <td>4.488272e+06</td>\n",
              "      <td>637960530</td>\n",
              "    </tr>\n",
              "    <tr>\n",
              "      <th>레미콘</th>\n",
              "      <th>3011150501</th>\n",
              "      <td>4.395744e+06</td>\n",
              "      <td>316740469820</td>\n",
              "    </tr>\n",
              "    <tr>\n",
              "      <th>기타화초</th>\n",
              "      <th>1016169901</th>\n",
              "      <td>4.059148e+06</td>\n",
              "      <td>3212227050</td>\n",
              "    </tr>\n",
              "    <tr>\n",
              "      <th>금속제창</th>\n",
              "      <th>3017169801</th>\n",
              "      <td>3.307445e+06</td>\n",
              "      <td>44923558420</td>\n",
              "    </tr>\n",
              "  </tbody>\n",
              "</table>\n",
              "</div>\n",
              "      <button class=\"colab-df-convert\" onclick=\"convertToInteractive('df-4994459f-b408-4224-bf92-391af7636be4')\"\n",
              "              title=\"Convert this dataframe to an interactive table.\"\n",
              "              style=\"display:none;\">\n",
              "        \n",
              "  <svg xmlns=\"http://www.w3.org/2000/svg\" height=\"24px\"viewBox=\"0 0 24 24\"\n",
              "       width=\"24px\">\n",
              "    <path d=\"M0 0h24v24H0V0z\" fill=\"none\"/>\n",
              "    <path d=\"M18.56 5.44l.94 2.06.94-2.06 2.06-.94-2.06-.94-.94-2.06-.94 2.06-2.06.94zm-11 1L8.5 8.5l.94-2.06 2.06-.94-2.06-.94L8.5 2.5l-.94 2.06-2.06.94zm10 10l.94 2.06.94-2.06 2.06-.94-2.06-.94-.94-2.06-.94 2.06-2.06.94z\"/><path d=\"M17.41 7.96l-1.37-1.37c-.4-.4-.92-.59-1.43-.59-.52 0-1.04.2-1.43.59L10.3 9.45l-7.72 7.72c-.78.78-.78 2.05 0 2.83L4 21.41c.39.39.9.59 1.41.59.51 0 1.02-.2 1.41-.59l7.78-7.78 2.81-2.81c.8-.78.8-2.07 0-2.86zM5.41 20L4 18.59l7.72-7.72 1.47 1.35L5.41 20z\"/>\n",
              "  </svg>\n",
              "      </button>\n",
              "      \n",
              "  <style>\n",
              "    .colab-df-container {\n",
              "      display:flex;\n",
              "      flex-wrap:wrap;\n",
              "      gap: 12px;\n",
              "    }\n",
              "\n",
              "    .colab-df-convert {\n",
              "      background-color: #E8F0FE;\n",
              "      border: none;\n",
              "      border-radius: 50%;\n",
              "      cursor: pointer;\n",
              "      display: none;\n",
              "      fill: #1967D2;\n",
              "      height: 32px;\n",
              "      padding: 0 0 0 0;\n",
              "      width: 32px;\n",
              "    }\n",
              "\n",
              "    .colab-df-convert:hover {\n",
              "      background-color: #E2EBFA;\n",
              "      box-shadow: 0px 1px 2px rgba(60, 64, 67, 0.3), 0px 1px 3px 1px rgba(60, 64, 67, 0.15);\n",
              "      fill: #174EA6;\n",
              "    }\n",
              "\n",
              "    [theme=dark] .colab-df-convert {\n",
              "      background-color: #3B4455;\n",
              "      fill: #D2E3FC;\n",
              "    }\n",
              "\n",
              "    [theme=dark] .colab-df-convert:hover {\n",
              "      background-color: #434B5C;\n",
              "      box-shadow: 0px 1px 3px 1px rgba(0, 0, 0, 0.15);\n",
              "      filter: drop-shadow(0px 1px 2px rgba(0, 0, 0, 0.3));\n",
              "      fill: #FFFFFF;\n",
              "    }\n",
              "  </style>\n",
              "\n",
              "      <script>\n",
              "        const buttonEl =\n",
              "          document.querySelector('#df-4994459f-b408-4224-bf92-391af7636be4 button.colab-df-convert');\n",
              "        buttonEl.style.display =\n",
              "          google.colab.kernel.accessAllowed ? 'block' : 'none';\n",
              "\n",
              "        async function convertToInteractive(key) {\n",
              "          const element = document.querySelector('#df-4994459f-b408-4224-bf92-391af7636be4');\n",
              "          const dataTable =\n",
              "            await google.colab.kernel.invokeFunction('convertToInteractive',\n",
              "                                                     [key], {});\n",
              "          if (!dataTable) return;\n",
              "\n",
              "          const docLinkHtml = 'Like what you see? Visit the ' +\n",
              "            '<a target=\"_blank\" href=https://colab.research.google.com/notebooks/data_table.ipynb>data table notebook</a>'\n",
              "            + ' to learn more about interactive tables.';\n",
              "          element.innerHTML = '';\n",
              "          dataTable['output_type'] = 'display_data';\n",
              "          await google.colab.output.renderOutput(dataTable, element);\n",
              "          const docLink = document.createElement('div');\n",
              "          docLink.innerHTML = docLinkHtml;\n",
              "          element.appendChild(docLink);\n",
              "        }\n",
              "      </script>\n",
              "    </div>\n",
              "  </div>\n",
              "  "
            ],
            "text/plain": [
              "                              증감납품요구수량      증감납품요구금액\n",
              "대표세부품명        대표세부물품분류번호                            \n",
              "쓰레기봉투         4712170101  9.469853e+07    7088631970\n",
              "보건용마스크(공적판매용) 4618200106  2.816935e+07   27339534500\n",
              "보건용마스크        4618200103  1.534161e+07    4755756800\n",
              "콘크리트벽돌        3013160301  1.306006e+07     711536280\n",
              "강관파일          3010280301  5.887018e+06    8261339880\n",
              "미장벽돌          3013160202  5.768471e+06    1989374920\n",
              "음식물쓰레기처리통     4712170202  4.488272e+06     637960530\n",
              "레미콘           3011150501  4.395744e+06  316740469820\n",
              "기타화초          1016169901  4.059148e+06    3212227050\n",
              "금속제창          3017169801  3.307445e+06   44923558420"
            ]
          },
          "metadata": {},
          "execution_count": 36
        }
      ]
    },
    {
      "cell_type": "code",
      "source": [
        ""
      ],
      "metadata": {
        "id": "8VCEaVL8Rr9Y"
      },
      "execution_count": null,
      "outputs": []
    }
  ]
}